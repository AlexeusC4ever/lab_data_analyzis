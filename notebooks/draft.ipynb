{
 "cells": [
  {
   "cell_type": "code",
   "execution_count": 6,
   "metadata": {},
   "outputs": [],
   "source": [
    "import pandas as pd\n",
    "import numpy as np\n",
    "import seaborn as sns\n",
    "from matplotlib import pyplot as plt\n",
    "import os"
   ]
  },
  {
   "cell_type": "code",
   "execution_count": 8,
   "metadata": {},
   "outputs": [
    {
     "name": "stdout",
     "output_type": "stream",
     "text": [
      "C:\\git\\lab_data_science\n"
     ]
    }
   ],
   "source": [
    "# cd ../"
   ]
  },
  {
   "cell_type": "code",
   "execution_count": 9,
   "metadata": {},
   "outputs": [],
   "source": [
    "raw_path = 'data/raw/'\n",
    "train = pd.read_csv(os.path.join(raw_path, 'train.csv'))\n",
    "test = pd.read_csv(os.path.join(raw_path, 'test.csv'))"
   ]
  },
  {
   "cell_type": "code",
   "execution_count": 10,
   "metadata": {},
   "outputs": [],
   "source": [
    "TARGET_COLS = ['Артериальная гипертензия', 'ОНМК', 'Стенокардия, ИБС, инфаркт миокарда', 'Сердечная недостаточность', 'Прочие заболевания сердца']\n",
    "ID_COL = 'ID'\n",
    "EDU_COL = 'Образование'\n",
    "SEX_COL = 'Пол'\n",
    "CAT_COLS = [\n",
    "    'Пол', 'Семья', 'Этнос', 'Национальность', 'Религия', 'Образование', \n",
    "    'Профессия', 'Статус Курения', 'Частота пасс кур', 'Алкоголь',\n",
    "    'Время засыпания', 'Время пробуждения'\n",
    "]\n",
    "OHE_COLS = [\n",
    "    'Пол', 'Вы работаете?', 'Выход на пенсию', 'Прекращение работы по болезни', 'Сахарный диабет', 'Гепатит',\n",
    "    'Онкология', 'Хроническое заболевание легких', 'Бронжиальная астма', 'Туберкулез легких ', 'ВИЧ/СПИД',\n",
    "    'Регулярный прим лекарственных средств', 'Травмы за год', 'Переломы','Пассивное курение', 'Сон после обеда', \n",
    "    'Спорт, клубы', 'Религия, клубы'\n",
    "]\n",
    "REAL_COLS = ['Возраст курения', 'Сигарет в день', 'Возраст алког']"
   ]
  },
  {
   "cell_type": "code",
   "execution_count": 11,
   "metadata": {},
   "outputs": [],
   "source": [
    "def set_idx(df: pd.DataFrame, idx_col: str) -> pd.DataFrame:\n",
    "    df = df.set_index(idx_col)\n",
    "    return df"
   ]
  },
  {
   "cell_type": "code",
   "execution_count": 12,
   "metadata": {},
   "outputs": [],
   "source": [
    "train = train.set_index(ID_COL)\n",
    "test = test.set_index(ID_COL)"
   ]
  },
  {
   "cell_type": "code",
   "execution_count": 13,
   "metadata": {},
   "outputs": [],
   "source": [
    "train, target = train.drop(TARGET_COLS, axis=1), train[TARGET_COLS]"
   ]
  },
  {
   "cell_type": "code",
   "execution_count": 14,
   "metadata": {},
   "outputs": [
    {
     "ename": "TypeError",
     "evalue": "pipe() missing 1 required positional argument: 'func'",
     "output_type": "error",
     "traceback": [
      "\u001b[1;31m---------------------------------------------------------------------------\u001b[0m",
      "\u001b[1;31mTypeError\u001b[0m                                 Traceback (most recent call last)",
      "Cell \u001b[1;32mIn [14], line 1\u001b[0m\n\u001b[1;32m----> 1\u001b[0m train\u001b[38;5;241m.\u001b[39mpipe()\n",
      "\u001b[1;31mTypeError\u001b[0m: pipe() missing 1 required positional argument: 'func'"
     ]
    }
   ],
   "source": [
    "# train.pipe()"
   ]
  },
  {
   "cell_type": "code",
   "execution_count": 15,
   "metadata": {},
   "outputs": [],
   "source": [
    "def preprocess(df: pd.DataFrame) -> pd.DataFrame:\n",
    "    df = set_idx(df, ID_COL)\n",
    "    df = drop_unnecesary_id(df)\n",
    "    df = fill_sex(df)\n",
    "    df = cast_types(df)\n",
    "    return df\n",
    "    \n",
    "    "
   ]
  },
  {
   "cell_type": "code",
   "execution_count": 16,
   "metadata": {},
   "outputs": [],
   "source": [
    "def drop_unnecesary_id(df: pd.DataFrame) -> pd.DataFrame:\n",
    "    if 'ID_y' in df.columns:\n",
    "        df = df.drop('ID_y', axis=1)\n",
    "    return df"
   ]
  },
  {
   "cell_type": "code",
   "execution_count": 17,
   "metadata": {},
   "outputs": [],
   "source": [
    "train = drop_unnecesary_id(train)"
   ]
  },
  {
   "cell_type": "code",
   "execution_count": 18,
   "metadata": {},
   "outputs": [],
   "source": [
    "def add_ord_edu(df: pd.DataFrame) -> pd.DataFrame:\n",
    "    df[f'{EDU_COL}_ord'] = df[EDU_COL].str.slice(0, 1).astype(np.int8).values\n",
    "    return df"
   ]
  },
  {
   "cell_type": "code",
   "execution_count": 19,
   "metadata": {},
   "outputs": [],
   "source": [
    "train = add_ord_edu(train)\n",
    "test = add_ord_edu(test)"
   ]
  },
  {
   "cell_type": "code",
   "execution_count": 20,
   "metadata": {},
   "outputs": [],
   "source": [
    "def fill_sex(df: pd.DataFrame) -> pd.DataFrame:\n",
    "    most_freq = df[SEX_COL].value_counts().index[0]\n",
    "    df[SEX_COL] = df[SEX_COL].fillna(most_freq)\n",
    "    return df"
   ]
  },
  {
   "cell_type": "code",
   "execution_count": 21,
   "metadata": {},
   "outputs": [],
   "source": [
    "def cast_types(df: pd.DataFrame) -> pd.DataFrame:\n",
    "    df[CAT_COLS] = df[CAT_COLS].astype('category')\n",
    "\n",
    "    ohe_int_cols = train[OHE_COLS].select_dtypes('number').columns\n",
    "    df[ohe_int_cols] = df[ohe_int_cols].astype(np.int8)\n",
    "\n",
    "    df[REAL_COLS] = df[REAL_COLS].astype(np.float32)\n",
    "    return df\n",
    "    "
   ]
  },
  {
   "cell_type": "code",
   "execution_count": 24,
   "metadata": {},
   "outputs": [
    {
     "data": {
      "text/html": [
       "<div>\n",
       "<style scoped>\n",
       "    .dataframe tbody tr th:only-of-type {\n",
       "        vertical-align: middle;\n",
       "    }\n",
       "\n",
       "    .dataframe tbody tr th {\n",
       "        vertical-align: top;\n",
       "    }\n",
       "\n",
       "    .dataframe thead th {\n",
       "        text-align: right;\n",
       "    }\n",
       "</style>\n",
       "<table border=\"1\" class=\"dataframe\">\n",
       "  <thead>\n",
       "    <tr style=\"text-align: right;\">\n",
       "      <th></th>\n",
       "      <th>Артериальная гипертензия</th>\n",
       "      <th>ОНМК</th>\n",
       "      <th>Стенокардия, ИБС, инфаркт миокарда</th>\n",
       "      <th>Сердечная недостаточность</th>\n",
       "      <th>Прочие заболевания сердца</th>\n",
       "    </tr>\n",
       "    <tr>\n",
       "      <th>ID</th>\n",
       "      <th></th>\n",
       "      <th></th>\n",
       "      <th></th>\n",
       "      <th></th>\n",
       "      <th></th>\n",
       "    </tr>\n",
       "  </thead>\n",
       "  <tbody>\n",
       "    <tr>\n",
       "      <th>54-102-358-02</th>\n",
       "      <td>0</td>\n",
       "      <td>0</td>\n",
       "      <td>0</td>\n",
       "      <td>0</td>\n",
       "      <td>0</td>\n",
       "    </tr>\n",
       "    <tr>\n",
       "      <th>54-103-101-01</th>\n",
       "      <td>1</td>\n",
       "      <td>1</td>\n",
       "      <td>0</td>\n",
       "      <td>0</td>\n",
       "      <td>0</td>\n",
       "    </tr>\n",
       "    <tr>\n",
       "      <th>54-501-026-03</th>\n",
       "      <td>0</td>\n",
       "      <td>0</td>\n",
       "      <td>0</td>\n",
       "      <td>0</td>\n",
       "      <td>0</td>\n",
       "    </tr>\n",
       "    <tr>\n",
       "      <th>54-501-094-02</th>\n",
       "      <td>1</td>\n",
       "      <td>0</td>\n",
       "      <td>0</td>\n",
       "      <td>0</td>\n",
       "      <td>0</td>\n",
       "    </tr>\n",
       "    <tr>\n",
       "      <th>54-503-022-01</th>\n",
       "      <td>1</td>\n",
       "      <td>0</td>\n",
       "      <td>1</td>\n",
       "      <td>1</td>\n",
       "      <td>0</td>\n",
       "    </tr>\n",
       "    <tr>\n",
       "      <th>...</th>\n",
       "      <td>...</td>\n",
       "      <td>...</td>\n",
       "      <td>...</td>\n",
       "      <td>...</td>\n",
       "      <td>...</td>\n",
       "    </tr>\n",
       "    <tr>\n",
       "      <th>54-103-006-01</th>\n",
       "      <td>0</td>\n",
       "      <td>0</td>\n",
       "      <td>0</td>\n",
       "      <td>0</td>\n",
       "      <td>0</td>\n",
       "    </tr>\n",
       "    <tr>\n",
       "      <th>54-701-039-01</th>\n",
       "      <td>0</td>\n",
       "      <td>0</td>\n",
       "      <td>0</td>\n",
       "      <td>0</td>\n",
       "      <td>0</td>\n",
       "    </tr>\n",
       "    <tr>\n",
       "      <th>54-002-014-01</th>\n",
       "      <td>1</td>\n",
       "      <td>0</td>\n",
       "      <td>1</td>\n",
       "      <td>0</td>\n",
       "      <td>0</td>\n",
       "    </tr>\n",
       "    <tr>\n",
       "      <th>54-501-022-01</th>\n",
       "      <td>0</td>\n",
       "      <td>0</td>\n",
       "      <td>0</td>\n",
       "      <td>0</td>\n",
       "      <td>0</td>\n",
       "    </tr>\n",
       "    <tr>\n",
       "      <th>54-702-016-01</th>\n",
       "      <td>0</td>\n",
       "      <td>0</td>\n",
       "      <td>0</td>\n",
       "      <td>0</td>\n",
       "      <td>0</td>\n",
       "    </tr>\n",
       "  </tbody>\n",
       "</table>\n",
       "<p>955 rows × 5 columns</p>\n",
       "</div>"
      ],
      "text/plain": [
       "               Артериальная гипертензия  ОНМК  \\\n",
       "ID                                              \n",
       "54-102-358-02                         0     0   \n",
       "54-103-101-01                         1     1   \n",
       "54-501-026-03                         0     0   \n",
       "54-501-094-02                         1     0   \n",
       "54-503-022-01                         1     0   \n",
       "...                                 ...   ...   \n",
       "54-103-006-01                         0     0   \n",
       "54-701-039-01                         0     0   \n",
       "54-002-014-01                         1     0   \n",
       "54-501-022-01                         0     0   \n",
       "54-702-016-01                         0     0   \n",
       "\n",
       "               Стенокардия, ИБС, инфаркт миокарда  Сердечная недостаточность  \\\n",
       "ID                                                                             \n",
       "54-102-358-02                                   0                          0   \n",
       "54-103-101-01                                   0                          0   \n",
       "54-501-026-03                                   0                          0   \n",
       "54-501-094-02                                   0                          0   \n",
       "54-503-022-01                                   1                          1   \n",
       "...                                           ...                        ...   \n",
       "54-103-006-01                                   0                          0   \n",
       "54-701-039-01                                   0                          0   \n",
       "54-002-014-01                                   1                          0   \n",
       "54-501-022-01                                   0                          0   \n",
       "54-702-016-01                                   0                          0   \n",
       "\n",
       "               Прочие заболевания сердца  \n",
       "ID                                        \n",
       "54-102-358-02                          0  \n",
       "54-103-101-01                          0  \n",
       "54-501-026-03                          0  \n",
       "54-501-094-02                          0  \n",
       "54-503-022-01                          0  \n",
       "...                                  ...  \n",
       "54-103-006-01                          0  \n",
       "54-701-039-01                          0  \n",
       "54-002-014-01                          0  \n",
       "54-501-022-01                          0  \n",
       "54-702-016-01                          0  \n",
       "\n",
       "[955 rows x 5 columns]"
      ]
     },
     "execution_count": 24,
     "metadata": {},
     "output_type": "execute_result"
    }
   ],
   "source": [
    "target"
   ]
  },
  {
   "cell_type": "markdown",
   "metadata": {},
   "source": []
  }
 ],
 "metadata": {
  "kernelspec": {
   "display_name": "venv",
   "language": "python",
   "name": "venv"
  },
  "language_info": {
   "codemirror_mode": {
    "name": "ipython",
    "version": 3
   },
   "file_extension": ".py",
   "mimetype": "text/x-python",
   "name": "python",
   "nbconvert_exporter": "python",
   "pygments_lexer": "ipython3",
   "version": "3.9.6"
  }
 },
 "nbformat": 4,
 "nbformat_minor": 2
}
