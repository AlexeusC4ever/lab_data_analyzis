{
 "cells": [
  {
   "cell_type": "code",
   "execution_count": 1,
   "metadata": {},
   "outputs": [],
   "source": [
    "import pandas as pd\n",
    "import numpy as np\n",
    "import seaborn as sns\n",
    "from matplotlib import pyplot as plt\n",
    "import os"
   ]
  },
  {
   "cell_type": "code",
   "execution_count": 2,
   "metadata": {},
   "outputs": [
    {
     "name": "stdout",
     "output_type": "stream",
     "text": [
      "D:\\git_repos\\lab_data_science\n"
     ]
    }
   ],
   "source": [
    "cd ../"
   ]
  },
  {
   "cell_type": "code",
   "execution_count": 3,
   "metadata": {},
   "outputs": [],
   "source": [
    "#TRAIN - VAL"
   ]
  },
  {
   "cell_type": "code",
   "execution_count": 4,
   "metadata": {},
   "outputs": [],
   "source": [
    "import src.config as cfg\n",
    "from src.utils import save_as_pickle, load_as_pickle"
   ]
  },
  {
   "cell_type": "code",
   "execution_count": 5,
   "metadata": {},
   "outputs": [],
   "source": [
    "# raw_path = 'data/raw/'\n",
    "# train = pd.read_csv(os.path.join(raw_path, 'train.csv'))\n",
    "# test = pd.read_csv(os.path.join(raw_path, 'test.csv'))"
   ]
  },
  {
   "cell_type": "code",
   "execution_count": 6,
   "metadata": {},
   "outputs": [],
   "source": [
    "# TARGET_COLS = ['Артериальная гипертензия', 'ОНМК', 'Стенокардия, ИБС, инфаркт миокарда', 'Сердечная недостаточность', 'Прочие заболевания сердца']\n",
    "# ID_COL = 'ID'\n",
    "# EDU_COL = 'Образование'\n",
    "# SEX_COL = 'Пол'\n",
    "# CAT_COLS = [\n",
    "#     'Пол', 'Семья', 'Этнос', 'Национальность', 'Религия', 'Образование', \n",
    "#     'Профессия', 'Статус Курения', 'Алкоголь',\n",
    "#     'Время засыпания', 'Время пробуждения'\n",
    "# ]\n",
    "# OHE_COLS = [\n",
    "#     'Пол', 'Вы работаете?', 'Выход на пенсию', 'Прекращение работы по болезни', 'Сахарный диабет', 'Гепатит',\n",
    "#     'Онкология', 'Хроническое заболевание легких', 'Бронжиальная астма', 'Туберкулез легких ', 'ВИЧ/СПИД',\n",
    "#     'Регулярный прим лекарственных средств', 'Травмы за год', 'Переломы','Пассивное курение', 'Сон после обеда', \n",
    "#     'Спорт, клубы', 'Религия, клубы'\n",
    "# ]\n",
    "# REAL_COLS = ['Возраст курения', 'Сигарет в день', 'Возраст алког', 'Частота пасс кур']"
   ]
  },
  {
   "cell_type": "code",
   "execution_count": 7,
   "metadata": {},
   "outputs": [],
   "source": [
    "# def set_idx(df: pd.DataFrame, idx_col: str) -> pd.DataFrame:\n",
    "#     df = df.set_index(idx_col)\n",
    "#     return df"
   ]
  },
  {
   "cell_type": "code",
   "execution_count": 8,
   "metadata": {},
   "outputs": [],
   "source": [
    "# train = train.set_index(ID_COL)\n",
    "# test = test.set_index(ID_COL)"
   ]
  },
  {
   "cell_type": "code",
   "execution_count": 9,
   "metadata": {},
   "outputs": [],
   "source": [
    "# train, target = train.drop(TARGET_COLS, axis=1), train[TARGET_COLS]"
   ]
  },
  {
   "cell_type": "code",
   "execution_count": 10,
   "metadata": {},
   "outputs": [],
   "source": [
    "# train.pipe()"
   ]
  },
  {
   "cell_type": "code",
   "execution_count": 11,
   "metadata": {},
   "outputs": [],
   "source": [
    "# def preprocess(df: pd.DataFrame) -> pd.DataFrame:\n",
    "#     df = set_idx(df, ID_COL)\n",
    "#     df = drop_unnecesary_id(df)\n",
    "#     df = fill_sex(df)\n",
    "#     df = cast_types(df)\n",
    "#     return df\n",
    "    \n",
    "    "
   ]
  },
  {
   "cell_type": "code",
   "execution_count": 12,
   "metadata": {},
   "outputs": [],
   "source": [
    "# def drop_unnecesary_id(df: pd.DataFrame) -> pd.DataFrame:\n",
    "#     if 'ID_y' in df.columns:\n",
    "#         df = df.drop('ID_y', axis=1)\n",
    "#     return df"
   ]
  },
  {
   "cell_type": "code",
   "execution_count": 13,
   "metadata": {},
   "outputs": [],
   "source": [
    "# train = drop_unnecesary_id(train)"
   ]
  },
  {
   "cell_type": "code",
   "execution_count": 14,
   "metadata": {},
   "outputs": [],
   "source": [
    "# def add_ord_edu(df: pd.DataFrame) -> pd.DataFrame:\n",
    "#     df[f'{EDU_COL}_ord'] = df[EDU_COL].str.slice(0, 1).astype(np.int8).values\n",
    "#     return df"
   ]
  },
  {
   "cell_type": "code",
   "execution_count": 15,
   "metadata": {},
   "outputs": [],
   "source": [
    "# train = add_ord_edu(train)\n",
    "# test = add_ord_edu(test)"
   ]
  },
  {
   "cell_type": "code",
   "execution_count": 16,
   "metadata": {},
   "outputs": [],
   "source": [
    "# def fill_sex(df: pd.DataFrame) -> pd.DataFrame:\n",
    "#     most_freq = df[SEX_COL].value_counts().index[0]\n",
    "#     df[SEX_COL] = df[SEX_COL].fillna(most_freq)\n",
    "#     return df"
   ]
  },
  {
   "cell_type": "code",
   "execution_count": 17,
   "metadata": {},
   "outputs": [],
   "source": [
    "# def cast_types(df: pd.DataFrame) -> pd.DataFrame:\n",
    "#     df[CAT_COLS] = df[CAT_COLS].astype('category')\n",
    "\n",
    "#     ohe_int_cols = train[OHE_COLS].select_dtypes('number').columns\n",
    "#     df[ohe_int_cols] = df[ohe_int_cols].astype(np.int8)\n",
    "\n",
    "#     df[REAL_COLS] = df[REAL_COLS].astype(np.float32)\n",
    "#     return df\n",
    "    "
   ]
  },
  {
   "cell_type": "code",
   "execution_count": 18,
   "metadata": {},
   "outputs": [],
   "source": [
    "from sklearn.metrics import r2_score, mean_squared_error, precision_score, recall_score, roc_auc_score, f1_score\n",
    "from sklearn.model_selection import KFold\n",
    "from sklearn.model_selection import train_test_split"
   ]
  },
  {
   "cell_type": "code",
   "execution_count": 19,
   "metadata": {},
   "outputs": [],
   "source": [
    "train_data_path = 'data/interim/train.pkl'\n",
    "target_data_path = 'data/interim/target.pkl'"
   ]
  },
  {
   "cell_type": "code",
   "execution_count": 20,
   "metadata": {},
   "outputs": [],
   "source": [
    "def load_splitted_data(train_path, target_path):\n",
    "    train = load_as_pickle(train_path)\n",
    "    target = load_as_pickle(target_path)\n",
    "    return train, target"
   ]
  },
  {
   "cell_type": "code",
   "execution_count": 21,
   "metadata": {},
   "outputs": [],
   "source": [
    "train_data, target_data = load_splitted_data(train_data_path, target_data_path)"
   ]
  },
  {
   "cell_type": "code",
   "execution_count": 22,
   "metadata": {},
   "outputs": [],
   "source": [
    "x_train, x_test, y_train, y_test = train_test_split(train_data, target_data, test_size=0.25)"
   ]
  },
  {
   "cell_type": "code",
   "execution_count": 23,
   "metadata": {},
   "outputs": [],
   "source": [
    "path_to_splitted_train_data = 'data/processed/train.pkl'\n",
    "path_to_splitted_train_data_target = 'data/processed/train_target.pkl'\n",
    "path_to_splitted_val_data = 'data/processed/val.pkl'\n",
    "path_to_splitted_val_data_target = 'data/processed/val_target.pkl'"
   ]
  },
  {
   "cell_type": "code",
   "execution_count": 24,
   "metadata": {},
   "outputs": [],
   "source": [
    "save_as_pickle(x_train, path_to_splitted_train_data)\n",
    "save_as_pickle(y_train, path_to_splitted_train_data_target)\n",
    "save_as_pickle(x_test, path_to_splitted_val_data)\n",
    "save_as_pickle(y_test, path_to_splitted_val_data_target)"
   ]
  },
  {
   "cell_type": "code",
   "execution_count": 25,
   "metadata": {},
   "outputs": [],
   "source": [
    "#FEATURE GENERATION"
   ]
  },
  {
   "cell_type": "code",
   "execution_count": 26,
   "metadata": {},
   "outputs": [],
   "source": [
    "import category_encoders as ce"
   ]
  },
  {
   "cell_type": "code",
   "execution_count": 27,
   "metadata": {},
   "outputs": [],
   "source": [
    "def second_hand_smoke_count(value):\n",
    "    if value == '1-2 раза в неделю':\n",
    "        return 1.5\n",
    "    if value == '2-3 раза в день':\n",
    "        return 17.5\n",
    "    if value == '3-6 раз в неделю':\n",
    "        return 4.5\n",
    "    if value == '4 и более раз в день':\n",
    "        return 28.0\n",
    "    if value == 'не менее 1 раза в день':\n",
    "        return 7.0\n",
    "    return 0.0"
   ]
  },
  {
   "cell_type": "code",
   "execution_count": 28,
   "metadata": {},
   "outputs": [],
   "source": [
    "def fill_real_cols_with_zero(df):\n",
    "    df = df.fillna(0.)\n",
    "    return df"
   ]
  },
  {
   "cell_type": "code",
   "execution_count": 29,
   "metadata": {},
   "outputs": [],
   "source": [
    "def fill_real_cols(data):\n",
    "    data.loc[:, cfg.REAL_COLS[:-1]] = fill_real_cols_with_zero(data.loc[:, cfg.REAL_COLS[:-1]])\n",
    "    data['Частота пасс кур'] = [second_hand_smoke_count(i) for i in data['Частота пасс кур']]\n",
    "    return data"
   ]
  },
  {
   "cell_type": "code",
   "execution_count": 30,
   "metadata": {},
   "outputs": [],
   "source": [
    "x_train = fill_real_cols(x_train)"
   ]
  },
  {
   "cell_type": "code",
   "execution_count": 31,
   "metadata": {},
   "outputs": [],
   "source": [
    "# def target_encode_multiclass(X,y): #X,y are pandas df and series\n",
    "#     y=y.astype(str)  #convert to string to onehot encode\n",
    "#     enc=ce.OneHotEncoder().fit(y)\n",
    "#     y_onehot=enc.transform(y) \n",
    "\n",
    "#     class_names=y_onehot.columns  #names of onehot encoded columns\n",
    "\n",
    "#     X_obj=X.select_dtypes('object') #separate categorical columns\n",
    "#     X=X.select_dtypes(exclude='object')\n",
    "\n",
    "#     for class_ in class_names:\n",
    "\n",
    "#         enc=ce.TargetEncoder()\n",
    "#         enc.fit(X_obj,y_onehot[class_]) #convert all categorical\n",
    "#         temp=enc.transform(X_obj)       #columns for class_\n",
    "#         temp.columns=[str(x)+'_'+str(class_) for x in temp.columns]\n",
    "#         X=pd.concat([X,temp],axis=1)    #add to original dataset\n",
    "\n",
    "#     return X"
   ]
  },
  {
   "cell_type": "code",
   "execution_count": 44,
   "metadata": {},
   "outputs": [],
   "source": [
    "# class TargetEncoder(BaseEstimator, TransformerMixin):\n",
    "class TargetEncoder():\n",
    "    \n",
    "    def __init__(self, cat_cols, num_classes=1):\n",
    "        self.te = [ce.TargetEncoder(drop_invariant=False)] * num_classes\n",
    "        self.cat_cols = cat_cols\n",
    "        \n",
    "        \n",
    "    def fit(self, x, y):\n",
    "        for target_num in range(num_classes):\n",
    "            target_col = cfg.TARGET_COLS[target_num]\n",
    "            self.te[target_num].fit(x[self.cat_cols], y_train[target_col])\n",
    "\n",
    "        \n",
    "    def transform(self, x, y=None):\n",
    "        target_encoded_x = x.copy()\n",
    "        for target_num in range(num_classes):\n",
    "            target_col = cfg.TARGET_COLS[target_num]\n",
    "            encoded_cols = self.te[target_num].transform(x[self.cat_cols])\n",
    "            \n",
    "            target_encoded_x[[col + \"/\" + target_col for col in self.cat_cols]] = encoded_cols\n",
    "\n",
    "        target_encoded_x = target_encoded_x.drop(self.cat_cols, axis=1)\n",
    "        return target_encoded_x\n",
    "            \n",
    "    def fit_transform(self, x, y=None):\n",
    "        self.fit(x, y)\n",
    "        return self.transform(x, y)"
   ]
  },
  {
   "cell_type": "code",
   "execution_count": 45,
   "metadata": {},
   "outputs": [
    {
     "name": "stderr",
     "output_type": "stream",
     "text": [
      "C:\\git\\lab_data_science\\venv\\lib\\site-packages\\category_encoders\\target_encoder.py:92: FutureWarning: Default parameter min_samples_leaf will change in version 2.6.See https://github.com/scikit-learn-contrib/category_encoders/issues/327\n",
      "  warnings.warn(\"Default parameter min_samples_leaf will change in version 2.6.\"\n",
      "C:\\git\\lab_data_science\\venv\\lib\\site-packages\\category_encoders\\target_encoder.py:97: FutureWarning: Default parameter smoothing will change in version 2.6.See https://github.com/scikit-learn-contrib/category_encoders/issues/327\n",
      "  warnings.warn(\"Default parameter smoothing will change in version 2.6.\"\n"
     ]
    }
   ],
   "source": [
    "target_encoder = TargetEncoder(cfg.CAT_COLS, 5)"
   ]
  },
  {
   "cell_type": "code",
   "execution_count": 34,
   "metadata": {},
   "outputs": [],
   "source": [
    "# def target_encoding(cat_features, x_train, y_train=None, test=False):\n",
    "#     target_encoded_x_train = x_train.copy()\n",
    "#     for target_num in range(num_classes):\n",
    "#         target_col = cfg.TARGET_COLS[target_num]\n",
    "#         if test:\n",
    "#             encoded_cols = te[target_num].transform(x_train[cat_features])\n",
    "#         else:\n",
    "#             encoded_cols = te[target_num].fit_transform(x_train[cat_features], y_train[target_col])\n",
    "            \n",
    "#         target_encoded_x_train[[col + \"/\" + target_col for col in cfg.CAT_COLS]] = encoded_cols\n",
    "\n",
    "#     target_encoded_x_train = target_encoded_x_train.drop(cat_features, axis=1)\n",
    "#     return target_encoded_x_train"
   ]
  },
  {
   "cell_type": "code",
   "execution_count": 42,
   "metadata": {},
   "outputs": [],
   "source": [
    "num_classes = 5"
   ]
  },
  {
   "cell_type": "code",
   "execution_count": 36,
   "metadata": {},
   "outputs": [],
   "source": [
    "\n",
    "#     target_encoded_x_train.insert(loc=target_encoded_x_train.columns[:-1],\n",
    "#                                   column=[col + \"/\" + target_col for col in cfg.CAT_COLS],\n",
    "#                                   value=encoded_cols,\n",
    "#                                   allow_duplicates = False)\n",
    "        "
   ]
  },
  {
   "cell_type": "code",
   "execution_count": 49,
   "metadata": {},
   "outputs": [
    {
     "data": {
      "text/html": [
       "<div>\n",
       "<style scoped>\n",
       "    .dataframe tbody tr th:only-of-type {\n",
       "        vertical-align: middle;\n",
       "    }\n",
       "\n",
       "    .dataframe tbody tr th {\n",
       "        vertical-align: top;\n",
       "    }\n",
       "\n",
       "    .dataframe thead th {\n",
       "        text-align: right;\n",
       "    }\n",
       "</style>\n",
       "<table border=\"1\" class=\"dataframe\">\n",
       "  <thead>\n",
       "    <tr style=\"text-align: right;\">\n",
       "      <th></th>\n",
       "      <th>Вы работаете?</th>\n",
       "      <th>Выход на пенсию</th>\n",
       "      <th>Прекращение работы по болезни</th>\n",
       "      <th>Сахарный диабет</th>\n",
       "      <th>Гепатит</th>\n",
       "      <th>Онкология</th>\n",
       "      <th>Хроническое заболевание легких</th>\n",
       "      <th>Бронжиальная астма</th>\n",
       "      <th>Туберкулез легких</th>\n",
       "      <th>ВИЧ/СПИД</th>\n",
       "      <th>...</th>\n",
       "      <th>Семья/Прочие заболевания сердца</th>\n",
       "      <th>Этнос/Прочие заболевания сердца</th>\n",
       "      <th>Национальность/Прочие заболевания сердца</th>\n",
       "      <th>Религия/Прочие заболевания сердца</th>\n",
       "      <th>Образование/Прочие заболевания сердца</th>\n",
       "      <th>Профессия/Прочие заболевания сердца</th>\n",
       "      <th>Статус Курения/Прочие заболевания сердца</th>\n",
       "      <th>Алкоголь/Прочие заболевания сердца</th>\n",
       "      <th>Время засыпания/Прочие заболевания сердца</th>\n",
       "      <th>Время пробуждения/Прочие заболевания сердца</th>\n",
       "    </tr>\n",
       "    <tr>\n",
       "      <th>ID</th>\n",
       "      <th></th>\n",
       "      <th></th>\n",
       "      <th></th>\n",
       "      <th></th>\n",
       "      <th></th>\n",
       "      <th></th>\n",
       "      <th></th>\n",
       "      <th></th>\n",
       "      <th></th>\n",
       "      <th></th>\n",
       "      <th></th>\n",
       "      <th></th>\n",
       "      <th></th>\n",
       "      <th></th>\n",
       "      <th></th>\n",
       "      <th></th>\n",
       "      <th></th>\n",
       "      <th></th>\n",
       "      <th></th>\n",
       "      <th></th>\n",
       "      <th></th>\n",
       "    </tr>\n",
       "  </thead>\n",
       "  <tbody>\n",
       "    <tr>\n",
       "      <th>54-002-154-02</th>\n",
       "      <td>1</td>\n",
       "      <td>0</td>\n",
       "      <td>0</td>\n",
       "      <td>0</td>\n",
       "      <td>0</td>\n",
       "      <td>0</td>\n",
       "      <td>0</td>\n",
       "      <td>0</td>\n",
       "      <td>0</td>\n",
       "      <td>0</td>\n",
       "      <td>...</td>\n",
       "      <td>9.433962e-02</td>\n",
       "      <td>0.095578</td>\n",
       "      <td>0.095168</td>\n",
       "      <td>9.900990e-02</td>\n",
       "      <td>0.071429</td>\n",
       "      <td>0.000000</td>\n",
       "      <td>0.087248</td>\n",
       "      <td>0.084926</td>\n",
       "      <td>0.096774</td>\n",
       "      <td>0.108108</td>\n",
       "    </tr>\n",
       "    <tr>\n",
       "      <th>54-102-005-01</th>\n",
       "      <td>1</td>\n",
       "      <td>0</td>\n",
       "      <td>0</td>\n",
       "      <td>0</td>\n",
       "      <td>0</td>\n",
       "      <td>0</td>\n",
       "      <td>0</td>\n",
       "      <td>0</td>\n",
       "      <td>0</td>\n",
       "      <td>0</td>\n",
       "      <td>...</td>\n",
       "      <td>1.166667e-01</td>\n",
       "      <td>0.095578</td>\n",
       "      <td>0.000004</td>\n",
       "      <td>1.053052e-08</td>\n",
       "      <td>0.088710</td>\n",
       "      <td>0.118644</td>\n",
       "      <td>0.084967</td>\n",
       "      <td>0.084926</td>\n",
       "      <td>0.125000</td>\n",
       "      <td>0.093575</td>\n",
       "    </tr>\n",
       "    <tr>\n",
       "      <th>54-501-028-02</th>\n",
       "      <td>1</td>\n",
       "      <td>0</td>\n",
       "      <td>0</td>\n",
       "      <td>0</td>\n",
       "      <td>0</td>\n",
       "      <td>0</td>\n",
       "      <td>0</td>\n",
       "      <td>0</td>\n",
       "      <td>0</td>\n",
       "      <td>0</td>\n",
       "      <td>...</td>\n",
       "      <td>3.220577e-15</td>\n",
       "      <td>0.095578</td>\n",
       "      <td>0.095168</td>\n",
       "      <td>9.900990e-02</td>\n",
       "      <td>0.103858</td>\n",
       "      <td>0.118644</td>\n",
       "      <td>0.087248</td>\n",
       "      <td>0.084926</td>\n",
       "      <td>0.078261</td>\n",
       "      <td>0.108108</td>\n",
       "    </tr>\n",
       "    <tr>\n",
       "      <th>54-101-006-02</th>\n",
       "      <td>0</td>\n",
       "      <td>0</td>\n",
       "      <td>0</td>\n",
       "      <td>0</td>\n",
       "      <td>0</td>\n",
       "      <td>0</td>\n",
       "      <td>0</td>\n",
       "      <td>0</td>\n",
       "      <td>0</td>\n",
       "      <td>0</td>\n",
       "      <td>...</td>\n",
       "      <td>8.421053e-02</td>\n",
       "      <td>0.095578</td>\n",
       "      <td>0.000004</td>\n",
       "      <td>1.053052e-08</td>\n",
       "      <td>0.103858</td>\n",
       "      <td>0.112676</td>\n",
       "      <td>0.087248</td>\n",
       "      <td>0.112069</td>\n",
       "      <td>0.004438</td>\n",
       "      <td>0.077670</td>\n",
       "    </tr>\n",
       "    <tr>\n",
       "      <th>54-102-361-01</th>\n",
       "      <td>1</td>\n",
       "      <td>0</td>\n",
       "      <td>0</td>\n",
       "      <td>0</td>\n",
       "      <td>0</td>\n",
       "      <td>0</td>\n",
       "      <td>0</td>\n",
       "      <td>0</td>\n",
       "      <td>0</td>\n",
       "      <td>0</td>\n",
       "      <td>...</td>\n",
       "      <td>3.220577e-15</td>\n",
       "      <td>0.095578</td>\n",
       "      <td>0.095168</td>\n",
       "      <td>9.900990e-02</td>\n",
       "      <td>0.088710</td>\n",
       "      <td>0.118644</td>\n",
       "      <td>0.099034</td>\n",
       "      <td>0.084926</td>\n",
       "      <td>0.096774</td>\n",
       "      <td>0.089286</td>\n",
       "    </tr>\n",
       "    <tr>\n",
       "      <th>...</th>\n",
       "      <td>...</td>\n",
       "      <td>...</td>\n",
       "      <td>...</td>\n",
       "      <td>...</td>\n",
       "      <td>...</td>\n",
       "      <td>...</td>\n",
       "      <td>...</td>\n",
       "      <td>...</td>\n",
       "      <td>...</td>\n",
       "      <td>...</td>\n",
       "      <td>...</td>\n",
       "      <td>...</td>\n",
       "      <td>...</td>\n",
       "      <td>...</td>\n",
       "      <td>...</td>\n",
       "      <td>...</td>\n",
       "      <td>...</td>\n",
       "      <td>...</td>\n",
       "      <td>...</td>\n",
       "      <td>...</td>\n",
       "      <td>...</td>\n",
       "    </tr>\n",
       "    <tr>\n",
       "      <th>54-501-040-02</th>\n",
       "      <td>1</td>\n",
       "      <td>0</td>\n",
       "      <td>0</td>\n",
       "      <td>0</td>\n",
       "      <td>0</td>\n",
       "      <td>0</td>\n",
       "      <td>0</td>\n",
       "      <td>0</td>\n",
       "      <td>0</td>\n",
       "      <td>0</td>\n",
       "      <td>...</td>\n",
       "      <td>1.166667e-01</td>\n",
       "      <td>0.095578</td>\n",
       "      <td>0.095168</td>\n",
       "      <td>9.900990e-02</td>\n",
       "      <td>0.103858</td>\n",
       "      <td>0.072917</td>\n",
       "      <td>0.084967</td>\n",
       "      <td>0.084926</td>\n",
       "      <td>0.096774</td>\n",
       "      <td>0.067073</td>\n",
       "    </tr>\n",
       "    <tr>\n",
       "      <th>54-102-106-01</th>\n",
       "      <td>1</td>\n",
       "      <td>0</td>\n",
       "      <td>0</td>\n",
       "      <td>0</td>\n",
       "      <td>0</td>\n",
       "      <td>0</td>\n",
       "      <td>0</td>\n",
       "      <td>0</td>\n",
       "      <td>0</td>\n",
       "      <td>0</td>\n",
       "      <td>...</td>\n",
       "      <td>1.165049e-01</td>\n",
       "      <td>0.000004</td>\n",
       "      <td>0.000004</td>\n",
       "      <td>1.053052e-08</td>\n",
       "      <td>0.103858</td>\n",
       "      <td>0.112676</td>\n",
       "      <td>0.099034</td>\n",
       "      <td>0.112069</td>\n",
       "      <td>0.078261</td>\n",
       "      <td>0.107143</td>\n",
       "    </tr>\n",
       "    <tr>\n",
       "      <th>54-102-319-01</th>\n",
       "      <td>1</td>\n",
       "      <td>0</td>\n",
       "      <td>0</td>\n",
       "      <td>0</td>\n",
       "      <td>0</td>\n",
       "      <td>0</td>\n",
       "      <td>0</td>\n",
       "      <td>0</td>\n",
       "      <td>0</td>\n",
       "      <td>0</td>\n",
       "      <td>...</td>\n",
       "      <td>8.421053e-02</td>\n",
       "      <td>0.095578</td>\n",
       "      <td>0.095168</td>\n",
       "      <td>9.900990e-02</td>\n",
       "      <td>0.071429</td>\n",
       "      <td>0.000000</td>\n",
       "      <td>0.087248</td>\n",
       "      <td>0.108527</td>\n",
       "      <td>0.078261</td>\n",
       "      <td>0.067073</td>\n",
       "    </tr>\n",
       "    <tr>\n",
       "      <th>54-103-018-01</th>\n",
       "      <td>0</td>\n",
       "      <td>1</td>\n",
       "      <td>0</td>\n",
       "      <td>0</td>\n",
       "      <td>0</td>\n",
       "      <td>0</td>\n",
       "      <td>0</td>\n",
       "      <td>0</td>\n",
       "      <td>0</td>\n",
       "      <td>0</td>\n",
       "      <td>...</td>\n",
       "      <td>9.433962e-02</td>\n",
       "      <td>0.095578</td>\n",
       "      <td>0.095168</td>\n",
       "      <td>9.900990e-02</td>\n",
       "      <td>0.071429</td>\n",
       "      <td>0.000000</td>\n",
       "      <td>0.099034</td>\n",
       "      <td>0.108527</td>\n",
       "      <td>0.078261</td>\n",
       "      <td>0.087432</td>\n",
       "    </tr>\n",
       "    <tr>\n",
       "      <th>54-504-002-01</th>\n",
       "      <td>0</td>\n",
       "      <td>1</td>\n",
       "      <td>0</td>\n",
       "      <td>0</td>\n",
       "      <td>0</td>\n",
       "      <td>0</td>\n",
       "      <td>0</td>\n",
       "      <td>0</td>\n",
       "      <td>0</td>\n",
       "      <td>0</td>\n",
       "      <td>...</td>\n",
       "      <td>9.433962e-02</td>\n",
       "      <td>0.095578</td>\n",
       "      <td>0.095168</td>\n",
       "      <td>9.900990e-02</td>\n",
       "      <td>0.088710</td>\n",
       "      <td>0.118644</td>\n",
       "      <td>0.099034</td>\n",
       "      <td>0.108527</td>\n",
       "      <td>0.080745</td>\n",
       "      <td>0.166177</td>\n",
       "    </tr>\n",
       "  </tbody>\n",
       "</table>\n",
       "<p>239 rows × 76 columns</p>\n",
       "</div>"
      ],
      "text/plain": [
       "               Вы работаете?  Выход на пенсию  Прекращение работы по болезни  \\\n",
       "ID                                                                             \n",
       "54-002-154-02              1                0                              0   \n",
       "54-102-005-01              1                0                              0   \n",
       "54-501-028-02              1                0                              0   \n",
       "54-101-006-02              0                0                              0   \n",
       "54-102-361-01              1                0                              0   \n",
       "...                      ...              ...                            ...   \n",
       "54-501-040-02              1                0                              0   \n",
       "54-102-106-01              1                0                              0   \n",
       "54-102-319-01              1                0                              0   \n",
       "54-103-018-01              0                1                              0   \n",
       "54-504-002-01              0                1                              0   \n",
       "\n",
       "               Сахарный диабет  Гепатит  Онкология  \\\n",
       "ID                                                   \n",
       "54-002-154-02                0        0          0   \n",
       "54-102-005-01                0        0          0   \n",
       "54-501-028-02                0        0          0   \n",
       "54-101-006-02                0        0          0   \n",
       "54-102-361-01                0        0          0   \n",
       "...                        ...      ...        ...   \n",
       "54-501-040-02                0        0          0   \n",
       "54-102-106-01                0        0          0   \n",
       "54-102-319-01                0        0          0   \n",
       "54-103-018-01                0        0          0   \n",
       "54-504-002-01                0        0          0   \n",
       "\n",
       "               Хроническое заболевание легких  Бронжиальная астма  \\\n",
       "ID                                                                  \n",
       "54-002-154-02                               0                   0   \n",
       "54-102-005-01                               0                   0   \n",
       "54-501-028-02                               0                   0   \n",
       "54-101-006-02                               0                   0   \n",
       "54-102-361-01                               0                   0   \n",
       "...                                       ...                 ...   \n",
       "54-501-040-02                               0                   0   \n",
       "54-102-106-01                               0                   0   \n",
       "54-102-319-01                               0                   0   \n",
       "54-103-018-01                               0                   0   \n",
       "54-504-002-01                               0                   0   \n",
       "\n",
       "               Туберкулез легких   ВИЧ/СПИД  ...  \\\n",
       "ID                                           ...   \n",
       "54-002-154-02                   0         0  ...   \n",
       "54-102-005-01                   0         0  ...   \n",
       "54-501-028-02                   0         0  ...   \n",
       "54-101-006-02                   0         0  ...   \n",
       "54-102-361-01                   0         0  ...   \n",
       "...                           ...       ...  ...   \n",
       "54-501-040-02                   0         0  ...   \n",
       "54-102-106-01                   0         0  ...   \n",
       "54-102-319-01                   0         0  ...   \n",
       "54-103-018-01                   0         0  ...   \n",
       "54-504-002-01                   0         0  ...   \n",
       "\n",
       "               Семья/Прочие заболевания сердца  \\\n",
       "ID                                               \n",
       "54-002-154-02                     9.433962e-02   \n",
       "54-102-005-01                     1.166667e-01   \n",
       "54-501-028-02                     3.220577e-15   \n",
       "54-101-006-02                     8.421053e-02   \n",
       "54-102-361-01                     3.220577e-15   \n",
       "...                                        ...   \n",
       "54-501-040-02                     1.166667e-01   \n",
       "54-102-106-01                     1.165049e-01   \n",
       "54-102-319-01                     8.421053e-02   \n",
       "54-103-018-01                     9.433962e-02   \n",
       "54-504-002-01                     9.433962e-02   \n",
       "\n",
       "               Этнос/Прочие заболевания сердца  \\\n",
       "ID                                               \n",
       "54-002-154-02                         0.095578   \n",
       "54-102-005-01                         0.095578   \n",
       "54-501-028-02                         0.095578   \n",
       "54-101-006-02                         0.095578   \n",
       "54-102-361-01                         0.095578   \n",
       "...                                        ...   \n",
       "54-501-040-02                         0.095578   \n",
       "54-102-106-01                         0.000004   \n",
       "54-102-319-01                         0.095578   \n",
       "54-103-018-01                         0.095578   \n",
       "54-504-002-01                         0.095578   \n",
       "\n",
       "               Национальность/Прочие заболевания сердца  \\\n",
       "ID                                                        \n",
       "54-002-154-02                                  0.095168   \n",
       "54-102-005-01                                  0.000004   \n",
       "54-501-028-02                                  0.095168   \n",
       "54-101-006-02                                  0.000004   \n",
       "54-102-361-01                                  0.095168   \n",
       "...                                                 ...   \n",
       "54-501-040-02                                  0.095168   \n",
       "54-102-106-01                                  0.000004   \n",
       "54-102-319-01                                  0.095168   \n",
       "54-103-018-01                                  0.095168   \n",
       "54-504-002-01                                  0.095168   \n",
       "\n",
       "               Религия/Прочие заболевания сердца  \\\n",
       "ID                                                 \n",
       "54-002-154-02                       9.900990e-02   \n",
       "54-102-005-01                       1.053052e-08   \n",
       "54-501-028-02                       9.900990e-02   \n",
       "54-101-006-02                       1.053052e-08   \n",
       "54-102-361-01                       9.900990e-02   \n",
       "...                                          ...   \n",
       "54-501-040-02                       9.900990e-02   \n",
       "54-102-106-01                       1.053052e-08   \n",
       "54-102-319-01                       9.900990e-02   \n",
       "54-103-018-01                       9.900990e-02   \n",
       "54-504-002-01                       9.900990e-02   \n",
       "\n",
       "               Образование/Прочие заболевания сердца  \\\n",
       "ID                                                     \n",
       "54-002-154-02                               0.071429   \n",
       "54-102-005-01                               0.088710   \n",
       "54-501-028-02                               0.103858   \n",
       "54-101-006-02                               0.103858   \n",
       "54-102-361-01                               0.088710   \n",
       "...                                              ...   \n",
       "54-501-040-02                               0.103858   \n",
       "54-102-106-01                               0.103858   \n",
       "54-102-319-01                               0.071429   \n",
       "54-103-018-01                               0.071429   \n",
       "54-504-002-01                               0.088710   \n",
       "\n",
       "               Профессия/Прочие заболевания сердца  \\\n",
       "ID                                                   \n",
       "54-002-154-02                             0.000000   \n",
       "54-102-005-01                             0.118644   \n",
       "54-501-028-02                             0.118644   \n",
       "54-101-006-02                             0.112676   \n",
       "54-102-361-01                             0.118644   \n",
       "...                                            ...   \n",
       "54-501-040-02                             0.072917   \n",
       "54-102-106-01                             0.112676   \n",
       "54-102-319-01                             0.000000   \n",
       "54-103-018-01                             0.000000   \n",
       "54-504-002-01                             0.118644   \n",
       "\n",
       "              Статус Курения/Прочие заболевания сердца  \\\n",
       "ID                                                       \n",
       "54-002-154-02                                 0.087248   \n",
       "54-102-005-01                                 0.084967   \n",
       "54-501-028-02                                 0.087248   \n",
       "54-101-006-02                                 0.087248   \n",
       "54-102-361-01                                 0.099034   \n",
       "...                                                ...   \n",
       "54-501-040-02                                 0.084967   \n",
       "54-102-106-01                                 0.099034   \n",
       "54-102-319-01                                 0.087248   \n",
       "54-103-018-01                                 0.099034   \n",
       "54-504-002-01                                 0.099034   \n",
       "\n",
       "               Алкоголь/Прочие заболевания сердца  \\\n",
       "ID                                                  \n",
       "54-002-154-02                            0.084926   \n",
       "54-102-005-01                            0.084926   \n",
       "54-501-028-02                            0.084926   \n",
       "54-101-006-02                            0.112069   \n",
       "54-102-361-01                            0.084926   \n",
       "...                                           ...   \n",
       "54-501-040-02                            0.084926   \n",
       "54-102-106-01                            0.112069   \n",
       "54-102-319-01                            0.108527   \n",
       "54-103-018-01                            0.108527   \n",
       "54-504-002-01                            0.108527   \n",
       "\n",
       "               Время засыпания/Прочие заболевания сердца  \\\n",
       "ID                                                         \n",
       "54-002-154-02                                   0.096774   \n",
       "54-102-005-01                                   0.125000   \n",
       "54-501-028-02                                   0.078261   \n",
       "54-101-006-02                                   0.004438   \n",
       "54-102-361-01                                   0.096774   \n",
       "...                                                  ...   \n",
       "54-501-040-02                                   0.096774   \n",
       "54-102-106-01                                   0.078261   \n",
       "54-102-319-01                                   0.078261   \n",
       "54-103-018-01                                   0.078261   \n",
       "54-504-002-01                                   0.080745   \n",
       "\n",
       "               Время пробуждения/Прочие заболевания сердца  \n",
       "ID                                                          \n",
       "54-002-154-02                                     0.108108  \n",
       "54-102-005-01                                     0.093575  \n",
       "54-501-028-02                                     0.108108  \n",
       "54-101-006-02                                     0.077670  \n",
       "54-102-361-01                                     0.089286  \n",
       "...                                                    ...  \n",
       "54-501-040-02                                     0.067073  \n",
       "54-102-106-01                                     0.107143  \n",
       "54-102-319-01                                     0.067073  \n",
       "54-103-018-01                                     0.087432  \n",
       "54-504-002-01                                     0.166177  \n",
       "\n",
       "[239 rows x 76 columns]"
      ]
     },
     "execution_count": 49,
     "metadata": {},
     "output_type": "execute_result"
    }
   ],
   "source": [
    "target_encoded_x_train = target_encoder.fit_transform(x_train, y_train)\n",
    "\n",
    "target_encoded_x_test = target_encoder.transform(x_test, y_test)\n",
    "target_encoded_x_test"
   ]
  },
  {
   "cell_type": "code",
   "execution_count": null,
   "metadata": {},
   "outputs": [],
   "source": [
    "train_data_for_catboost, "
   ]
  },
  {
   "cell_type": "code",
   "execution_count": null,
   "metadata": {},
   "outputs": [],
   "source": [
    "#MODELS"
   ]
  },
  {
   "cell_type": "code",
   "execution_count": null,
   "metadata": {},
   "outputs": [],
   "source": [
    "import catboost"
   ]
  },
  {
   "cell_type": "code",
   "execution_count": null,
   "metadata": {},
   "outputs": [],
   "source": [
    "def get_indexes_of_cat_columns(df: pd.DataFrame, col_names: str):\n",
    "    idx = []\n",
    "    for col in col_names:\n",
    "        idx.append(df.columns.tolist().index(col))\n",
    "        \n",
    "    return idx"
   ]
  },
  {
   "cell_type": "code",
   "execution_count": null,
   "metadata": {},
   "outputs": [],
   "source": [
    "cfg.CAT_COLS"
   ]
  },
  {
   "cell_type": "code",
   "execution_count": null,
   "metadata": {},
   "outputs": [],
   "source": [
    "get_indexes_of_cat_columns(train_data, cfg.CAT_COLS)"
   ]
  },
  {
   "cell_type": "code",
   "execution_count": null,
   "metadata": {},
   "outputs": [],
   "source": [
    "cat_idx = get_indexes_of_cat_columns(train_data, cfg.CAT_COLS)\n",
    "cat_idx"
   ]
  },
  {
   "cell_type": "code",
   "execution_count": null,
   "metadata": {},
   "outputs": [],
   "source": [
    "# for i in range(100, 500, 100):\n",
    "i = 100\n",
    "boosting_model = catboost.CatBoostClassifier(\n",
    "    loss_function='MultiLogloss',\n",
    "    cat_features=cat_idx\n",
    ")\n",
    "    "
   ]
  },
  {
   "cell_type": "code",
   "execution_count": null,
   "metadata": {},
   "outputs": [],
   "source": [
    "#Так как крайне важно правильно предсказать наличие смертельной болезни, для нашей задачи хорошо подойдет метрика recall, показывающая долю верно предсказанных болезней. Также, чтобы выявить количество ложно положительных результатов(то есть случаев, когда модель выявила болезнь у здорового человека), можно использовать метрику presicion. В ккачестве метрики, объединяющей две предыдущие, возьмем roc_auc. "
   ]
  },
  {
   "cell_type": "code",
   "execution_count": null,
   "metadata": {},
   "outputs": [],
   "source": [
    "# train_pool = catboost.Pool(x_train, y_train)\n",
    "# val_pool = catboost.Pool(x_test, y_test)\n",
    "\n",
    "# boosting_model.fit(train_data, target_data)\n",
    "boosting_model = boosting_model.fit(x_train, y_train, metric_period=10, verbose=50)"
   ]
  },
  {
   "cell_type": "code",
   "execution_count": null,
   "metadata": {},
   "outputs": [],
   "source": [
    "preds = boosting_model.predict(x_test)"
   ]
  },
  {
   "cell_type": "code",
   "execution_count": null,
   "metadata": {},
   "outputs": [],
   "source": [
    "def count_metrics(y_test, preds):\n",
    "    print(precision_score(y_test, preds, average='micro'))\n",
    "    print(recall_score(y_test, preds, average='micro'))\n",
    "    print(f1_score(y_test, preds, average='micro'))\n",
    "    print(roc_auc_score(y_test, preds, average='micro'))"
   ]
  },
  {
   "cell_type": "code",
   "execution_count": null,
   "metadata": {},
   "outputs": [],
   "source": [
    "from sklearn.linear_model import LogisticRegression\n",
    "from sklearn.ensemble import RandomForestClassifier\n",
    "from sklearn.multioutput import MultiOutputClassifier"
   ]
  },
  {
   "cell_type": "code",
   "execution_count": null,
   "metadata": {},
   "outputs": [],
   "source": [
    "fCl_target_encode = MultiOutputClassifier(LogisticRegression()).fit(target_encoded_x_train, y_train)\n",
    "# fCl = MultiOutputClassifier(RandomForestClassifier()).fit(x_train, y_train)"
   ]
  },
  {
   "cell_type": "code",
   "execution_count": null,
   "metadata": {},
   "outputs": [],
   "source": [
    "target_encoded_test = target_encoding(cfg.CAT_COLS, x_test, test=True)\n",
    "target_encoded_test = fill_real_cols(target_encoded_test)\n",
    "preds = fCl_target_encode.predict(target_encoded_test)"
   ]
  },
  {
   "cell_type": "code",
   "execution_count": null,
   "metadata": {},
   "outputs": [],
   "source": [
    "count_metrics(y_test, preds)"
   ]
  },
  {
   "cell_type": "markdown",
   "metadata": {},
   "source": []
  }
 ],
 "metadata": {
  "kernelspec": {
   "display_name": "venv",
   "language": "python",
   "name": "venv"
  },
  "language_info": {
   "codemirror_mode": {
    "name": "ipython",
    "version": 3
   },
   "file_extension": ".py",
   "mimetype": "text/x-python",
   "name": "python",
   "nbconvert_exporter": "python",
   "pygments_lexer": "ipython3",
   "version": "3.9.6"
  }
 },
 "nbformat": 4,
 "nbformat_minor": 2
}
