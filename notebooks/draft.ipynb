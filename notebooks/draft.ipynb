{
 "cells": [
  {
   "cell_type": "code",
   "execution_count": 1,
   "metadata": {},
   "outputs": [],
   "source": [
    "import pandas as pd\n",
    "import numpy as np\n",
    "import seaborn as sns\n",
    "from matplotlib import pyplot as plt\n",
    "import os"
   ]
  },
  {
   "cell_type": "code",
   "execution_count": 2,
   "metadata": {},
   "outputs": [
    {
     "name": "stdout",
     "output_type": "stream",
     "text": [
      "D:\\git_repos\\lab_data_science\n"
     ]
    }
   ],
   "source": [
    "cd ../"
   ]
  },
  {
   "cell_type": "code",
   "execution_count": 5,
   "metadata": {},
   "outputs": [],
   "source": [
    "#TRAIN - VAL"
   ]
  },
  {
   "cell_type": "code",
   "execution_count": 3,
   "metadata": {},
   "outputs": [],
   "source": [
    "import src.config as cfg\n",
    "from src.utils import save_as_pickle, load_as_pickle"
   ]
  },
  {
   "cell_type": "code",
   "execution_count": 10,
   "metadata": {},
   "outputs": [],
   "source": [
    "# raw_path = 'data/raw/'\n",
    "# train = pd.read_csv(os.path.join(raw_path, 'train.csv'))\n",
    "# test = pd.read_csv(os.path.join(raw_path, 'test.csv'))"
   ]
  },
  {
   "cell_type": "code",
   "execution_count": 11,
   "metadata": {},
   "outputs": [],
   "source": [
    "# TARGET_COLS = ['Артериальная гипертензия', 'ОНМК', 'Стенокардия, ИБС, инфаркт миокарда', 'Сердечная недостаточность', 'Прочие заболевания сердца']\n",
    "# ID_COL = 'ID'\n",
    "# EDU_COL = 'Образование'\n",
    "# SEX_COL = 'Пол'\n",
    "# CAT_COLS = [\n",
    "#     'Пол', 'Семья', 'Этнос', 'Национальность', 'Религия', 'Образование', \n",
    "#     'Профессия', 'Статус Курения', 'Алкоголь',\n",
    "#     'Время засыпания', 'Время пробуждения'\n",
    "# ]\n",
    "# OHE_COLS = [\n",
    "#     'Пол', 'Вы работаете?', 'Выход на пенсию', 'Прекращение работы по болезни', 'Сахарный диабет', 'Гепатит',\n",
    "#     'Онкология', 'Хроническое заболевание легких', 'Бронжиальная астма', 'Туберкулез легких ', 'ВИЧ/СПИД',\n",
    "#     'Регулярный прим лекарственных средств', 'Травмы за год', 'Переломы','Пассивное курение', 'Сон после обеда', \n",
    "#     'Спорт, клубы', 'Религия, клубы'\n",
    "# ]\n",
    "# REAL_COLS = ['Возраст курения', 'Сигарет в день', 'Возраст алког', 'Частота пасс кур']"
   ]
  },
  {
   "cell_type": "code",
   "execution_count": 12,
   "metadata": {},
   "outputs": [],
   "source": [
    "# def set_idx(df: pd.DataFrame, idx_col: str) -> pd.DataFrame:\n",
    "#     df = df.set_index(idx_col)\n",
    "#     return df"
   ]
  },
  {
   "cell_type": "code",
   "execution_count": 13,
   "metadata": {},
   "outputs": [],
   "source": [
    "# train = train.set_index(ID_COL)\n",
    "# test = test.set_index(ID_COL)"
   ]
  },
  {
   "cell_type": "code",
   "execution_count": 14,
   "metadata": {},
   "outputs": [],
   "source": [
    "# train, target = train.drop(TARGET_COLS, axis=1), train[TARGET_COLS]"
   ]
  },
  {
   "cell_type": "code",
   "execution_count": 15,
   "metadata": {},
   "outputs": [],
   "source": [
    "# train.pipe()"
   ]
  },
  {
   "cell_type": "code",
   "execution_count": 16,
   "metadata": {},
   "outputs": [],
   "source": [
    "# def preprocess(df: pd.DataFrame) -> pd.DataFrame:\n",
    "#     df = set_idx(df, ID_COL)\n",
    "#     df = drop_unnecesary_id(df)\n",
    "#     df = fill_sex(df)\n",
    "#     df = cast_types(df)\n",
    "#     return df\n",
    "    \n",
    "    "
   ]
  },
  {
   "cell_type": "code",
   "execution_count": 17,
   "metadata": {},
   "outputs": [],
   "source": [
    "# def drop_unnecesary_id(df: pd.DataFrame) -> pd.DataFrame:\n",
    "#     if 'ID_y' in df.columns:\n",
    "#         df = df.drop('ID_y', axis=1)\n",
    "#     return df"
   ]
  },
  {
   "cell_type": "code",
   "execution_count": 18,
   "metadata": {},
   "outputs": [],
   "source": [
    "# train = drop_unnecesary_id(train)"
   ]
  },
  {
   "cell_type": "code",
   "execution_count": 19,
   "metadata": {},
   "outputs": [],
   "source": [
    "# def add_ord_edu(df: pd.DataFrame) -> pd.DataFrame:\n",
    "#     df[f'{EDU_COL}_ord'] = df[EDU_COL].str.slice(0, 1).astype(np.int8).values\n",
    "#     return df"
   ]
  },
  {
   "cell_type": "code",
   "execution_count": 20,
   "metadata": {},
   "outputs": [],
   "source": [
    "# train = add_ord_edu(train)\n",
    "# test = add_ord_edu(test)"
   ]
  },
  {
   "cell_type": "code",
   "execution_count": 21,
   "metadata": {},
   "outputs": [],
   "source": [
    "# def fill_sex(df: pd.DataFrame) -> pd.DataFrame:\n",
    "#     most_freq = df[SEX_COL].value_counts().index[0]\n",
    "#     df[SEX_COL] = df[SEX_COL].fillna(most_freq)\n",
    "#     return df"
   ]
  },
  {
   "cell_type": "code",
   "execution_count": 22,
   "metadata": {},
   "outputs": [],
   "source": [
    "# def cast_types(df: pd.DataFrame) -> pd.DataFrame:\n",
    "#     df[CAT_COLS] = df[CAT_COLS].astype('category')\n",
    "\n",
    "#     ohe_int_cols = train[OHE_COLS].select_dtypes('number').columns\n",
    "#     df[ohe_int_cols] = df[ohe_int_cols].astype(np.int8)\n",
    "\n",
    "#     df[REAL_COLS] = df[REAL_COLS].astype(np.float32)\n",
    "#     return df\n",
    "    "
   ]
  },
  {
   "cell_type": "code",
   "execution_count": 4,
   "metadata": {},
   "outputs": [],
   "source": [
    "from sklearn.metrics import r2_score, mean_squared_error, precision_score, recall_score, roc_auc_score, f1_score\n",
    "from sklearn.model_selection import train_test_split"
   ]
  },
  {
   "cell_type": "code",
   "execution_count": 24,
   "metadata": {},
   "outputs": [],
   "source": [
    "# train_data_path = 'data/interim/train.pkl'\n",
    "# target_data_path = 'data/interim/target.pkl'"
   ]
  },
  {
   "cell_type": "code",
   "execution_count": 25,
   "metadata": {},
   "outputs": [],
   "source": [
    "# def load_splitted_data(train_path, target_path):\n",
    "#     train = load_as_pickle(train_path)\n",
    "#     target = load_as_pickle(target_path)\n",
    "#     return train, target"
   ]
  },
  {
   "cell_type": "code",
   "execution_count": 26,
   "metadata": {},
   "outputs": [],
   "source": [
    "# train_data, target_data = load_splitted_data(train_data_path, target_data_path)"
   ]
  },
  {
   "cell_type": "code",
   "execution_count": 27,
   "metadata": {},
   "outputs": [],
   "source": [
    "# x_train, x_test, y_train, y_test = train_test_split(train_data, target_data, test_size=0.25)"
   ]
  },
  {
   "cell_type": "code",
   "execution_count": 28,
   "metadata": {},
   "outputs": [],
   "source": [
    "# path_to_splitted_train_data = 'data/processed/train.pkl'\n",
    "# path_to_splitted_train_data_target = 'data/processed/train_target.pkl'\n",
    "# path_to_splitted_val_data = 'data/processed/val.pkl'\n",
    "# path_to_splitted_val_data_target = 'data/processed/val_target.pkl'"
   ]
  },
  {
   "cell_type": "code",
   "execution_count": 29,
   "metadata": {},
   "outputs": [],
   "source": [
    "# save_as_pickle(x_train, path_to_splitted_train_data)\n",
    "# save_as_pickle(y_train, path_to_splitted_train_data_target)\n",
    "# save_as_pickle(x_test, path_to_splitted_val_data)\n",
    "# save_as_pickle(y_test, path_to_splitted_val_data_target)"
   ]
  },
  {
   "cell_type": "code",
   "execution_count": 30,
   "metadata": {},
   "outputs": [],
   "source": [
    "#FEATURE GENERATION"
   ]
  },
  {
   "cell_type": "code",
   "execution_count": 5,
   "metadata": {},
   "outputs": [],
   "source": [
    "from src.config import (path_to_splitted_train_data,\n",
    "                path_to_splitted_train_data_target,\n",
    "                path_to_splitted_val_data,\n",
    "                path_to_splitted_val_data_target)"
   ]
  },
  {
   "cell_type": "code",
   "execution_count": 6,
   "metadata": {},
   "outputs": [],
   "source": [
    "x_train = load_as_pickle(path_to_splitted_train_data)\n",
    "y_train = load_as_pickle(path_to_splitted_train_data_target)\n",
    "x_val = load_as_pickle(path_to_splitted_val_data)\n",
    "y_val = load_as_pickle(path_to_splitted_val_data_target)"
   ]
  },
  {
   "cell_type": "code",
   "execution_count": 13,
   "metadata": {},
   "outputs": [],
   "source": [
    "import src.features.utils as feat_utils\n",
    "from sklearn.pipeline import Pipeline\n",
    "from src.utils import load_model_as_pickle"
   ]
  },
  {
   "cell_type": "code",
   "execution_count": 15,
   "metadata": {},
   "outputs": [],
   "source": [
    "RFC = load_model_as_pickle('models/' + cfg.name_lr_model)"
   ]
  },
  {
   "cell_type": "code",
   "execution_count": 20,
   "metadata": {},
   "outputs": [
    {
     "name": "stderr",
     "output_type": "stream",
     "text": [
      "C:\\git\\lab_data_science\\venv\\lib\\site-packages\\category_encoders\\target_encoder.py:92: FutureWarning: Default parameter min_samples_leaf will change in version 2.6.See https://github.com/scikit-learn-contrib/category_encoders/issues/327\n",
      "  warnings.warn(\"Default parameter min_samples_leaf will change in version 2.6.\"\n",
      "C:\\git\\lab_data_science\\venv\\lib\\site-packages\\category_encoders\\target_encoder.py:97: FutureWarning: Default parameter smoothing will change in version 2.6.See https://github.com/scikit-learn-contrib/category_encoders/issues/327\n",
      "  warnings.warn(\"Default parameter smoothing will change in version 2.6.\"\n"
     ]
    }
   ],
   "source": [
    "RFC_pipeline = Pipeline([('column_filler', feat_utils.empty_column_filler()),\n",
    "                            ('target_encoder', feat_utils.TargetEncoder(cfg.CAT_COLS, 5)),\n",
    "                            ('model', RFC)])"
   ]
  },
  {
   "cell_type": "code",
   "execution_count": 22,
   "metadata": {},
   "outputs": [
    {
     "data": {
      "text/html": [
       "<style>#sk-container-id-2 {color: black;background-color: white;}#sk-container-id-2 pre{padding: 0;}#sk-container-id-2 div.sk-toggleable {background-color: white;}#sk-container-id-2 label.sk-toggleable__label {cursor: pointer;display: block;width: 100%;margin-bottom: 0;padding: 0.3em;box-sizing: border-box;text-align: center;}#sk-container-id-2 label.sk-toggleable__label-arrow:before {content: \"▸\";float: left;margin-right: 0.25em;color: #696969;}#sk-container-id-2 label.sk-toggleable__label-arrow:hover:before {color: black;}#sk-container-id-2 div.sk-estimator:hover label.sk-toggleable__label-arrow:before {color: black;}#sk-container-id-2 div.sk-toggleable__content {max-height: 0;max-width: 0;overflow: hidden;text-align: left;background-color: #f0f8ff;}#sk-container-id-2 div.sk-toggleable__content pre {margin: 0.2em;color: black;border-radius: 0.25em;background-color: #f0f8ff;}#sk-container-id-2 input.sk-toggleable__control:checked~div.sk-toggleable__content {max-height: 200px;max-width: 100%;overflow: auto;}#sk-container-id-2 input.sk-toggleable__control:checked~label.sk-toggleable__label-arrow:before {content: \"▾\";}#sk-container-id-2 div.sk-estimator input.sk-toggleable__control:checked~label.sk-toggleable__label {background-color: #d4ebff;}#sk-container-id-2 div.sk-label input.sk-toggleable__control:checked~label.sk-toggleable__label {background-color: #d4ebff;}#sk-container-id-2 input.sk-hidden--visually {border: 0;clip: rect(1px 1px 1px 1px);clip: rect(1px, 1px, 1px, 1px);height: 1px;margin: -1px;overflow: hidden;padding: 0;position: absolute;width: 1px;}#sk-container-id-2 div.sk-estimator {font-family: monospace;background-color: #f0f8ff;border: 1px dotted black;border-radius: 0.25em;box-sizing: border-box;margin-bottom: 0.5em;}#sk-container-id-2 div.sk-estimator:hover {background-color: #d4ebff;}#sk-container-id-2 div.sk-parallel-item::after {content: \"\";width: 100%;border-bottom: 1px solid gray;flex-grow: 1;}#sk-container-id-2 div.sk-label:hover label.sk-toggleable__label {background-color: #d4ebff;}#sk-container-id-2 div.sk-serial::before {content: \"\";position: absolute;border-left: 1px solid gray;box-sizing: border-box;top: 0;bottom: 0;left: 50%;z-index: 0;}#sk-container-id-2 div.sk-serial {display: flex;flex-direction: column;align-items: center;background-color: white;padding-right: 0.2em;padding-left: 0.2em;position: relative;}#sk-container-id-2 div.sk-item {position: relative;z-index: 1;}#sk-container-id-2 div.sk-parallel {display: flex;align-items: stretch;justify-content: center;background-color: white;position: relative;}#sk-container-id-2 div.sk-item::before, #sk-container-id-2 div.sk-parallel-item::before {content: \"\";position: absolute;border-left: 1px solid gray;box-sizing: border-box;top: 0;bottom: 0;left: 50%;z-index: -1;}#sk-container-id-2 div.sk-parallel-item {display: flex;flex-direction: column;z-index: 1;position: relative;background-color: white;}#sk-container-id-2 div.sk-parallel-item:first-child::after {align-self: flex-end;width: 50%;}#sk-container-id-2 div.sk-parallel-item:last-child::after {align-self: flex-start;width: 50%;}#sk-container-id-2 div.sk-parallel-item:only-child::after {width: 0;}#sk-container-id-2 div.sk-dashed-wrapped {border: 1px dashed gray;margin: 0 0.4em 0.5em 0.4em;box-sizing: border-box;padding-bottom: 0.4em;background-color: white;}#sk-container-id-2 div.sk-label label {font-family: monospace;font-weight: bold;display: inline-block;line-height: 1.2em;}#sk-container-id-2 div.sk-label-container {text-align: center;}#sk-container-id-2 div.sk-container {/* jupyter's `normalize.less` sets `[hidden] { display: none; }` but bootstrap.min.css set `[hidden] { display: none !important; }` so we also need the `!important` here to be able to override the default hidden behavior on the sphinx rendered scikit-learn.org. See: https://github.com/scikit-learn/scikit-learn/issues/21755 */display: inline-block !important;position: relative;}#sk-container-id-2 div.sk-text-repr-fallback {display: none;}</style><div id=\"sk-container-id-2\" class=\"sk-top-container\"><div class=\"sk-text-repr-fallback\"><pre>Pipeline(steps=[(&#x27;column_filler&#x27;,\n",
       "                 &lt;src.features.utils.empty_column_filler object at 0x0000023BC61A8940&gt;),\n",
       "                (&#x27;target_encoder&#x27;,\n",
       "                 &lt;src.features.utils.TargetEncoder object at 0x0000023BC61A88E0&gt;),\n",
       "                (&#x27;model&#x27;,\n",
       "                 MultiOutputClassifier(estimator=RandomForestClassifier(max_depth=100)))])</pre><b>In a Jupyter environment, please rerun this cell to show the HTML representation or trust the notebook. <br />On GitHub, the HTML representation is unable to render, please try loading this page with nbviewer.org.</b></div><div class=\"sk-container\" hidden><div class=\"sk-item sk-dashed-wrapped\"><div class=\"sk-label-container\"><div class=\"sk-label sk-toggleable\"><input class=\"sk-toggleable__control sk-hidden--visually\" id=\"sk-estimator-id-7\" type=\"checkbox\" ><label for=\"sk-estimator-id-7\" class=\"sk-toggleable__label sk-toggleable__label-arrow\">Pipeline</label><div class=\"sk-toggleable__content\"><pre>Pipeline(steps=[(&#x27;column_filler&#x27;,\n",
       "                 &lt;src.features.utils.empty_column_filler object at 0x0000023BC61A8940&gt;),\n",
       "                (&#x27;target_encoder&#x27;,\n",
       "                 &lt;src.features.utils.TargetEncoder object at 0x0000023BC61A88E0&gt;),\n",
       "                (&#x27;model&#x27;,\n",
       "                 MultiOutputClassifier(estimator=RandomForestClassifier(max_depth=100)))])</pre></div></div></div><div class=\"sk-serial\"><div class=\"sk-item\"><div class=\"sk-estimator sk-toggleable\"><input class=\"sk-toggleable__control sk-hidden--visually\" id=\"sk-estimator-id-8\" type=\"checkbox\" ><label for=\"sk-estimator-id-8\" class=\"sk-toggleable__label sk-toggleable__label-arrow\">empty_column_filler</label><div class=\"sk-toggleable__content\"><pre>&lt;src.features.utils.empty_column_filler object at 0x0000023BC61A8940&gt;</pre></div></div></div><div class=\"sk-item\"><div class=\"sk-estimator sk-toggleable\"><input class=\"sk-toggleable__control sk-hidden--visually\" id=\"sk-estimator-id-9\" type=\"checkbox\" ><label for=\"sk-estimator-id-9\" class=\"sk-toggleable__label sk-toggleable__label-arrow\">TargetEncoder</label><div class=\"sk-toggleable__content\"><pre>&lt;src.features.utils.TargetEncoder object at 0x0000023BC61A88E0&gt;</pre></div></div></div><div class=\"sk-item sk-dashed-wrapped\"><div class=\"sk-label-container\"><div class=\"sk-label sk-toggleable\"><input class=\"sk-toggleable__control sk-hidden--visually\" id=\"sk-estimator-id-10\" type=\"checkbox\" ><label for=\"sk-estimator-id-10\" class=\"sk-toggleable__label sk-toggleable__label-arrow\">model: MultiOutputClassifier</label><div class=\"sk-toggleable__content\"><pre>MultiOutputClassifier(estimator=RandomForestClassifier(max_depth=100))</pre></div></div></div><div class=\"sk-parallel\"><div class=\"sk-parallel-item\"><div class=\"sk-item\"><div class=\"sk-label-container\"><div class=\"sk-label sk-toggleable\"><input class=\"sk-toggleable__control sk-hidden--visually\" id=\"sk-estimator-id-11\" type=\"checkbox\" ><label for=\"sk-estimator-id-11\" class=\"sk-toggleable__label sk-toggleable__label-arrow\">estimator: RandomForestClassifier</label><div class=\"sk-toggleable__content\"><pre>RandomForestClassifier(max_depth=100)</pre></div></div></div><div class=\"sk-serial\"><div class=\"sk-item\"><div class=\"sk-estimator sk-toggleable\"><input class=\"sk-toggleable__control sk-hidden--visually\" id=\"sk-estimator-id-12\" type=\"checkbox\" ><label for=\"sk-estimator-id-12\" class=\"sk-toggleable__label sk-toggleable__label-arrow\">RandomForestClassifier</label><div class=\"sk-toggleable__content\"><pre>RandomForestClassifier(max_depth=100)</pre></div></div></div></div></div></div></div></div></div></div></div></div>"
      ],
      "text/plain": [
       "Pipeline(steps=[('column_filler',\n",
       "                 <src.features.utils.empty_column_filler object at 0x0000023BC61A8940>),\n",
       "                ('target_encoder',\n",
       "                 <src.features.utils.TargetEncoder object at 0x0000023BC61A88E0>),\n",
       "                ('model',\n",
       "                 MultiOutputClassifier(estimator=RandomForestClassifier(max_depth=100)))])"
      ]
     },
     "execution_count": 22,
     "metadata": {},
     "output_type": "execute_result"
    }
   ],
   "source": [
    "RFC_pipeline.fit(x_train, y_train)"
   ]
  },
  {
   "cell_type": "code",
   "execution_count": 23,
   "metadata": {},
   "outputs": [
    {
     "data": {
      "text/plain": [
       "array([[1, 0, 0, 0, 0],\n",
       "       [0, 0, 0, 0, 0],\n",
       "       [0, 0, 0, 0, 0],\n",
       "       ...,\n",
       "       [0, 0, 0, 0, 0],\n",
       "       [0, 0, 0, 0, 0],\n",
       "       [0, 0, 0, 0, 0]], dtype=int8)"
      ]
     },
     "execution_count": 23,
     "metadata": {},
     "output_type": "execute_result"
    }
   ],
   "source": [
    "RFC_pipeline.predict(x_val)"
   ]
  },
  {
   "cell_type": "code",
   "execution_count": 33,
   "metadata": {},
   "outputs": [],
   "source": [
    "import category_encoders as ce"
   ]
  },
  {
   "cell_type": "code",
   "execution_count": 25,
   "metadata": {},
   "outputs": [
    {
     "data": {
      "text/plain": [
       "array([[1, 0, 0, 0, 0],\n",
       "       [0, 0, 0, 0, 0],\n",
       "       [0, 0, 0, 0, 0],\n",
       "       ...,\n",
       "       [0, 0, 0, 0, 0],\n",
       "       [0, 0, 0, 0, 0],\n",
       "       [0, 0, 0, 0, 0]], dtype=int8)"
      ]
     },
     "execution_count": 25,
     "metadata": {},
     "output_type": "execute_result"
    }
   ],
   "source": [
    "pipline = load_model_as_pickle('models/' + cfg.name_RFC_pipeline)\n",
    "pipline.predict(x_val)"
   ]
  },
  {
   "cell_type": "code",
   "execution_count": 34,
   "metadata": {},
   "outputs": [],
   "source": [
    "def second_hand_smoke_count(value):\n",
    "    if value == '1-2 раза в неделю':\n",
    "        return 1.5\n",
    "    if value == '2-3 раза в день':\n",
    "        return 17.5\n",
    "    if value == '3-6 раз в неделю':\n",
    "        return 4.5\n",
    "    if value == '4 и более раз в день':\n",
    "        return 28.0\n",
    "    if value == 'не менее 1 раза в день':\n",
    "        return 7.0\n",
    "    return 0.0"
   ]
  },
  {
   "cell_type": "code",
   "execution_count": 35,
   "metadata": {},
   "outputs": [],
   "source": [
    "def fill_real_cols_with_zero(df):\n",
    "    df = df.fillna(0.)\n",
    "    return df\n",
    "\n",
    "def fill_real_cols(data):\n",
    "    data.loc[:, cfg.REAL_COLS[:-1]] = fill_real_cols_with_zero(data.loc[:, cfg.REAL_COLS[:-1]])\n",
    "    data['Частота пасс кур'] = [second_hand_smoke_count(i) for i in data['Частота пасс кур']]\n",
    "    return data"
   ]
  },
  {
   "cell_type": "code",
   "execution_count": 36,
   "metadata": {},
   "outputs": [],
   "source": [
    "x_train = fill_real_cols(x_train)"
   ]
  },
  {
   "cell_type": "code",
   "execution_count": 37,
   "metadata": {},
   "outputs": [],
   "source": [
    "class empty_column_filler:\n",
    "    def second_hand_smoke_count(self, value):\n",
    "        if value == '1-2 раза в неделю':\n",
    "            return 1.5\n",
    "        if value == '2-3 раза в день':\n",
    "            return 17.5\n",
    "        if value == '3-6 раз в неделю':\n",
    "            return 4.5\n",
    "        if value == '4 и более раз в день':\n",
    "            return 28.0\n",
    "        if value == 'не менее 1 раза в день':\n",
    "            return 7.0\n",
    "        return 0.0\n",
    "    \n",
    "    \n",
    "    def fill_real_cols_with_zero(self, df):\n",
    "        df = df.fillna(0.)\n",
    "        return df\n",
    "\n",
    "    def fill_real_cols(self, data):\n",
    "        data.loc[:, cfg.REAL_COLS[:-1]] = fill_real_cols_with_zero(data.loc[:, cfg.REAL_COLS[:-1]])\n",
    "        data['Частота пасс кур'] = [second_hand_smoke_count(i) for i in data['Частота пасс кур']]\n",
    "        return data\n",
    "\n",
    "\n",
    "    def fit(self, x, y=None):\n",
    "        x = self.fill_real_cols(x)\n",
    "\n",
    "    def transform(self, x, y=None):\n",
    "        x = self.fill_real_cols(x)\n",
    "        return x\n",
    "\n",
    "    def fit_transform(self, x, y=None):\n",
    "        return self.transform(x)"
   ]
  },
  {
   "cell_type": "code",
   "execution_count": 38,
   "metadata": {},
   "outputs": [],
   "source": [
    "# def target_encode_multiclass(X,y): #X,y are pandas df and series\n",
    "#     y=y.astype(str)  #convert to string to onehot encode\n",
    "#     enc=ce.OneHotEncoder().fit(y)\n",
    "#     y_onehot=enc.transform(y) \n",
    "\n",
    "#     class_names=y_onehot.columns  #names of onehot encoded columns\n",
    "\n",
    "#     X_obj=X.select_dtypes('object') #separate categorical columns\n",
    "#     X=X.select_dtypes(exclude='object')\n",
    "\n",
    "#     for class_ in class_names:\n",
    "\n",
    "#         enc=ce.TargetEncoder()\n",
    "#         enc.fit(X_obj,y_onehot[class_]) #convert all categorical\n",
    "#         temp=enc.transform(X_obj)       #columns for class_\n",
    "#         temp.columns=[str(x)+'_'+str(class_) for x in temp.columns]\n",
    "#         X=pd.concat([X,temp],axis=1)    #add to original dataset\n",
    "\n",
    "#     return X"
   ]
  },
  {
   "cell_type": "code",
   "execution_count": 39,
   "metadata": {},
   "outputs": [],
   "source": [
    "# class TargetEncoder(BaseEstimator, TransformerMixin):\n",
    "class TargetEncoder():\n",
    "    \n",
    "    def __init__(self, cat_cols, num_classes=1):\n",
    "        self.te = [ce.TargetEncoder(drop_invariant=False)] * num_classes\n",
    "        self.cat_cols = cat_cols\n",
    "        \n",
    "        \n",
    "    def fit(self, x, y):\n",
    "        for target_num in range(num_classes):\n",
    "            target_col = cfg.TARGET_COLS[target_num]\n",
    "            self.te[target_num].fit(x[self.cat_cols], y_train[target_col])\n",
    "\n",
    "        \n",
    "    def transform(self, x, y=None):\n",
    "        target_encoded_x = x.copy()\n",
    "        for target_num in range(num_classes):\n",
    "            target_col = cfg.TARGET_COLS[target_num]\n",
    "            encoded_cols = self.te[target_num].transform(x[self.cat_cols])\n",
    "            \n",
    "            target_encoded_x[[col + \"/\" + target_col for col in self.cat_cols]] = encoded_cols\n",
    "\n",
    "        target_encoded_x = target_encoded_x.drop(self.cat_cols, axis=1)\n",
    "        return target_encoded_x\n",
    "            \n",
    "    def fit_transform(self, x, y=None):\n",
    "        self.fit(x, y)\n",
    "        return self.transform(x, y)"
   ]
  },
  {
   "cell_type": "code",
   "execution_count": 40,
   "metadata": {},
   "outputs": [
    {
     "name": "stderr",
     "output_type": "stream",
     "text": [
      "C:\\git\\lab_data_science\\venv\\lib\\site-packages\\category_encoders\\target_encoder.py:92: FutureWarning: Default parameter min_samples_leaf will change in version 2.6.See https://github.com/scikit-learn-contrib/category_encoders/issues/327\n",
      "  warnings.warn(\"Default parameter min_samples_leaf will change in version 2.6.\"\n",
      "C:\\git\\lab_data_science\\venv\\lib\\site-packages\\category_encoders\\target_encoder.py:97: FutureWarning: Default parameter smoothing will change in version 2.6.See https://github.com/scikit-learn-contrib/category_encoders/issues/327\n",
      "  warnings.warn(\"Default parameter smoothing will change in version 2.6.\"\n"
     ]
    }
   ],
   "source": [
    "target_encoder = TargetEncoder(cfg.CAT_COLS, 5)"
   ]
  },
  {
   "cell_type": "code",
   "execution_count": 41,
   "metadata": {},
   "outputs": [],
   "source": [
    "# def target_encoding(cat_features, x_train, y_train=None, test=False):\n",
    "#     target_encoded_x_train = x_train.copy()\n",
    "#     for target_num in range(num_classes):\n",
    "#         target_col = cfg.TARGET_COLS[target_num]\n",
    "#         if test:\n",
    "#             encoded_cols = te[target_num].transform(x_train[cat_features])\n",
    "#         else:\n",
    "#             encoded_cols = te[target_num].fit_transform(x_train[cat_features], y_train[target_col])\n",
    "            \n",
    "#         target_encoded_x_train[[col + \"/\" + target_col for col in cfg.CAT_COLS]] = encoded_cols\n",
    "\n",
    "#     target_encoded_x_train = target_encoded_x_train.drop(cat_features, axis=1)\n",
    "#     return target_encoded_x_train"
   ]
  },
  {
   "cell_type": "code",
   "execution_count": 42,
   "metadata": {},
   "outputs": [],
   "source": [
    "num_classes = 5"
   ]
  },
  {
   "cell_type": "code",
   "execution_count": 43,
   "metadata": {},
   "outputs": [],
   "source": [
    "\n",
    "#     target_encoded_x_train.insert(loc=target_encoded_x_train.columns[:-1],\n",
    "#                                   column=[col + \"/\" + target_col for col in cfg.CAT_COLS],\n",
    "#                                   value=encoded_cols,\n",
    "#                                   allow_duplicates = False)\n",
    "        "
   ]
  },
  {
   "cell_type": "code",
   "execution_count": 44,
   "metadata": {},
   "outputs": [
    {
     "data": {
      "text/plain": [
       "<bound method DataFrame.info of               Пол                                      Семья        Этнос  \\\n",
       "ID                                                                          \n",
       "54-101-042-01   Ж                  в браке в настоящее время  европейская   \n",
       "54-102-020-01   М                  в браке в настоящее время  европейская   \n",
       "54-102-128-02   Ж                  в браке в настоящее время  европейская   \n",
       "54-002-027-01   Ж                  в браке в настоящее время  европейская   \n",
       "54-102-344-01   Ж                  в браке в настоящее время  европейская   \n",
       "...            ..                                        ...          ...   \n",
       "54-701-041-01   Ж                  в браке в настоящее время  европейская   \n",
       "54-001-017-01   Ж                             вдовец / вдова  европейская   \n",
       "54-002-050-01   Ж                                  в разводе  европейская   \n",
       "54-102-263-01   Ж  гражданский брак / проживание с партнером  европейская   \n",
       "54-504-029-01   М                  в браке в настоящее время  европейская   \n",
       "\n",
       "              Национальность            Религия  \\\n",
       "ID                                                \n",
       "54-101-042-01        Русские       Христианство   \n",
       "54-102-020-01        Русские       Христианство   \n",
       "54-102-128-02        Русские       Христианство   \n",
       "54-002-027-01        Русские       Христианство   \n",
       "54-102-344-01        Русские  Атеист / агностик   \n",
       "...                      ...                ...   \n",
       "54-701-041-01        Русские       Христианство   \n",
       "54-001-017-01        Русские       Христианство   \n",
       "54-002-050-01        Русские       Христианство   \n",
       "54-102-263-01        Русские  Атеист / агностик   \n",
       "54-504-029-01        Русские  Атеист / агностик   \n",
       "\n",
       "                                                     Образование  \\\n",
       "ID                                                                 \n",
       "54-101-042-01                       4 - профессиональное училище   \n",
       "54-102-020-01  3 - средняя школа / закон.среднее / выше среднего   \n",
       "54-102-128-02                                            5 - ВУЗ   \n",
       "54-002-027-01                                            5 - ВУЗ   \n",
       "54-102-344-01                       4 - профессиональное училище   \n",
       "...                                                          ...   \n",
       "54-701-041-01                       4 - профессиональное училище   \n",
       "54-001-017-01                       4 - профессиональное училище   \n",
       "54-002-050-01                       4 - профессиональное училище   \n",
       "54-102-263-01                       4 - профессиональное училище   \n",
       "54-504-029-01                       4 - профессиональное училище   \n",
       "\n",
       "                                                       Профессия  \\\n",
       "ID                                                                 \n",
       "54-101-042-01  работники,  занятые в сфере обслуживания, торг...   \n",
       "54-102-020-01  ремесленники и представители других отраслей п...   \n",
       "54-102-128-02  представители   законодат.   органов   власти,...   \n",
       "54-002-027-01                                           служащие   \n",
       "54-102-344-01                      техники и младшие специалисты   \n",
       "...                                                          ...   \n",
       "54-701-041-01                        дипломированные специалисты   \n",
       "54-001-017-01  операторы и монтажники установок и машинного о...   \n",
       "54-002-050-01                      техники и младшие специалисты   \n",
       "54-102-263-01  ремесленники и представители других отраслей п...   \n",
       "54-504-029-01  квалифицированные работники сельского хозяйств...   \n",
       "\n",
       "               Вы работаете?  Выход на пенсию  Прекращение работы по болезни  \\\n",
       "ID                                                                             \n",
       "54-101-042-01              0                1                              0   \n",
       "54-102-020-01              1                0                              0   \n",
       "54-102-128-02              1                0                              0   \n",
       "54-002-027-01              0                1                              0   \n",
       "54-102-344-01              1                0                              0   \n",
       "...                      ...              ...                            ...   \n",
       "54-701-041-01              1                0                              0   \n",
       "54-001-017-01              0                1                              0   \n",
       "54-002-050-01              0                1                              0   \n",
       "54-102-263-01              0                1                              0   \n",
       "54-504-029-01              1                0                              0   \n",
       "\n",
       "               ...  Сигарет в день  Пассивное курение        Частота пасс кур  \\\n",
       "ID             ...                                                              \n",
       "54-101-042-01  ...             NaN                  0                     NaN   \n",
       "54-102-020-01  ...             NaN                  1       1-2 раза в неделю   \n",
       "54-102-128-02  ...             NaN                  0                     NaN   \n",
       "54-002-027-01  ...             NaN                  1         2-3 раза в день   \n",
       "54-102-344-01  ...             5.0                  1    4 и более раз в день   \n",
       "...            ...             ...                ...                     ...   \n",
       "54-701-041-01  ...             NaN                  0                     NaN   \n",
       "54-001-017-01  ...            20.0                  0                     NaN   \n",
       "54-002-050-01  ...             NaN                  1       1-2 раза в неделю   \n",
       "54-102-263-01  ...             NaN                  1       1-2 раза в неделю   \n",
       "54-504-029-01  ...            20.0                  1  не менее 1 раза в день   \n",
       "\n",
       "                                   Алкоголь  Возраст алког  Время засыпания  \\\n",
       "ID                                                                            \n",
       "54-101-042-01  употребляю в настоящее время           25.0         21:00:00   \n",
       "54-102-020-01  употребляю в настоящее время           18.0         23:00:00   \n",
       "54-102-128-02              ранее употреблял           21.0         00:00:00   \n",
       "54-002-027-01         никогда не употреблял            NaN         02:00:00   \n",
       "54-102-344-01  употребляю в настоящее время           20.0         23:00:00   \n",
       "...                                     ...            ...              ...   \n",
       "54-701-041-01  употребляю в настоящее время           18.0         22:00:00   \n",
       "54-001-017-01  употребляю в настоящее время           20.0         01:00:00   \n",
       "54-002-050-01  употребляю в настоящее время           20.0         00:00:00   \n",
       "54-102-263-01  употребляю в настоящее время           20.0         23:00:00   \n",
       "54-504-029-01  употребляю в настоящее время           17.0         22:00:00   \n",
       "\n",
       "               Время пробуждения  Сон после обеда  Спорт, клубы  \\\n",
       "ID                                                                \n",
       "54-101-042-01           05:00:00                1             0   \n",
       "54-102-020-01           09:00:00                0             0   \n",
       "54-102-128-02           07:00:00                0             1   \n",
       "54-002-027-01           07:30:00                0             0   \n",
       "54-102-344-01           06:00:00                0             0   \n",
       "...                          ...              ...           ...   \n",
       "54-701-041-01           06:30:00                0             0   \n",
       "54-001-017-01           08:00:00                0             0   \n",
       "54-002-050-01           07:00:00                0             0   \n",
       "54-102-263-01           08:00:00                1             0   \n",
       "54-504-029-01           07:00:00                0             0   \n",
       "\n",
       "               Религия, клубы  \n",
       "ID                             \n",
       "54-101-042-01               0  \n",
       "54-102-020-01               0  \n",
       "54-102-128-02               0  \n",
       "54-002-027-01               0  \n",
       "54-102-344-01               0  \n",
       "...                       ...  \n",
       "54-701-041-01               0  \n",
       "54-001-017-01               0  \n",
       "54-002-050-01               0  \n",
       "54-102-263-01               0  \n",
       "54-504-029-01               0  \n",
       "\n",
       "[239 rows x 32 columns]>"
      ]
     },
     "execution_count": 44,
     "metadata": {},
     "output_type": "execute_result"
    }
   ],
   "source": [
    "x_val.info"
   ]
  },
  {
   "cell_type": "code",
   "execution_count": 45,
   "metadata": {},
   "outputs": [],
   "source": [
    "from sklearn.pipeline import Pipeline"
   ]
  },
  {
   "cell_type": "code",
   "execution_count": 47,
   "metadata": {},
   "outputs": [],
   "source": [
    "# lr_pipeline = Pipeline([('column_filler', empty_column_filler()),\n",
    "#                      ('target_encoder', TargetEncoder(cfg.CAT_COLS, 5)),\n",
    "#                      ('model', MultiOutputClassifier(LogisticRegression(max_iter=10000)))])\n",
    "# lr_pipeline.fit(x_train, y_train)\n",
    "# # pipeline.predict(x_train)"
   ]
  },
  {
   "cell_type": "code",
   "execution_count": null,
   "metadata": {},
   "outputs": [],
   "source": [
    "# lr_pipeline.predict(x_val)"
   ]
  },
  {
   "cell_type": "code",
   "execution_count": null,
   "metadata": {},
   "outputs": [],
   "source": [
    "# target_encoded_x_train = target_encoder.fit_transform(x_train, y_train)\n",
    "\n",
    "# target_encoded_x_test = target_encoder.transform(x_test, y_test)\n",
    "# target_encoded_x_test"
   ]
  },
  {
   "cell_type": "code",
   "execution_count": null,
   "metadata": {},
   "outputs": [],
   "source": [
    "#MODELS"
   ]
  },
  {
   "cell_type": "code",
   "execution_count": 30,
   "metadata": {},
   "outputs": [],
   "source": [
    "import catboost"
   ]
  },
  {
   "cell_type": "code",
   "execution_count": 32,
   "metadata": {},
   "outputs": [],
   "source": [
    "def get_indexes_of_cat_columns(df: pd.DataFrame, col_names: str):\n",
    "    idx = []\n",
    "    for col in col_names:\n",
    "        idx.append(df.columns.tolist().index(col))\n",
    "        \n",
    "    return idx"
   ]
  },
  {
   "cell_type": "code",
   "execution_count": 33,
   "metadata": {},
   "outputs": [
    {
     "data": {
      "text/plain": [
       "[0, 1, 2, 3, 4, 5, 6, 20, 25, 27, 28]"
      ]
     },
     "execution_count": 33,
     "metadata": {},
     "output_type": "execute_result"
    }
   ],
   "source": [
    "cat_idx = get_indexes_of_cat_columns(x_train, cfg.CAT_COLS)\n",
    "cat_idx"
   ]
  },
  {
   "cell_type": "code",
   "execution_count": 84,
   "metadata": {},
   "outputs": [],
   "source": [
    "from sklearn.model_selection import GridSearchCV"
   ]
  },
  {
   "cell_type": "code",
   "execution_count": 98,
   "metadata": {},
   "outputs": [
    {
     "data": {
      "text/plain": [
       "[0, 1, 2, 3, 4, 5, 6, 20, 25, 27, 28]"
      ]
     },
     "execution_count": 98,
     "metadata": {},
     "output_type": "execute_result"
    }
   ],
   "source": [
    "cat_idx"
   ]
  },
  {
   "cell_type": "code",
   "execution_count": 152,
   "metadata": {
    "scrolled": true
   },
   "outputs": [
    {
     "name": "stderr",
     "output_type": "stream",
     "text": [
      "C:\\git\\lab_data_science\\venv\\lib\\site-packages\\catboost\\core.py:1419: FutureWarning: iteritems is deprecated and will be removed in a future version. Use .items instead.\n",
      "  self._init_pool(data, label, cat_features, text_features, embedding_features, embedding_features_data, pairs, weight,\n"
     ]
    },
    {
     "name": "stdout",
     "output_type": "stream",
     "text": [
      "Learning rate set to 0.062039\n",
      "0:\tlearn: 0.6417310\ttotal: 47.8ms\tremaining: 4.73s\n",
      "99:\tlearn: 0.2120689\ttotal: 4.41s\tremaining: 0us\n",
      "Learning rate set to 0.062039\n",
      "0:\tlearn: 0.6477840\ttotal: 24ms\tremaining: 2.37s\n"
     ]
    },
    {
     "name": "stderr",
     "output_type": "stream",
     "text": [
      "C:\\git\\lab_data_science\\venv\\lib\\site-packages\\sklearn\\model_selection\\_validation.py:776: UserWarning: Scoring failed. The score on this train-test partition for these parameters will be set to nan. Details: \n",
      "Traceback (most recent call last):\n",
      "  File \"C:\\git\\lab_data_science\\venv\\lib\\site-packages\\sklearn\\model_selection\\_validation.py\", line 767, in _score\n",
      "    scores = scorer(estimator, X_test, y_test)\n",
      "  File \"C:\\git\\lab_data_science\\venv\\lib\\site-packages\\sklearn\\metrics\\_scorer.py\", line 219, in __call__\n",
      "    return self._score(\n",
      "  File \"C:\\git\\lab_data_science\\venv\\lib\\site-packages\\sklearn\\metrics\\_scorer.py\", line 267, in _score\n",
      "    return self._sign * self._score_func(y_true, y_pred, **self._kwargs)\n",
      "  File \"C:\\git\\lab_data_science\\venv\\lib\\site-packages\\sklearn\\metrics\\_classification.py\", line 1920, in recall_score\n",
      "    _, r, _, _ = precision_recall_fscore_support(\n",
      "  File \"C:\\git\\lab_data_science\\venv\\lib\\site-packages\\sklearn\\metrics\\_classification.py\", line 1563, in precision_recall_fscore_support\n",
      "    labels = _check_set_wise_labels(y_true, y_pred, average, labels, pos_label)\n",
      "  File \"C:\\git\\lab_data_science\\venv\\lib\\site-packages\\sklearn\\metrics\\_classification.py\", line 1381, in _check_set_wise_labels\n",
      "    raise ValueError(\n",
      "ValueError: Target is multilabel-indicator but average='binary'. Please choose another average setting, one of [None, 'micro', 'macro', 'weighted', 'samples'].\n",
      "\n",
      "  warnings.warn(\n",
      "C:\\git\\lab_data_science\\venv\\lib\\site-packages\\catboost\\core.py:1419: FutureWarning: iteritems is deprecated and will be removed in a future version. Use .items instead.\n",
      "  self._init_pool(data, label, cat_features, text_features, embedding_features, embedding_features_data, pairs, weight,\n"
     ]
    },
    {
     "name": "stdout",
     "output_type": "stream",
     "text": [
      "99:\tlearn: 0.2210599\ttotal: 4.65s\tremaining: 0us\n",
      "Learning rate set to 0.062094\n",
      "0:\tlearn: 0.6471926\ttotal: 13.9ms\tremaining: 1.37s\n"
     ]
    },
    {
     "name": "stderr",
     "output_type": "stream",
     "text": [
      "C:\\git\\lab_data_science\\venv\\lib\\site-packages\\sklearn\\model_selection\\_validation.py:776: UserWarning: Scoring failed. The score on this train-test partition for these parameters will be set to nan. Details: \n",
      "Traceback (most recent call last):\n",
      "  File \"C:\\git\\lab_data_science\\venv\\lib\\site-packages\\sklearn\\model_selection\\_validation.py\", line 767, in _score\n",
      "    scores = scorer(estimator, X_test, y_test)\n",
      "  File \"C:\\git\\lab_data_science\\venv\\lib\\site-packages\\sklearn\\metrics\\_scorer.py\", line 219, in __call__\n",
      "    return self._score(\n",
      "  File \"C:\\git\\lab_data_science\\venv\\lib\\site-packages\\sklearn\\metrics\\_scorer.py\", line 267, in _score\n",
      "    return self._sign * self._score_func(y_true, y_pred, **self._kwargs)\n",
      "  File \"C:\\git\\lab_data_science\\venv\\lib\\site-packages\\sklearn\\metrics\\_classification.py\", line 1920, in recall_score\n",
      "    _, r, _, _ = precision_recall_fscore_support(\n",
      "  File \"C:\\git\\lab_data_science\\venv\\lib\\site-packages\\sklearn\\metrics\\_classification.py\", line 1563, in precision_recall_fscore_support\n",
      "    labels = _check_set_wise_labels(y_true, y_pred, average, labels, pos_label)\n",
      "  File \"C:\\git\\lab_data_science\\venv\\lib\\site-packages\\sklearn\\metrics\\_classification.py\", line 1381, in _check_set_wise_labels\n",
      "    raise ValueError(\n",
      "ValueError: Target is multilabel-indicator but average='binary'. Please choose another average setting, one of [None, 'micro', 'macro', 'weighted', 'samples'].\n",
      "\n",
      "  warnings.warn(\n",
      "C:\\git\\lab_data_science\\venv\\lib\\site-packages\\catboost\\core.py:1419: FutureWarning: iteritems is deprecated and will be removed in a future version. Use .items instead.\n",
      "  self._init_pool(data, label, cat_features, text_features, embedding_features, embedding_features_data, pairs, weight,\n"
     ]
    },
    {
     "name": "stdout",
     "output_type": "stream",
     "text": [
      "99:\tlearn: 0.2036136\ttotal: 4.8s\tremaining: 0us\n",
      "Learning rate set to 0.062039\n",
      "0:\tlearn: 0.6408144\ttotal: 23.3ms\tremaining: 2.3s\n"
     ]
    },
    {
     "name": "stderr",
     "output_type": "stream",
     "text": [
      "C:\\git\\lab_data_science\\venv\\lib\\site-packages\\sklearn\\model_selection\\_validation.py:776: UserWarning: Scoring failed. The score on this train-test partition for these parameters will be set to nan. Details: \n",
      "Traceback (most recent call last):\n",
      "  File \"C:\\git\\lab_data_science\\venv\\lib\\site-packages\\sklearn\\model_selection\\_validation.py\", line 767, in _score\n",
      "    scores = scorer(estimator, X_test, y_test)\n",
      "  File \"C:\\git\\lab_data_science\\venv\\lib\\site-packages\\sklearn\\metrics\\_scorer.py\", line 219, in __call__\n",
      "    return self._score(\n",
      "  File \"C:\\git\\lab_data_science\\venv\\lib\\site-packages\\sklearn\\metrics\\_scorer.py\", line 267, in _score\n",
      "    return self._sign * self._score_func(y_true, y_pred, **self._kwargs)\n",
      "  File \"C:\\git\\lab_data_science\\venv\\lib\\site-packages\\sklearn\\metrics\\_classification.py\", line 1920, in recall_score\n",
      "    _, r, _, _ = precision_recall_fscore_support(\n",
      "  File \"C:\\git\\lab_data_science\\venv\\lib\\site-packages\\sklearn\\metrics\\_classification.py\", line 1563, in precision_recall_fscore_support\n",
      "    labels = _check_set_wise_labels(y_true, y_pred, average, labels, pos_label)\n",
      "  File \"C:\\git\\lab_data_science\\venv\\lib\\site-packages\\sklearn\\metrics\\_classification.py\", line 1381, in _check_set_wise_labels\n",
      "    raise ValueError(\n",
      "ValueError: Target is multilabel-indicator but average='binary'. Please choose another average setting, one of [None, 'micro', 'macro', 'weighted', 'samples'].\n",
      "\n",
      "  warnings.warn(\n",
      "C:\\git\\lab_data_science\\venv\\lib\\site-packages\\catboost\\core.py:1419: FutureWarning: iteritems is deprecated and will be removed in a future version. Use .items instead.\n",
      "  self._init_pool(data, label, cat_features, text_features, embedding_features, embedding_features_data, pairs, weight,\n"
     ]
    },
    {
     "name": "stdout",
     "output_type": "stream",
     "text": [
      "99:\tlearn: 0.2356221\ttotal: 4.93s\tremaining: 0us\n",
      "Learning rate set to 0.062039\n",
      "0:\tlearn: 0.6478289\ttotal: 30.7ms\tremaining: 3.04s\n"
     ]
    },
    {
     "name": "stderr",
     "output_type": "stream",
     "text": [
      "C:\\git\\lab_data_science\\venv\\lib\\site-packages\\sklearn\\model_selection\\_validation.py:776: UserWarning: Scoring failed. The score on this train-test partition for these parameters will be set to nan. Details: \n",
      "Traceback (most recent call last):\n",
      "  File \"C:\\git\\lab_data_science\\venv\\lib\\site-packages\\sklearn\\model_selection\\_validation.py\", line 767, in _score\n",
      "    scores = scorer(estimator, X_test, y_test)\n",
      "  File \"C:\\git\\lab_data_science\\venv\\lib\\site-packages\\sklearn\\metrics\\_scorer.py\", line 219, in __call__\n",
      "    return self._score(\n",
      "  File \"C:\\git\\lab_data_science\\venv\\lib\\site-packages\\sklearn\\metrics\\_scorer.py\", line 267, in _score\n",
      "    return self._sign * self._score_func(y_true, y_pred, **self._kwargs)\n",
      "  File \"C:\\git\\lab_data_science\\venv\\lib\\site-packages\\sklearn\\metrics\\_classification.py\", line 1920, in recall_score\n",
      "    _, r, _, _ = precision_recall_fscore_support(\n",
      "  File \"C:\\git\\lab_data_science\\venv\\lib\\site-packages\\sklearn\\metrics\\_classification.py\", line 1563, in precision_recall_fscore_support\n",
      "    labels = _check_set_wise_labels(y_true, y_pred, average, labels, pos_label)\n",
      "  File \"C:\\git\\lab_data_science\\venv\\lib\\site-packages\\sklearn\\metrics\\_classification.py\", line 1381, in _check_set_wise_labels\n",
      "    raise ValueError(\n",
      "ValueError: Target is multilabel-indicator but average='binary'. Please choose another average setting, one of [None, 'micro', 'macro', 'weighted', 'samples'].\n",
      "\n",
      "  warnings.warn(\n",
      "C:\\git\\lab_data_science\\venv\\lib\\site-packages\\catboost\\core.py:1419: FutureWarning: iteritems is deprecated and will be removed in a future version. Use .items instead.\n",
      "  self._init_pool(data, label, cat_features, text_features, embedding_features, embedding_features_data, pairs, weight,\n"
     ]
    },
    {
     "name": "stdout",
     "output_type": "stream",
     "text": [
      "99:\tlearn: 0.2232436\ttotal: 5.53s\tremaining: 0us\n",
      "Learning rate set to 0.062094\n"
     ]
    },
    {
     "name": "stderr",
     "output_type": "stream",
     "text": [
      "C:\\git\\lab_data_science\\venv\\lib\\site-packages\\sklearn\\model_selection\\_validation.py:776: UserWarning: Scoring failed. The score on this train-test partition for these parameters will be set to nan. Details: \n",
      "Traceback (most recent call last):\n",
      "  File \"C:\\git\\lab_data_science\\venv\\lib\\site-packages\\sklearn\\model_selection\\_validation.py\", line 767, in _score\n",
      "    scores = scorer(estimator, X_test, y_test)\n",
      "  File \"C:\\git\\lab_data_science\\venv\\lib\\site-packages\\sklearn\\metrics\\_scorer.py\", line 219, in __call__\n",
      "    return self._score(\n",
      "  File \"C:\\git\\lab_data_science\\venv\\lib\\site-packages\\sklearn\\metrics\\_scorer.py\", line 267, in _score\n",
      "    return self._sign * self._score_func(y_true, y_pred, **self._kwargs)\n",
      "  File \"C:\\git\\lab_data_science\\venv\\lib\\site-packages\\sklearn\\metrics\\_classification.py\", line 1920, in recall_score\n",
      "    _, r, _, _ = precision_recall_fscore_support(\n",
      "  File \"C:\\git\\lab_data_science\\venv\\lib\\site-packages\\sklearn\\metrics\\_classification.py\", line 1563, in precision_recall_fscore_support\n",
      "    labels = _check_set_wise_labels(y_true, y_pred, average, labels, pos_label)\n",
      "  File \"C:\\git\\lab_data_science\\venv\\lib\\site-packages\\sklearn\\metrics\\_classification.py\", line 1381, in _check_set_wise_labels\n",
      "    raise ValueError(\n",
      "ValueError: Target is multilabel-indicator but average='binary'. Please choose another average setting, one of [None, 'micro', 'macro', 'weighted', 'samples'].\n",
      "\n",
      "  warnings.warn(\n",
      "C:\\git\\lab_data_science\\venv\\lib\\site-packages\\catboost\\core.py:1419: FutureWarning: iteritems is deprecated and will be removed in a future version. Use .items instead.\n",
      "  self._init_pool(data, label, cat_features, text_features, embedding_features, embedding_features_data, pairs, weight,\n"
     ]
    },
    {
     "name": "stdout",
     "output_type": "stream",
     "text": [
      "0:\tlearn: 0.6470919\ttotal: 50.4ms\tremaining: 4.99s\n",
      "99:\tlearn: 0.2432719\ttotal: 5.24s\tremaining: 0us\n",
      "Learning rate set to 0.062039\n",
      "0:\tlearn: 0.6417310\ttotal: 18ms\tremaining: 1.78s\n"
     ]
    },
    {
     "name": "stderr",
     "output_type": "stream",
     "text": [
      "C:\\git\\lab_data_science\\venv\\lib\\site-packages\\sklearn\\model_selection\\_validation.py:776: UserWarning: Scoring failed. The score on this train-test partition for these parameters will be set to nan. Details: \n",
      "Traceback (most recent call last):\n",
      "  File \"C:\\git\\lab_data_science\\venv\\lib\\site-packages\\sklearn\\model_selection\\_validation.py\", line 767, in _score\n",
      "    scores = scorer(estimator, X_test, y_test)\n",
      "  File \"C:\\git\\lab_data_science\\venv\\lib\\site-packages\\sklearn\\metrics\\_scorer.py\", line 219, in __call__\n",
      "    return self._score(\n",
      "  File \"C:\\git\\lab_data_science\\venv\\lib\\site-packages\\sklearn\\metrics\\_scorer.py\", line 267, in _score\n",
      "    return self._sign * self._score_func(y_true, y_pred, **self._kwargs)\n",
      "  File \"C:\\git\\lab_data_science\\venv\\lib\\site-packages\\sklearn\\metrics\\_classification.py\", line 1920, in recall_score\n",
      "    _, r, _, _ = precision_recall_fscore_support(\n",
      "  File \"C:\\git\\lab_data_science\\venv\\lib\\site-packages\\sklearn\\metrics\\_classification.py\", line 1563, in precision_recall_fscore_support\n",
      "    labels = _check_set_wise_labels(y_true, y_pred, average, labels, pos_label)\n",
      "  File \"C:\\git\\lab_data_science\\venv\\lib\\site-packages\\sklearn\\metrics\\_classification.py\", line 1381, in _check_set_wise_labels\n",
      "    raise ValueError(\n",
      "ValueError: Target is multilabel-indicator but average='binary'. Please choose another average setting, one of [None, 'micro', 'macro', 'weighted', 'samples'].\n",
      "\n",
      "  warnings.warn(\n",
      "C:\\git\\lab_data_science\\venv\\lib\\site-packages\\catboost\\core.py:1419: FutureWarning: iteritems is deprecated and will be removed in a future version. Use .items instead.\n",
      "  self._init_pool(data, label, cat_features, text_features, embedding_features, embedding_features_data, pairs, weight,\n"
     ]
    },
    {
     "name": "stdout",
     "output_type": "stream",
     "text": [
      "99:\tlearn: 0.1934434\ttotal: 11.8s\tremaining: 0us\n",
      "Learning rate set to 0.062039\n",
      "0:\tlearn: 0.6465362\ttotal: 62.3ms\tremaining: 6.17s\n"
     ]
    },
    {
     "name": "stderr",
     "output_type": "stream",
     "text": [
      "C:\\git\\lab_data_science\\venv\\lib\\site-packages\\sklearn\\model_selection\\_validation.py:776: UserWarning: Scoring failed. The score on this train-test partition for these parameters will be set to nan. Details: \n",
      "Traceback (most recent call last):\n",
      "  File \"C:\\git\\lab_data_science\\venv\\lib\\site-packages\\sklearn\\model_selection\\_validation.py\", line 767, in _score\n",
      "    scores = scorer(estimator, X_test, y_test)\n",
      "  File \"C:\\git\\lab_data_science\\venv\\lib\\site-packages\\sklearn\\metrics\\_scorer.py\", line 219, in __call__\n",
      "    return self._score(\n",
      "  File \"C:\\git\\lab_data_science\\venv\\lib\\site-packages\\sklearn\\metrics\\_scorer.py\", line 267, in _score\n",
      "    return self._sign * self._score_func(y_true, y_pred, **self._kwargs)\n",
      "  File \"C:\\git\\lab_data_science\\venv\\lib\\site-packages\\sklearn\\metrics\\_classification.py\", line 1920, in recall_score\n",
      "    _, r, _, _ = precision_recall_fscore_support(\n",
      "  File \"C:\\git\\lab_data_science\\venv\\lib\\site-packages\\sklearn\\metrics\\_classification.py\", line 1563, in precision_recall_fscore_support\n",
      "    labels = _check_set_wise_labels(y_true, y_pred, average, labels, pos_label)\n",
      "  File \"C:\\git\\lab_data_science\\venv\\lib\\site-packages\\sklearn\\metrics\\_classification.py\", line 1381, in _check_set_wise_labels\n",
      "    raise ValueError(\n",
      "ValueError: Target is multilabel-indicator but average='binary'. Please choose another average setting, one of [None, 'micro', 'macro', 'weighted', 'samples'].\n",
      "\n",
      "  warnings.warn(\n",
      "C:\\git\\lab_data_science\\venv\\lib\\site-packages\\catboost\\core.py:1419: FutureWarning: iteritems is deprecated and will be removed in a future version. Use .items instead.\n",
      "  self._init_pool(data, label, cat_features, text_features, embedding_features, embedding_features_data, pairs, weight,\n"
     ]
    },
    {
     "name": "stdout",
     "output_type": "stream",
     "text": [
      "99:\tlearn: 0.2142727\ttotal: 11.5s\tremaining: 0us\n",
      "Learning rate set to 0.062094\n",
      "0:\tlearn: 0.6471926\ttotal: 28.9ms\tremaining: 2.86s\n"
     ]
    },
    {
     "name": "stderr",
     "output_type": "stream",
     "text": [
      "C:\\git\\lab_data_science\\venv\\lib\\site-packages\\sklearn\\model_selection\\_validation.py:776: UserWarning: Scoring failed. The score on this train-test partition for these parameters will be set to nan. Details: \n",
      "Traceback (most recent call last):\n",
      "  File \"C:\\git\\lab_data_science\\venv\\lib\\site-packages\\sklearn\\model_selection\\_validation.py\", line 767, in _score\n",
      "    scores = scorer(estimator, X_test, y_test)\n",
      "  File \"C:\\git\\lab_data_science\\venv\\lib\\site-packages\\sklearn\\metrics\\_scorer.py\", line 219, in __call__\n",
      "    return self._score(\n",
      "  File \"C:\\git\\lab_data_science\\venv\\lib\\site-packages\\sklearn\\metrics\\_scorer.py\", line 267, in _score\n",
      "    return self._sign * self._score_func(y_true, y_pred, **self._kwargs)\n",
      "  File \"C:\\git\\lab_data_science\\venv\\lib\\site-packages\\sklearn\\metrics\\_classification.py\", line 1920, in recall_score\n",
      "    _, r, _, _ = precision_recall_fscore_support(\n",
      "  File \"C:\\git\\lab_data_science\\venv\\lib\\site-packages\\sklearn\\metrics\\_classification.py\", line 1563, in precision_recall_fscore_support\n",
      "    labels = _check_set_wise_labels(y_true, y_pred, average, labels, pos_label)\n",
      "  File \"C:\\git\\lab_data_science\\venv\\lib\\site-packages\\sklearn\\metrics\\_classification.py\", line 1381, in _check_set_wise_labels\n",
      "    raise ValueError(\n",
      "ValueError: Target is multilabel-indicator but average='binary'. Please choose another average setting, one of [None, 'micro', 'macro', 'weighted', 'samples'].\n",
      "\n",
      "  warnings.warn(\n",
      "C:\\git\\lab_data_science\\venv\\lib\\site-packages\\catboost\\core.py:1419: FutureWarning: iteritems is deprecated and will be removed in a future version. Use .items instead.\n",
      "  self._init_pool(data, label, cat_features, text_features, embedding_features, embedding_features_data, pairs, weight,\n"
     ]
    },
    {
     "name": "stdout",
     "output_type": "stream",
     "text": [
      "99:\tlearn: 0.2036244\ttotal: 11.3s\tremaining: 0us\n",
      "Learning rate set to 0.062039\n",
      "0:\tlearn: 0.6417758\ttotal: 55.5ms\tremaining: 5.5s\n"
     ]
    },
    {
     "name": "stderr",
     "output_type": "stream",
     "text": [
      "C:\\git\\lab_data_science\\venv\\lib\\site-packages\\sklearn\\model_selection\\_validation.py:776: UserWarning: Scoring failed. The score on this train-test partition for these parameters will be set to nan. Details: \n",
      "Traceback (most recent call last):\n",
      "  File \"C:\\git\\lab_data_science\\venv\\lib\\site-packages\\sklearn\\model_selection\\_validation.py\", line 767, in _score\n",
      "    scores = scorer(estimator, X_test, y_test)\n",
      "  File \"C:\\git\\lab_data_science\\venv\\lib\\site-packages\\sklearn\\metrics\\_scorer.py\", line 219, in __call__\n",
      "    return self._score(\n",
      "  File \"C:\\git\\lab_data_science\\venv\\lib\\site-packages\\sklearn\\metrics\\_scorer.py\", line 267, in _score\n",
      "    return self._sign * self._score_func(y_true, y_pred, **self._kwargs)\n",
      "  File \"C:\\git\\lab_data_science\\venv\\lib\\site-packages\\sklearn\\metrics\\_classification.py\", line 1920, in recall_score\n",
      "    _, r, _, _ = precision_recall_fscore_support(\n",
      "  File \"C:\\git\\lab_data_science\\venv\\lib\\site-packages\\sklearn\\metrics\\_classification.py\", line 1563, in precision_recall_fscore_support\n",
      "    labels = _check_set_wise_labels(y_true, y_pred, average, labels, pos_label)\n",
      "  File \"C:\\git\\lab_data_science\\venv\\lib\\site-packages\\sklearn\\metrics\\_classification.py\", line 1381, in _check_set_wise_labels\n",
      "    raise ValueError(\n",
      "ValueError: Target is multilabel-indicator but average='binary'. Please choose another average setting, one of [None, 'micro', 'macro', 'weighted', 'samples'].\n",
      "\n",
      "  warnings.warn(\n",
      "C:\\git\\lab_data_science\\venv\\lib\\site-packages\\catboost\\core.py:1419: FutureWarning: iteritems is deprecated and will be removed in a future version. Use .items instead.\n",
      "  self._init_pool(data, label, cat_features, text_features, embedding_features, embedding_features_data, pairs, weight,\n"
     ]
    },
    {
     "name": "stdout",
     "output_type": "stream",
     "text": [
      "99:\tlearn: 0.2340114\ttotal: 8.48s\tremaining: 0us\n",
      "Learning rate set to 0.062039\n",
      "0:\tlearn: 0.6478289\ttotal: 42ms\tremaining: 4.16s\n"
     ]
    },
    {
     "name": "stderr",
     "output_type": "stream",
     "text": [
      "C:\\git\\lab_data_science\\venv\\lib\\site-packages\\sklearn\\model_selection\\_validation.py:776: UserWarning: Scoring failed. The score on this train-test partition for these parameters will be set to nan. Details: \n",
      "Traceback (most recent call last):\n",
      "  File \"C:\\git\\lab_data_science\\venv\\lib\\site-packages\\sklearn\\model_selection\\_validation.py\", line 767, in _score\n",
      "    scores = scorer(estimator, X_test, y_test)\n",
      "  File \"C:\\git\\lab_data_science\\venv\\lib\\site-packages\\sklearn\\metrics\\_scorer.py\", line 219, in __call__\n",
      "    return self._score(\n",
      "  File \"C:\\git\\lab_data_science\\venv\\lib\\site-packages\\sklearn\\metrics\\_scorer.py\", line 267, in _score\n",
      "    return self._sign * self._score_func(y_true, y_pred, **self._kwargs)\n",
      "  File \"C:\\git\\lab_data_science\\venv\\lib\\site-packages\\sklearn\\metrics\\_classification.py\", line 1920, in recall_score\n",
      "    _, r, _, _ = precision_recall_fscore_support(\n",
      "  File \"C:\\git\\lab_data_science\\venv\\lib\\site-packages\\sklearn\\metrics\\_classification.py\", line 1563, in precision_recall_fscore_support\n",
      "    labels = _check_set_wise_labels(y_true, y_pred, average, labels, pos_label)\n",
      "  File \"C:\\git\\lab_data_science\\venv\\lib\\site-packages\\sklearn\\metrics\\_classification.py\", line 1381, in _check_set_wise_labels\n",
      "    raise ValueError(\n",
      "ValueError: Target is multilabel-indicator but average='binary'. Please choose another average setting, one of [None, 'micro', 'macro', 'weighted', 'samples'].\n",
      "\n",
      "  warnings.warn(\n",
      "C:\\git\\lab_data_science\\venv\\lib\\site-packages\\catboost\\core.py:1419: FutureWarning: iteritems is deprecated and will be removed in a future version. Use .items instead.\n",
      "  self._init_pool(data, label, cat_features, text_features, embedding_features, embedding_features_data, pairs, weight,\n"
     ]
    },
    {
     "name": "stdout",
     "output_type": "stream",
     "text": [
      "99:\tlearn: 0.2350735\ttotal: 9.98s\tremaining: 0us\n",
      "Learning rate set to 0.062094\n",
      "0:\tlearn: 0.6470919\ttotal: 13.2ms\tremaining: 1.31s\n"
     ]
    },
    {
     "name": "stderr",
     "output_type": "stream",
     "text": [
      "C:\\git\\lab_data_science\\venv\\lib\\site-packages\\sklearn\\model_selection\\_validation.py:776: UserWarning: Scoring failed. The score on this train-test partition for these parameters will be set to nan. Details: \n",
      "Traceback (most recent call last):\n",
      "  File \"C:\\git\\lab_data_science\\venv\\lib\\site-packages\\sklearn\\model_selection\\_validation.py\", line 767, in _score\n",
      "    scores = scorer(estimator, X_test, y_test)\n",
      "  File \"C:\\git\\lab_data_science\\venv\\lib\\site-packages\\sklearn\\metrics\\_scorer.py\", line 219, in __call__\n",
      "    return self._score(\n",
      "  File \"C:\\git\\lab_data_science\\venv\\lib\\site-packages\\sklearn\\metrics\\_scorer.py\", line 267, in _score\n",
      "    return self._sign * self._score_func(y_true, y_pred, **self._kwargs)\n",
      "  File \"C:\\git\\lab_data_science\\venv\\lib\\site-packages\\sklearn\\metrics\\_classification.py\", line 1920, in recall_score\n",
      "    _, r, _, _ = precision_recall_fscore_support(\n",
      "  File \"C:\\git\\lab_data_science\\venv\\lib\\site-packages\\sklearn\\metrics\\_classification.py\", line 1563, in precision_recall_fscore_support\n",
      "    labels = _check_set_wise_labels(y_true, y_pred, average, labels, pos_label)\n",
      "  File \"C:\\git\\lab_data_science\\venv\\lib\\site-packages\\sklearn\\metrics\\_classification.py\", line 1381, in _check_set_wise_labels\n",
      "    raise ValueError(\n",
      "ValueError: Target is multilabel-indicator but average='binary'. Please choose another average setting, one of [None, 'micro', 'macro', 'weighted', 'samples'].\n",
      "\n",
      "  warnings.warn(\n",
      "C:\\git\\lab_data_science\\venv\\lib\\site-packages\\catboost\\core.py:1419: FutureWarning: iteritems is deprecated and will be removed in a future version. Use .items instead.\n",
      "  self._init_pool(data, label, cat_features, text_features, embedding_features, embedding_features_data, pairs, weight,\n"
     ]
    },
    {
     "name": "stdout",
     "output_type": "stream",
     "text": [
      "99:\tlearn: 0.2216165\ttotal: 8.85s\tremaining: 0us\n",
      "Learning rate set to 0.073787\n"
     ]
    },
    {
     "name": "stderr",
     "output_type": "stream",
     "text": [
      "C:\\git\\lab_data_science\\venv\\lib\\site-packages\\sklearn\\model_selection\\_validation.py:776: UserWarning: Scoring failed. The score on this train-test partition for these parameters will be set to nan. Details: \n",
      "Traceback (most recent call last):\n",
      "  File \"C:\\git\\lab_data_science\\venv\\lib\\site-packages\\sklearn\\model_selection\\_validation.py\", line 767, in _score\n",
      "    scores = scorer(estimator, X_test, y_test)\n",
      "  File \"C:\\git\\lab_data_science\\venv\\lib\\site-packages\\sklearn\\metrics\\_scorer.py\", line 219, in __call__\n",
      "    return self._score(\n",
      "  File \"C:\\git\\lab_data_science\\venv\\lib\\site-packages\\sklearn\\metrics\\_scorer.py\", line 267, in _score\n",
      "    return self._sign * self._score_func(y_true, y_pred, **self._kwargs)\n",
      "  File \"C:\\git\\lab_data_science\\venv\\lib\\site-packages\\sklearn\\metrics\\_classification.py\", line 1920, in recall_score\n",
      "    _, r, _, _ = precision_recall_fscore_support(\n",
      "  File \"C:\\git\\lab_data_science\\venv\\lib\\site-packages\\sklearn\\metrics\\_classification.py\", line 1563, in precision_recall_fscore_support\n",
      "    labels = _check_set_wise_labels(y_true, y_pred, average, labels, pos_label)\n",
      "  File \"C:\\git\\lab_data_science\\venv\\lib\\site-packages\\sklearn\\metrics\\_classification.py\", line 1381, in _check_set_wise_labels\n",
      "    raise ValueError(\n",
      "ValueError: Target is multilabel-indicator but average='binary'. Please choose another average setting, one of [None, 'micro', 'macro', 'weighted', 'samples'].\n",
      "\n",
      "  warnings.warn(\n",
      "C:\\git\\lab_data_science\\venv\\lib\\site-packages\\sklearn\\model_selection\\_search.py:953: UserWarning: One or more of the test scores are non-finite: [nan nan nan nan]\n",
      "  warnings.warn(\n",
      "C:\\git\\lab_data_science\\venv\\lib\\site-packages\\catboost\\core.py:1419: FutureWarning: iteritems is deprecated and will be removed in a future version. Use .items instead.\n",
      "  self._init_pool(data, label, cat_features, text_features, embedding_features, embedding_features_data, pairs, weight,\n"
     ]
    },
    {
     "name": "stdout",
     "output_type": "stream",
     "text": [
      "0:\tlearn: 0.6363880\ttotal: 48.2ms\tremaining: 4.77s\n",
      "99:\tlearn: 0.2172801\ttotal: 5.68s\tremaining: 0us\n"
     ]
    },
    {
     "data": {
      "text/plain": [
       "array([[1, 0, 0, 0, 0],\n",
       "       [0, 0, 0, 0, 0],\n",
       "       [1, 0, 0, 0, 0],\n",
       "       ...,\n",
       "       [0, 0, 0, 0, 0],\n",
       "       [0, 0, 0, 0, 0],\n",
       "       [0, 0, 0, 0, 0]])"
      ]
     },
     "execution_count": 152,
     "metadata": {},
     "output_type": "execute_result"
    }
   ],
   "source": [
    "param_grid = {\n",
    "    'model_size_reg': [0, 1],\n",
    "    'n_estimators' : [100, 500, 1000],\n",
    "    'one_hot_max_size' : [0, 1000, 2000],\n",
    "    'max_ctr_complexity': [1, 6]\n",
    "}\n",
    "\n",
    "grid = GridSearchCV(catboost.CatBoostClassifier(cat_features=cat_idx, loss_function='MultiLogloss', verbose=100),\n",
    "                    param_grid, cv=3, scoring='recall', \n",
    "                    verbose=0)\n",
    "\n",
    "grid.fit(x_train, y_train)\n",
    "grid.predict(x_val)"
   ]
  },
  {
   "cell_type": "code",
   "execution_count": 173,
   "metadata": {},
   "outputs": [
    {
     "ename": "ValueError",
     "evalue": "Target is multilabel-indicator but average='binary'. Please choose another average setting, one of [None, 'micro', 'macro', 'weighted', 'samples'].",
     "output_type": "error",
     "traceback": [
      "\u001b[1;31m---------------------------------------------------------------------------\u001b[0m",
      "\u001b[1;31mValueError\u001b[0m                                Traceback (most recent call last)",
      "Cell \u001b[1;32mIn [173], line 1\u001b[0m\n\u001b[1;32m----> 1\u001b[0m grid\u001b[38;5;241m.\u001b[39mscore(x_val, y_val)\n",
      "File \u001b[1;32mC:\\git\\lab_data_science\\venv\\lib\\site-packages\\sklearn\\model_selection\\_search.py:452\u001b[0m, in \u001b[0;36mBaseSearchCV.score\u001b[1;34m(self, X, y)\u001b[0m\n\u001b[0;32m    449\u001b[0m     \u001b[38;5;28;01mreturn\u001b[39;00m scorer(\u001b[38;5;28mself\u001b[39m\u001b[38;5;241m.\u001b[39mbest_estimator_, X, y)\n\u001b[0;32m    451\u001b[0m \u001b[38;5;66;03m# callable\u001b[39;00m\n\u001b[1;32m--> 452\u001b[0m score \u001b[38;5;241m=\u001b[39m \u001b[38;5;28;43mself\u001b[39;49m\u001b[38;5;241;43m.\u001b[39;49m\u001b[43mscorer_\u001b[49m\u001b[43m(\u001b[49m\u001b[38;5;28;43mself\u001b[39;49m\u001b[38;5;241;43m.\u001b[39;49m\u001b[43mbest_estimator_\u001b[49m\u001b[43m,\u001b[49m\u001b[43m \u001b[49m\u001b[43mX\u001b[49m\u001b[43m,\u001b[49m\u001b[43m \u001b[49m\u001b[43my\u001b[49m\u001b[43m)\u001b[49m\n\u001b[0;32m    453\u001b[0m \u001b[38;5;28;01mif\u001b[39;00m \u001b[38;5;28mself\u001b[39m\u001b[38;5;241m.\u001b[39mmultimetric_:\n\u001b[0;32m    454\u001b[0m     score \u001b[38;5;241m=\u001b[39m score[\u001b[38;5;28mself\u001b[39m\u001b[38;5;241m.\u001b[39mrefit]\n",
      "File \u001b[1;32mC:\\git\\lab_data_science\\venv\\lib\\site-packages\\sklearn\\metrics\\_scorer.py:219\u001b[0m, in \u001b[0;36m_BaseScorer.__call__\u001b[1;34m(self, estimator, X, y_true, sample_weight)\u001b[0m\n\u001b[0;32m    196\u001b[0m \u001b[38;5;28;01mdef\u001b[39;00m \u001b[38;5;21m__call__\u001b[39m(\u001b[38;5;28mself\u001b[39m, estimator, X, y_true, sample_weight\u001b[38;5;241m=\u001b[39m\u001b[38;5;28;01mNone\u001b[39;00m):\n\u001b[0;32m    197\u001b[0m     \u001b[38;5;124;03m\"\"\"Evaluate predicted target values for X relative to y_true.\u001b[39;00m\n\u001b[0;32m    198\u001b[0m \n\u001b[0;32m    199\u001b[0m \u001b[38;5;124;03m    Parameters\u001b[39;00m\n\u001b[1;32m   (...)\u001b[0m\n\u001b[0;32m    217\u001b[0m \u001b[38;5;124;03m        Score function applied to prediction of estimator on X.\u001b[39;00m\n\u001b[0;32m    218\u001b[0m \u001b[38;5;124;03m    \"\"\"\u001b[39;00m\n\u001b[1;32m--> 219\u001b[0m     \u001b[38;5;28;01mreturn\u001b[39;00m \u001b[38;5;28;43mself\u001b[39;49m\u001b[38;5;241;43m.\u001b[39;49m\u001b[43m_score\u001b[49m\u001b[43m(\u001b[49m\n\u001b[0;32m    220\u001b[0m \u001b[43m        \u001b[49m\u001b[43mpartial\u001b[49m\u001b[43m(\u001b[49m\u001b[43m_cached_call\u001b[49m\u001b[43m,\u001b[49m\u001b[43m \u001b[49m\u001b[38;5;28;43;01mNone\u001b[39;49;00m\u001b[43m)\u001b[49m\u001b[43m,\u001b[49m\n\u001b[0;32m    221\u001b[0m \u001b[43m        \u001b[49m\u001b[43mestimator\u001b[49m\u001b[43m,\u001b[49m\n\u001b[0;32m    222\u001b[0m \u001b[43m        \u001b[49m\u001b[43mX\u001b[49m\u001b[43m,\u001b[49m\n\u001b[0;32m    223\u001b[0m \u001b[43m        \u001b[49m\u001b[43my_true\u001b[49m\u001b[43m,\u001b[49m\n\u001b[0;32m    224\u001b[0m \u001b[43m        \u001b[49m\u001b[43msample_weight\u001b[49m\u001b[38;5;241;43m=\u001b[39;49m\u001b[43msample_weight\u001b[49m\u001b[43m,\u001b[49m\n\u001b[0;32m    225\u001b[0m \u001b[43m    \u001b[49m\u001b[43m)\u001b[49m\n",
      "File \u001b[1;32mC:\\git\\lab_data_science\\venv\\lib\\site-packages\\sklearn\\metrics\\_scorer.py:267\u001b[0m, in \u001b[0;36m_PredictScorer._score\u001b[1;34m(self, method_caller, estimator, X, y_true, sample_weight)\u001b[0m\n\u001b[0;32m    263\u001b[0m     \u001b[38;5;28;01mreturn\u001b[39;00m \u001b[38;5;28mself\u001b[39m\u001b[38;5;241m.\u001b[39m_sign \u001b[38;5;241m*\u001b[39m \u001b[38;5;28mself\u001b[39m\u001b[38;5;241m.\u001b[39m_score_func(\n\u001b[0;32m    264\u001b[0m         y_true, y_pred, sample_weight\u001b[38;5;241m=\u001b[39msample_weight, \u001b[38;5;241m*\u001b[39m\u001b[38;5;241m*\u001b[39m\u001b[38;5;28mself\u001b[39m\u001b[38;5;241m.\u001b[39m_kwargs\n\u001b[0;32m    265\u001b[0m     )\n\u001b[0;32m    266\u001b[0m \u001b[38;5;28;01melse\u001b[39;00m:\n\u001b[1;32m--> 267\u001b[0m     \u001b[38;5;28;01mreturn\u001b[39;00m \u001b[38;5;28mself\u001b[39m\u001b[38;5;241m.\u001b[39m_sign \u001b[38;5;241m*\u001b[39m \u001b[38;5;28mself\u001b[39m\u001b[38;5;241m.\u001b[39m_score_func(y_true, y_pred, \u001b[38;5;241m*\u001b[39m\u001b[38;5;241m*\u001b[39m\u001b[38;5;28mself\u001b[39m\u001b[38;5;241m.\u001b[39m_kwargs)\n",
      "File \u001b[1;32mC:\\git\\lab_data_science\\venv\\lib\\site-packages\\sklearn\\metrics\\_classification.py:1920\u001b[0m, in \u001b[0;36mrecall_score\u001b[1;34m(y_true, y_pred, labels, pos_label, average, sample_weight, zero_division)\u001b[0m\n\u001b[0;32m   1789\u001b[0m \u001b[38;5;28;01mdef\u001b[39;00m \u001b[38;5;21mrecall_score\u001b[39m(\n\u001b[0;32m   1790\u001b[0m     y_true,\n\u001b[0;32m   1791\u001b[0m     y_pred,\n\u001b[1;32m   (...)\u001b[0m\n\u001b[0;32m   1797\u001b[0m     zero_division\u001b[38;5;241m=\u001b[39m\u001b[38;5;124m\"\u001b[39m\u001b[38;5;124mwarn\u001b[39m\u001b[38;5;124m\"\u001b[39m,\n\u001b[0;32m   1798\u001b[0m ):\n\u001b[0;32m   1799\u001b[0m     \u001b[38;5;124;03m\"\"\"Compute the recall.\u001b[39;00m\n\u001b[0;32m   1800\u001b[0m \n\u001b[0;32m   1801\u001b[0m \u001b[38;5;124;03m    The recall is the ratio ``tp / (tp + fn)`` where ``tp`` is the number of\u001b[39;00m\n\u001b[1;32m   (...)\u001b[0m\n\u001b[0;32m   1918\u001b[0m \u001b[38;5;124;03m    array([1. , 1. , 0.5])\u001b[39;00m\n\u001b[0;32m   1919\u001b[0m \u001b[38;5;124;03m    \"\"\"\u001b[39;00m\n\u001b[1;32m-> 1920\u001b[0m     _, r, _, _ \u001b[38;5;241m=\u001b[39m \u001b[43mprecision_recall_fscore_support\u001b[49m\u001b[43m(\u001b[49m\n\u001b[0;32m   1921\u001b[0m \u001b[43m        \u001b[49m\u001b[43my_true\u001b[49m\u001b[43m,\u001b[49m\n\u001b[0;32m   1922\u001b[0m \u001b[43m        \u001b[49m\u001b[43my_pred\u001b[49m\u001b[43m,\u001b[49m\n\u001b[0;32m   1923\u001b[0m \u001b[43m        \u001b[49m\u001b[43mlabels\u001b[49m\u001b[38;5;241;43m=\u001b[39;49m\u001b[43mlabels\u001b[49m\u001b[43m,\u001b[49m\n\u001b[0;32m   1924\u001b[0m \u001b[43m        \u001b[49m\u001b[43mpos_label\u001b[49m\u001b[38;5;241;43m=\u001b[39;49m\u001b[43mpos_label\u001b[49m\u001b[43m,\u001b[49m\n\u001b[0;32m   1925\u001b[0m \u001b[43m        \u001b[49m\u001b[43maverage\u001b[49m\u001b[38;5;241;43m=\u001b[39;49m\u001b[43maverage\u001b[49m\u001b[43m,\u001b[49m\n\u001b[0;32m   1926\u001b[0m \u001b[43m        \u001b[49m\u001b[43mwarn_for\u001b[49m\u001b[38;5;241;43m=\u001b[39;49m\u001b[43m(\u001b[49m\u001b[38;5;124;43m\"\u001b[39;49m\u001b[38;5;124;43mrecall\u001b[39;49m\u001b[38;5;124;43m\"\u001b[39;49m\u001b[43m,\u001b[49m\u001b[43m)\u001b[49m\u001b[43m,\u001b[49m\n\u001b[0;32m   1927\u001b[0m \u001b[43m        \u001b[49m\u001b[43msample_weight\u001b[49m\u001b[38;5;241;43m=\u001b[39;49m\u001b[43msample_weight\u001b[49m\u001b[43m,\u001b[49m\n\u001b[0;32m   1928\u001b[0m \u001b[43m        \u001b[49m\u001b[43mzero_division\u001b[49m\u001b[38;5;241;43m=\u001b[39;49m\u001b[43mzero_division\u001b[49m\u001b[43m,\u001b[49m\n\u001b[0;32m   1929\u001b[0m \u001b[43m    \u001b[49m\u001b[43m)\u001b[49m\n\u001b[0;32m   1930\u001b[0m     \u001b[38;5;28;01mreturn\u001b[39;00m r\n",
      "File \u001b[1;32mC:\\git\\lab_data_science\\venv\\lib\\site-packages\\sklearn\\metrics\\_classification.py:1563\u001b[0m, in \u001b[0;36mprecision_recall_fscore_support\u001b[1;34m(y_true, y_pred, beta, labels, pos_label, average, warn_for, sample_weight, zero_division)\u001b[0m\n\u001b[0;32m   1561\u001b[0m \u001b[38;5;28;01mif\u001b[39;00m beta \u001b[38;5;241m<\u001b[39m \u001b[38;5;241m0\u001b[39m:\n\u001b[0;32m   1562\u001b[0m     \u001b[38;5;28;01mraise\u001b[39;00m \u001b[38;5;167;01mValueError\u001b[39;00m(\u001b[38;5;124m\"\u001b[39m\u001b[38;5;124mbeta should be >=0 in the F-beta score\u001b[39m\u001b[38;5;124m\"\u001b[39m)\n\u001b[1;32m-> 1563\u001b[0m labels \u001b[38;5;241m=\u001b[39m \u001b[43m_check_set_wise_labels\u001b[49m\u001b[43m(\u001b[49m\u001b[43my_true\u001b[49m\u001b[43m,\u001b[49m\u001b[43m \u001b[49m\u001b[43my_pred\u001b[49m\u001b[43m,\u001b[49m\u001b[43m \u001b[49m\u001b[43maverage\u001b[49m\u001b[43m,\u001b[49m\u001b[43m \u001b[49m\u001b[43mlabels\u001b[49m\u001b[43m,\u001b[49m\u001b[43m \u001b[49m\u001b[43mpos_label\u001b[49m\u001b[43m)\u001b[49m\n\u001b[0;32m   1565\u001b[0m \u001b[38;5;66;03m# Calculate tp_sum, pred_sum, true_sum ###\u001b[39;00m\n\u001b[0;32m   1566\u001b[0m samplewise \u001b[38;5;241m=\u001b[39m average \u001b[38;5;241m==\u001b[39m \u001b[38;5;124m\"\u001b[39m\u001b[38;5;124msamples\u001b[39m\u001b[38;5;124m\"\u001b[39m\n",
      "File \u001b[1;32mC:\\git\\lab_data_science\\venv\\lib\\site-packages\\sklearn\\metrics\\_classification.py:1381\u001b[0m, in \u001b[0;36m_check_set_wise_labels\u001b[1;34m(y_true, y_pred, average, labels, pos_label)\u001b[0m\n\u001b[0;32m   1379\u001b[0m         \u001b[38;5;28;01mif\u001b[39;00m y_type \u001b[38;5;241m==\u001b[39m \u001b[38;5;124m\"\u001b[39m\u001b[38;5;124mmulticlass\u001b[39m\u001b[38;5;124m\"\u001b[39m:\n\u001b[0;32m   1380\u001b[0m             average_options\u001b[38;5;241m.\u001b[39mremove(\u001b[38;5;124m\"\u001b[39m\u001b[38;5;124msamples\u001b[39m\u001b[38;5;124m\"\u001b[39m)\n\u001b[1;32m-> 1381\u001b[0m         \u001b[38;5;28;01mraise\u001b[39;00m \u001b[38;5;167;01mValueError\u001b[39;00m(\n\u001b[0;32m   1382\u001b[0m             \u001b[38;5;124m\"\u001b[39m\u001b[38;5;124mTarget is \u001b[39m\u001b[38;5;132;01m%s\u001b[39;00m\u001b[38;5;124m but average=\u001b[39m\u001b[38;5;124m'\u001b[39m\u001b[38;5;124mbinary\u001b[39m\u001b[38;5;124m'\u001b[39m\u001b[38;5;124m. Please \u001b[39m\u001b[38;5;124m\"\u001b[39m\n\u001b[0;32m   1383\u001b[0m             \u001b[38;5;124m\"\u001b[39m\u001b[38;5;124mchoose another average setting, one of \u001b[39m\u001b[38;5;132;01m%r\u001b[39;00m\u001b[38;5;124m.\u001b[39m\u001b[38;5;124m\"\u001b[39m \u001b[38;5;241m%\u001b[39m (y_type, average_options)\n\u001b[0;32m   1384\u001b[0m         )\n\u001b[0;32m   1385\u001b[0m \u001b[38;5;28;01melif\u001b[39;00m pos_label \u001b[38;5;129;01mnot\u001b[39;00m \u001b[38;5;129;01min\u001b[39;00m (\u001b[38;5;28;01mNone\u001b[39;00m, \u001b[38;5;241m1\u001b[39m):\n\u001b[0;32m   1386\u001b[0m     warnings\u001b[38;5;241m.\u001b[39mwarn(\n\u001b[0;32m   1387\u001b[0m         \u001b[38;5;124m\"\u001b[39m\u001b[38;5;124mNote that pos_label (set to \u001b[39m\u001b[38;5;132;01m%r\u001b[39;00m\u001b[38;5;124m) is ignored when \u001b[39m\u001b[38;5;124m\"\u001b[39m\n\u001b[0;32m   1388\u001b[0m         \u001b[38;5;124m\"\u001b[39m\u001b[38;5;124maverage != \u001b[39m\u001b[38;5;124m'\u001b[39m\u001b[38;5;124mbinary\u001b[39m\u001b[38;5;124m'\u001b[39m\u001b[38;5;124m (got \u001b[39m\u001b[38;5;132;01m%r\u001b[39;00m\u001b[38;5;124m). You may use \u001b[39m\u001b[38;5;124m\"\u001b[39m\n\u001b[1;32m   (...)\u001b[0m\n\u001b[0;32m   1391\u001b[0m         \u001b[38;5;167;01mUserWarning\u001b[39;00m,\n\u001b[0;32m   1392\u001b[0m     )\n",
      "\u001b[1;31mValueError\u001b[0m: Target is multilabel-indicator but average='binary'. Please choose another average setting, one of [None, 'micro', 'macro', 'weighted', 'samples']."
     ]
    }
   ],
   "source": [
    "grid.score(x_val, y_val)"
   ]
  },
  {
   "cell_type": "code",
   "execution_count": 35,
   "metadata": {},
   "outputs": [],
   "source": [
    "a = catboost.CatBoostClassifier(cat_features=cat_idx, loss_function='MultiLogloss', verbose=100)"
   ]
  },
  {
   "cell_type": "code",
   "execution_count": 36,
   "metadata": {},
   "outputs": [
    {
     "name": "stderr",
     "output_type": "stream",
     "text": [
      "C:\\git\\lab_data_science\\venv\\lib\\site-packages\\catboost\\core.py:1419: FutureWarning: iteritems is deprecated and will be removed in a future version. Use .items instead.\n",
      "  self._init_pool(data, label, cat_features, text_features, embedding_features, embedding_features_data, pairs, weight,\n"
     ]
    },
    {
     "name": "stdout",
     "output_type": "stream",
     "text": [
      "Learning rate set to 0.008933\n",
      "0:\tlearn: 0.6860496\ttotal: 390ms\tremaining: 6m 29s\n",
      "100:\tlearn: 0.3834254\ttotal: 5.46s\tremaining: 48.6s\n",
      "200:\tlearn: 0.3291134\ttotal: 12.5s\tremaining: 49.8s\n",
      "300:\tlearn: 0.3055849\ttotal: 21.2s\tremaining: 49.1s\n",
      "400:\tlearn: 0.2863347\ttotal: 31.4s\tremaining: 47s\n",
      "500:\tlearn: 0.2702892\ttotal: 42.3s\tremaining: 42.1s\n",
      "600:\tlearn: 0.2556305\ttotal: 53s\tremaining: 35.2s\n",
      "700:\tlearn: 0.2403039\ttotal: 1m 4s\tremaining: 27.5s\n",
      "800:\tlearn: 0.2218298\ttotal: 1m 15s\tremaining: 18.8s\n",
      "900:\tlearn: 0.2054136\ttotal: 1m 26s\tremaining: 9.53s\n",
      "999:\tlearn: 0.1911284\ttotal: 1m 37s\tremaining: 0us\n"
     ]
    },
    {
     "data": {
      "text/plain": [
       "<catboost.core.CatBoostClassifier at 0x23bdabfadf0>"
      ]
     },
     "execution_count": 36,
     "metadata": {},
     "output_type": "execute_result"
    }
   ],
   "source": [
    "a.fit(x_train, y_train)"
   ]
  },
  {
   "cell_type": "code",
   "execution_count": 37,
   "metadata": {},
   "outputs": [
    {
     "data": {
      "text/plain": [
       "array([3.53480982e-01, 8.58741512e+00, 3.01550424e+00, 2.54710485e+00,\n",
       "       4.88558543e+00, 8.54372056e+00, 1.38509950e+01, 2.84069226e+00,\n",
       "       1.89945142e+00, 2.35593804e-01, 1.14547457e+00, 9.54152469e-02,\n",
       "       4.66327021e-02, 5.10910311e-02, 4.34226486e-02, 1.29522786e-02,\n",
       "       2.26589090e-02, 1.34098481e+01, 3.78059987e-02, 1.20183223e+00,\n",
       "       8.27387620e+00, 4.71981423e-01, 5.39887147e-01, 5.07155891e-02,\n",
       "       4.70918331e-01, 8.00022277e+00, 9.10733584e-01, 8.36543777e+00,\n",
       "       9.60799485e+00, 4.19440494e-01, 2.51346896e-02, 3.69796929e-02])"
      ]
     },
     "execution_count": 37,
     "metadata": {},
     "output_type": "execute_result"
    }
   ],
   "source": [
    "a.feature_importances_"
   ]
  },
  {
   "cell_type": "code",
   "execution_count": 41,
   "metadata": {},
   "outputs": [
    {
     "ename": "ValueError",
     "evalue": "could not convert string to float: 'Ж'",
     "output_type": "error",
     "traceback": [
      "\u001b[1;31m---------------------------------------------------------------------------\u001b[0m",
      "\u001b[1;31mValueError\u001b[0m                                Traceback (most recent call last)",
      "Cell \u001b[1;32mIn [41], line 2\u001b[0m\n\u001b[0;32m      1\u001b[0m rfC \u001b[38;5;241m=\u001b[39m MultiOutputClassifier(RandomForestClassifier(max_depth \u001b[38;5;241m=\u001b[39m \u001b[38;5;241m1000\u001b[39m))\n\u001b[1;32m----> 2\u001b[0m rfC\u001b[38;5;241m.\u001b[39mfit(x_train, y_train)\n",
      "File \u001b[1;32mC:\\git\\lab_data_science\\venv\\lib\\site-packages\\sklearn\\multioutput.py:435\u001b[0m, in \u001b[0;36mMultiOutputClassifier.fit\u001b[1;34m(self, X, Y, sample_weight, **fit_params)\u001b[0m\n\u001b[0;32m    409\u001b[0m \u001b[38;5;28;01mdef\u001b[39;00m \u001b[38;5;21mfit\u001b[39m(\u001b[38;5;28mself\u001b[39m, X, Y, sample_weight\u001b[38;5;241m=\u001b[39m\u001b[38;5;28;01mNone\u001b[39;00m, \u001b[38;5;241m*\u001b[39m\u001b[38;5;241m*\u001b[39mfit_params):\n\u001b[0;32m    410\u001b[0m     \u001b[38;5;124;03m\"\"\"Fit the model to data matrix X and targets Y.\u001b[39;00m\n\u001b[0;32m    411\u001b[0m \n\u001b[0;32m    412\u001b[0m \u001b[38;5;124;03m    Parameters\u001b[39;00m\n\u001b[1;32m   (...)\u001b[0m\n\u001b[0;32m    433\u001b[0m \u001b[38;5;124;03m        Returns a fitted instance.\u001b[39;00m\n\u001b[0;32m    434\u001b[0m \u001b[38;5;124;03m    \"\"\"\u001b[39;00m\n\u001b[1;32m--> 435\u001b[0m     \u001b[38;5;28msuper\u001b[39m()\u001b[38;5;241m.\u001b[39mfit(X, Y, sample_weight, \u001b[38;5;241m*\u001b[39m\u001b[38;5;241m*\u001b[39mfit_params)\n\u001b[0;32m    436\u001b[0m     \u001b[38;5;28mself\u001b[39m\u001b[38;5;241m.\u001b[39mclasses_ \u001b[38;5;241m=\u001b[39m [estimator\u001b[38;5;241m.\u001b[39mclasses_ \u001b[38;5;28;01mfor\u001b[39;00m estimator \u001b[38;5;129;01min\u001b[39;00m \u001b[38;5;28mself\u001b[39m\u001b[38;5;241m.\u001b[39mestimators_]\n\u001b[0;32m    437\u001b[0m     \u001b[38;5;28;01mreturn\u001b[39;00m \u001b[38;5;28mself\u001b[39m\n",
      "File \u001b[1;32mC:\\git\\lab_data_science\\venv\\lib\\site-packages\\sklearn\\multioutput.py:202\u001b[0m, in \u001b[0;36m_MultiOutputEstimator.fit\u001b[1;34m(self, X, y, sample_weight, **fit_params)\u001b[0m\n\u001b[0;32m    198\u001b[0m     \u001b[38;5;28;01mraise\u001b[39;00m \u001b[38;5;167;01mValueError\u001b[39;00m(\u001b[38;5;124m\"\u001b[39m\u001b[38;5;124mUnderlying estimator does not support sample weights.\u001b[39m\u001b[38;5;124m\"\u001b[39m)\n\u001b[0;32m    200\u001b[0m fit_params_validated \u001b[38;5;241m=\u001b[39m _check_fit_params(X, fit_params)\n\u001b[1;32m--> 202\u001b[0m \u001b[38;5;28mself\u001b[39m\u001b[38;5;241m.\u001b[39mestimators_ \u001b[38;5;241m=\u001b[39m \u001b[43mParallel\u001b[49m\u001b[43m(\u001b[49m\u001b[43mn_jobs\u001b[49m\u001b[38;5;241;43m=\u001b[39;49m\u001b[38;5;28;43mself\u001b[39;49m\u001b[38;5;241;43m.\u001b[39;49m\u001b[43mn_jobs\u001b[49m\u001b[43m)\u001b[49m\u001b[43m(\u001b[49m\n\u001b[0;32m    203\u001b[0m \u001b[43m    \u001b[49m\u001b[43mdelayed\u001b[49m\u001b[43m(\u001b[49m\u001b[43m_fit_estimator\u001b[49m\u001b[43m)\u001b[49m\u001b[43m(\u001b[49m\n\u001b[0;32m    204\u001b[0m \u001b[43m        \u001b[49m\u001b[38;5;28;43mself\u001b[39;49m\u001b[38;5;241;43m.\u001b[39;49m\u001b[43mestimator\u001b[49m\u001b[43m,\u001b[49m\u001b[43m \u001b[49m\u001b[43mX\u001b[49m\u001b[43m,\u001b[49m\u001b[43m \u001b[49m\u001b[43my\u001b[49m\u001b[43m[\u001b[49m\u001b[43m:\u001b[49m\u001b[43m,\u001b[49m\u001b[43m \u001b[49m\u001b[43mi\u001b[49m\u001b[43m]\u001b[49m\u001b[43m,\u001b[49m\u001b[43m \u001b[49m\u001b[43msample_weight\u001b[49m\u001b[43m,\u001b[49m\u001b[43m \u001b[49m\u001b[38;5;241;43m*\u001b[39;49m\u001b[38;5;241;43m*\u001b[39;49m\u001b[43mfit_params_validated\u001b[49m\n\u001b[0;32m    205\u001b[0m \u001b[43m    \u001b[49m\u001b[43m)\u001b[49m\n\u001b[0;32m    206\u001b[0m \u001b[43m    \u001b[49m\u001b[38;5;28;43;01mfor\u001b[39;49;00m\u001b[43m \u001b[49m\u001b[43mi\u001b[49m\u001b[43m \u001b[49m\u001b[38;5;129;43;01min\u001b[39;49;00m\u001b[43m \u001b[49m\u001b[38;5;28;43mrange\u001b[39;49m\u001b[43m(\u001b[49m\u001b[43my\u001b[49m\u001b[38;5;241;43m.\u001b[39;49m\u001b[43mshape\u001b[49m\u001b[43m[\u001b[49m\u001b[38;5;241;43m1\u001b[39;49m\u001b[43m]\u001b[49m\u001b[43m)\u001b[49m\n\u001b[0;32m    207\u001b[0m \u001b[43m\u001b[49m\u001b[43m)\u001b[49m\n\u001b[0;32m    209\u001b[0m \u001b[38;5;28;01mif\u001b[39;00m \u001b[38;5;28mhasattr\u001b[39m(\u001b[38;5;28mself\u001b[39m\u001b[38;5;241m.\u001b[39mestimators_[\u001b[38;5;241m0\u001b[39m], \u001b[38;5;124m\"\u001b[39m\u001b[38;5;124mn_features_in_\u001b[39m\u001b[38;5;124m\"\u001b[39m):\n\u001b[0;32m    210\u001b[0m     \u001b[38;5;28mself\u001b[39m\u001b[38;5;241m.\u001b[39mn_features_in_ \u001b[38;5;241m=\u001b[39m \u001b[38;5;28mself\u001b[39m\u001b[38;5;241m.\u001b[39mestimators_[\u001b[38;5;241m0\u001b[39m]\u001b[38;5;241m.\u001b[39mn_features_in_\n",
      "File \u001b[1;32mC:\\git\\lab_data_science\\venv\\lib\\site-packages\\joblib\\parallel.py:1085\u001b[0m, in \u001b[0;36mParallel.__call__\u001b[1;34m(self, iterable)\u001b[0m\n\u001b[0;32m   1076\u001b[0m \u001b[38;5;28;01mtry\u001b[39;00m:\n\u001b[0;32m   1077\u001b[0m     \u001b[38;5;66;03m# Only set self._iterating to True if at least a batch\u001b[39;00m\n\u001b[0;32m   1078\u001b[0m     \u001b[38;5;66;03m# was dispatched. In particular this covers the edge\u001b[39;00m\n\u001b[1;32m   (...)\u001b[0m\n\u001b[0;32m   1082\u001b[0m     \u001b[38;5;66;03m# was very quick and its callback already dispatched all the\u001b[39;00m\n\u001b[0;32m   1083\u001b[0m     \u001b[38;5;66;03m# remaining jobs.\u001b[39;00m\n\u001b[0;32m   1084\u001b[0m     \u001b[38;5;28mself\u001b[39m\u001b[38;5;241m.\u001b[39m_iterating \u001b[38;5;241m=\u001b[39m \u001b[38;5;28;01mFalse\u001b[39;00m\n\u001b[1;32m-> 1085\u001b[0m     \u001b[38;5;28;01mif\u001b[39;00m \u001b[38;5;28;43mself\u001b[39;49m\u001b[38;5;241;43m.\u001b[39;49m\u001b[43mdispatch_one_batch\u001b[49m\u001b[43m(\u001b[49m\u001b[43miterator\u001b[49m\u001b[43m)\u001b[49m:\n\u001b[0;32m   1086\u001b[0m         \u001b[38;5;28mself\u001b[39m\u001b[38;5;241m.\u001b[39m_iterating \u001b[38;5;241m=\u001b[39m \u001b[38;5;28mself\u001b[39m\u001b[38;5;241m.\u001b[39m_original_iterator \u001b[38;5;129;01mis\u001b[39;00m \u001b[38;5;129;01mnot\u001b[39;00m \u001b[38;5;28;01mNone\u001b[39;00m\n\u001b[0;32m   1088\u001b[0m     \u001b[38;5;28;01mwhile\u001b[39;00m \u001b[38;5;28mself\u001b[39m\u001b[38;5;241m.\u001b[39mdispatch_one_batch(iterator):\n",
      "File \u001b[1;32mC:\\git\\lab_data_science\\venv\\lib\\site-packages\\joblib\\parallel.py:901\u001b[0m, in \u001b[0;36mParallel.dispatch_one_batch\u001b[1;34m(self, iterator)\u001b[0m\n\u001b[0;32m    899\u001b[0m     \u001b[38;5;28;01mreturn\u001b[39;00m \u001b[38;5;28;01mFalse\u001b[39;00m\n\u001b[0;32m    900\u001b[0m \u001b[38;5;28;01melse\u001b[39;00m:\n\u001b[1;32m--> 901\u001b[0m     \u001b[38;5;28;43mself\u001b[39;49m\u001b[38;5;241;43m.\u001b[39;49m\u001b[43m_dispatch\u001b[49m\u001b[43m(\u001b[49m\u001b[43mtasks\u001b[49m\u001b[43m)\u001b[49m\n\u001b[0;32m    902\u001b[0m     \u001b[38;5;28;01mreturn\u001b[39;00m \u001b[38;5;28;01mTrue\u001b[39;00m\n",
      "File \u001b[1;32mC:\\git\\lab_data_science\\venv\\lib\\site-packages\\joblib\\parallel.py:819\u001b[0m, in \u001b[0;36mParallel._dispatch\u001b[1;34m(self, batch)\u001b[0m\n\u001b[0;32m    817\u001b[0m \u001b[38;5;28;01mwith\u001b[39;00m \u001b[38;5;28mself\u001b[39m\u001b[38;5;241m.\u001b[39m_lock:\n\u001b[0;32m    818\u001b[0m     job_idx \u001b[38;5;241m=\u001b[39m \u001b[38;5;28mlen\u001b[39m(\u001b[38;5;28mself\u001b[39m\u001b[38;5;241m.\u001b[39m_jobs)\n\u001b[1;32m--> 819\u001b[0m     job \u001b[38;5;241m=\u001b[39m \u001b[38;5;28;43mself\u001b[39;49m\u001b[38;5;241;43m.\u001b[39;49m\u001b[43m_backend\u001b[49m\u001b[38;5;241;43m.\u001b[39;49m\u001b[43mapply_async\u001b[49m\u001b[43m(\u001b[49m\u001b[43mbatch\u001b[49m\u001b[43m,\u001b[49m\u001b[43m \u001b[49m\u001b[43mcallback\u001b[49m\u001b[38;5;241;43m=\u001b[39;49m\u001b[43mcb\u001b[49m\u001b[43m)\u001b[49m\n\u001b[0;32m    820\u001b[0m     \u001b[38;5;66;03m# A job can complete so quickly than its callback is\u001b[39;00m\n\u001b[0;32m    821\u001b[0m     \u001b[38;5;66;03m# called before we get here, causing self._jobs to\u001b[39;00m\n\u001b[0;32m    822\u001b[0m     \u001b[38;5;66;03m# grow. To ensure correct results ordering, .insert is\u001b[39;00m\n\u001b[0;32m    823\u001b[0m     \u001b[38;5;66;03m# used (rather than .append) in the following line\u001b[39;00m\n\u001b[0;32m    824\u001b[0m     \u001b[38;5;28mself\u001b[39m\u001b[38;5;241m.\u001b[39m_jobs\u001b[38;5;241m.\u001b[39minsert(job_idx, job)\n",
      "File \u001b[1;32mC:\\git\\lab_data_science\\venv\\lib\\site-packages\\joblib\\_parallel_backends.py:208\u001b[0m, in \u001b[0;36mSequentialBackend.apply_async\u001b[1;34m(self, func, callback)\u001b[0m\n\u001b[0;32m    206\u001b[0m \u001b[38;5;28;01mdef\u001b[39;00m \u001b[38;5;21mapply_async\u001b[39m(\u001b[38;5;28mself\u001b[39m, func, callback\u001b[38;5;241m=\u001b[39m\u001b[38;5;28;01mNone\u001b[39;00m):\n\u001b[0;32m    207\u001b[0m     \u001b[38;5;124;03m\"\"\"Schedule a func to be run\"\"\"\u001b[39;00m\n\u001b[1;32m--> 208\u001b[0m     result \u001b[38;5;241m=\u001b[39m \u001b[43mImmediateResult\u001b[49m\u001b[43m(\u001b[49m\u001b[43mfunc\u001b[49m\u001b[43m)\u001b[49m\n\u001b[0;32m    209\u001b[0m     \u001b[38;5;28;01mif\u001b[39;00m callback:\n\u001b[0;32m    210\u001b[0m         callback(result)\n",
      "File \u001b[1;32mC:\\git\\lab_data_science\\venv\\lib\\site-packages\\joblib\\_parallel_backends.py:597\u001b[0m, in \u001b[0;36mImmediateResult.__init__\u001b[1;34m(self, batch)\u001b[0m\n\u001b[0;32m    594\u001b[0m \u001b[38;5;28;01mdef\u001b[39;00m \u001b[38;5;21m__init__\u001b[39m(\u001b[38;5;28mself\u001b[39m, batch):\n\u001b[0;32m    595\u001b[0m     \u001b[38;5;66;03m# Don't delay the application, to avoid keeping the input\u001b[39;00m\n\u001b[0;32m    596\u001b[0m     \u001b[38;5;66;03m# arguments in memory\u001b[39;00m\n\u001b[1;32m--> 597\u001b[0m     \u001b[38;5;28mself\u001b[39m\u001b[38;5;241m.\u001b[39mresults \u001b[38;5;241m=\u001b[39m \u001b[43mbatch\u001b[49m\u001b[43m(\u001b[49m\u001b[43m)\u001b[49m\n",
      "File \u001b[1;32mC:\\git\\lab_data_science\\venv\\lib\\site-packages\\joblib\\parallel.py:288\u001b[0m, in \u001b[0;36mBatchedCalls.__call__\u001b[1;34m(self)\u001b[0m\n\u001b[0;32m    284\u001b[0m \u001b[38;5;28;01mdef\u001b[39;00m \u001b[38;5;21m__call__\u001b[39m(\u001b[38;5;28mself\u001b[39m):\n\u001b[0;32m    285\u001b[0m     \u001b[38;5;66;03m# Set the default nested backend to self._backend but do not set the\u001b[39;00m\n\u001b[0;32m    286\u001b[0m     \u001b[38;5;66;03m# change the default number of processes to -1\u001b[39;00m\n\u001b[0;32m    287\u001b[0m     \u001b[38;5;28;01mwith\u001b[39;00m parallel_backend(\u001b[38;5;28mself\u001b[39m\u001b[38;5;241m.\u001b[39m_backend, n_jobs\u001b[38;5;241m=\u001b[39m\u001b[38;5;28mself\u001b[39m\u001b[38;5;241m.\u001b[39m_n_jobs):\n\u001b[1;32m--> 288\u001b[0m         \u001b[38;5;28;01mreturn\u001b[39;00m [func(\u001b[38;5;241m*\u001b[39margs, \u001b[38;5;241m*\u001b[39m\u001b[38;5;241m*\u001b[39mkwargs)\n\u001b[0;32m    289\u001b[0m                 \u001b[38;5;28;01mfor\u001b[39;00m func, args, kwargs \u001b[38;5;129;01min\u001b[39;00m \u001b[38;5;28mself\u001b[39m\u001b[38;5;241m.\u001b[39mitems]\n",
      "File \u001b[1;32mC:\\git\\lab_data_science\\venv\\lib\\site-packages\\joblib\\parallel.py:288\u001b[0m, in \u001b[0;36m<listcomp>\u001b[1;34m(.0)\u001b[0m\n\u001b[0;32m    284\u001b[0m \u001b[38;5;28;01mdef\u001b[39;00m \u001b[38;5;21m__call__\u001b[39m(\u001b[38;5;28mself\u001b[39m):\n\u001b[0;32m    285\u001b[0m     \u001b[38;5;66;03m# Set the default nested backend to self._backend but do not set the\u001b[39;00m\n\u001b[0;32m    286\u001b[0m     \u001b[38;5;66;03m# change the default number of processes to -1\u001b[39;00m\n\u001b[0;32m    287\u001b[0m     \u001b[38;5;28;01mwith\u001b[39;00m parallel_backend(\u001b[38;5;28mself\u001b[39m\u001b[38;5;241m.\u001b[39m_backend, n_jobs\u001b[38;5;241m=\u001b[39m\u001b[38;5;28mself\u001b[39m\u001b[38;5;241m.\u001b[39m_n_jobs):\n\u001b[1;32m--> 288\u001b[0m         \u001b[38;5;28;01mreturn\u001b[39;00m [func(\u001b[38;5;241m*\u001b[39margs, \u001b[38;5;241m*\u001b[39m\u001b[38;5;241m*\u001b[39mkwargs)\n\u001b[0;32m    289\u001b[0m                 \u001b[38;5;28;01mfor\u001b[39;00m func, args, kwargs \u001b[38;5;129;01min\u001b[39;00m \u001b[38;5;28mself\u001b[39m\u001b[38;5;241m.\u001b[39mitems]\n",
      "File \u001b[1;32mC:\\git\\lab_data_science\\venv\\lib\\site-packages\\sklearn\\utils\\fixes.py:117\u001b[0m, in \u001b[0;36m_FuncWrapper.__call__\u001b[1;34m(self, *args, **kwargs)\u001b[0m\n\u001b[0;32m    115\u001b[0m \u001b[38;5;28;01mdef\u001b[39;00m \u001b[38;5;21m__call__\u001b[39m(\u001b[38;5;28mself\u001b[39m, \u001b[38;5;241m*\u001b[39margs, \u001b[38;5;241m*\u001b[39m\u001b[38;5;241m*\u001b[39mkwargs):\n\u001b[0;32m    116\u001b[0m     \u001b[38;5;28;01mwith\u001b[39;00m config_context(\u001b[38;5;241m*\u001b[39m\u001b[38;5;241m*\u001b[39m\u001b[38;5;28mself\u001b[39m\u001b[38;5;241m.\u001b[39mconfig):\n\u001b[1;32m--> 117\u001b[0m         \u001b[38;5;28;01mreturn\u001b[39;00m \u001b[38;5;28mself\u001b[39m\u001b[38;5;241m.\u001b[39mfunction(\u001b[38;5;241m*\u001b[39margs, \u001b[38;5;241m*\u001b[39m\u001b[38;5;241m*\u001b[39mkwargs)\n",
      "File \u001b[1;32mC:\\git\\lab_data_science\\venv\\lib\\site-packages\\sklearn\\multioutput.py:44\u001b[0m, in \u001b[0;36m_fit_estimator\u001b[1;34m(estimator, X, y, sample_weight, **fit_params)\u001b[0m\n\u001b[0;32m     42\u001b[0m     estimator\u001b[38;5;241m.\u001b[39mfit(X, y, sample_weight\u001b[38;5;241m=\u001b[39msample_weight, \u001b[38;5;241m*\u001b[39m\u001b[38;5;241m*\u001b[39mfit_params)\n\u001b[0;32m     43\u001b[0m \u001b[38;5;28;01melse\u001b[39;00m:\n\u001b[1;32m---> 44\u001b[0m     estimator\u001b[38;5;241m.\u001b[39mfit(X, y, \u001b[38;5;241m*\u001b[39m\u001b[38;5;241m*\u001b[39mfit_params)\n\u001b[0;32m     45\u001b[0m \u001b[38;5;28;01mreturn\u001b[39;00m estimator\n",
      "File \u001b[1;32mC:\\git\\lab_data_science\\venv\\lib\\site-packages\\sklearn\\ensemble\\_forest.py:331\u001b[0m, in \u001b[0;36mBaseForest.fit\u001b[1;34m(self, X, y, sample_weight)\u001b[0m\n\u001b[0;32m    329\u001b[0m \u001b[38;5;28;01mif\u001b[39;00m issparse(y):\n\u001b[0;32m    330\u001b[0m     \u001b[38;5;28;01mraise\u001b[39;00m \u001b[38;5;167;01mValueError\u001b[39;00m(\u001b[38;5;124m\"\u001b[39m\u001b[38;5;124msparse multilabel-indicator for y is not supported.\u001b[39m\u001b[38;5;124m\"\u001b[39m)\n\u001b[1;32m--> 331\u001b[0m X, y \u001b[38;5;241m=\u001b[39m \u001b[38;5;28;43mself\u001b[39;49m\u001b[38;5;241;43m.\u001b[39;49m\u001b[43m_validate_data\u001b[49m\u001b[43m(\u001b[49m\n\u001b[0;32m    332\u001b[0m \u001b[43m    \u001b[49m\u001b[43mX\u001b[49m\u001b[43m,\u001b[49m\u001b[43m \u001b[49m\u001b[43my\u001b[49m\u001b[43m,\u001b[49m\u001b[43m \u001b[49m\u001b[43mmulti_output\u001b[49m\u001b[38;5;241;43m=\u001b[39;49m\u001b[38;5;28;43;01mTrue\u001b[39;49;00m\u001b[43m,\u001b[49m\u001b[43m \u001b[49m\u001b[43maccept_sparse\u001b[49m\u001b[38;5;241;43m=\u001b[39;49m\u001b[38;5;124;43m\"\u001b[39;49m\u001b[38;5;124;43mcsc\u001b[39;49m\u001b[38;5;124;43m\"\u001b[39;49m\u001b[43m,\u001b[49m\u001b[43m \u001b[49m\u001b[43mdtype\u001b[49m\u001b[38;5;241;43m=\u001b[39;49m\u001b[43mDTYPE\u001b[49m\n\u001b[0;32m    333\u001b[0m \u001b[43m\u001b[49m\u001b[43m)\u001b[49m\n\u001b[0;32m    334\u001b[0m \u001b[38;5;28;01mif\u001b[39;00m sample_weight \u001b[38;5;129;01mis\u001b[39;00m \u001b[38;5;129;01mnot\u001b[39;00m \u001b[38;5;28;01mNone\u001b[39;00m:\n\u001b[0;32m    335\u001b[0m     sample_weight \u001b[38;5;241m=\u001b[39m _check_sample_weight(sample_weight, X)\n",
      "File \u001b[1;32mC:\\git\\lab_data_science\\venv\\lib\\site-packages\\sklearn\\base.py:596\u001b[0m, in \u001b[0;36mBaseEstimator._validate_data\u001b[1;34m(self, X, y, reset, validate_separately, **check_params)\u001b[0m\n\u001b[0;32m    594\u001b[0m         y \u001b[38;5;241m=\u001b[39m check_array(y, input_name\u001b[38;5;241m=\u001b[39m\u001b[38;5;124m\"\u001b[39m\u001b[38;5;124my\u001b[39m\u001b[38;5;124m\"\u001b[39m, \u001b[38;5;241m*\u001b[39m\u001b[38;5;241m*\u001b[39mcheck_y_params)\n\u001b[0;32m    595\u001b[0m     \u001b[38;5;28;01melse\u001b[39;00m:\n\u001b[1;32m--> 596\u001b[0m         X, y \u001b[38;5;241m=\u001b[39m check_X_y(X, y, \u001b[38;5;241m*\u001b[39m\u001b[38;5;241m*\u001b[39mcheck_params)\n\u001b[0;32m    597\u001b[0m     out \u001b[38;5;241m=\u001b[39m X, y\n\u001b[0;32m    599\u001b[0m \u001b[38;5;28;01mif\u001b[39;00m \u001b[38;5;129;01mnot\u001b[39;00m no_val_X \u001b[38;5;129;01mand\u001b[39;00m check_params\u001b[38;5;241m.\u001b[39mget(\u001b[38;5;124m\"\u001b[39m\u001b[38;5;124mensure_2d\u001b[39m\u001b[38;5;124m\"\u001b[39m, \u001b[38;5;28;01mTrue\u001b[39;00m):\n",
      "File \u001b[1;32mC:\\git\\lab_data_science\\venv\\lib\\site-packages\\sklearn\\utils\\validation.py:1074\u001b[0m, in \u001b[0;36mcheck_X_y\u001b[1;34m(X, y, accept_sparse, accept_large_sparse, dtype, order, copy, force_all_finite, ensure_2d, allow_nd, multi_output, ensure_min_samples, ensure_min_features, y_numeric, estimator)\u001b[0m\n\u001b[0;32m   1069\u001b[0m         estimator_name \u001b[38;5;241m=\u001b[39m _check_estimator_name(estimator)\n\u001b[0;32m   1070\u001b[0m     \u001b[38;5;28;01mraise\u001b[39;00m \u001b[38;5;167;01mValueError\u001b[39;00m(\n\u001b[0;32m   1071\u001b[0m         \u001b[38;5;124mf\u001b[39m\u001b[38;5;124m\"\u001b[39m\u001b[38;5;132;01m{\u001b[39;00mestimator_name\u001b[38;5;132;01m}\u001b[39;00m\u001b[38;5;124m requires y to be passed, but the target y is None\u001b[39m\u001b[38;5;124m\"\u001b[39m\n\u001b[0;32m   1072\u001b[0m     )\n\u001b[1;32m-> 1074\u001b[0m X \u001b[38;5;241m=\u001b[39m \u001b[43mcheck_array\u001b[49m\u001b[43m(\u001b[49m\n\u001b[0;32m   1075\u001b[0m \u001b[43m    \u001b[49m\u001b[43mX\u001b[49m\u001b[43m,\u001b[49m\n\u001b[0;32m   1076\u001b[0m \u001b[43m    \u001b[49m\u001b[43maccept_sparse\u001b[49m\u001b[38;5;241;43m=\u001b[39;49m\u001b[43maccept_sparse\u001b[49m\u001b[43m,\u001b[49m\n\u001b[0;32m   1077\u001b[0m \u001b[43m    \u001b[49m\u001b[43maccept_large_sparse\u001b[49m\u001b[38;5;241;43m=\u001b[39;49m\u001b[43maccept_large_sparse\u001b[49m\u001b[43m,\u001b[49m\n\u001b[0;32m   1078\u001b[0m \u001b[43m    \u001b[49m\u001b[43mdtype\u001b[49m\u001b[38;5;241;43m=\u001b[39;49m\u001b[43mdtype\u001b[49m\u001b[43m,\u001b[49m\n\u001b[0;32m   1079\u001b[0m \u001b[43m    \u001b[49m\u001b[43morder\u001b[49m\u001b[38;5;241;43m=\u001b[39;49m\u001b[43morder\u001b[49m\u001b[43m,\u001b[49m\n\u001b[0;32m   1080\u001b[0m \u001b[43m    \u001b[49m\u001b[43mcopy\u001b[49m\u001b[38;5;241;43m=\u001b[39;49m\u001b[43mcopy\u001b[49m\u001b[43m,\u001b[49m\n\u001b[0;32m   1081\u001b[0m \u001b[43m    \u001b[49m\u001b[43mforce_all_finite\u001b[49m\u001b[38;5;241;43m=\u001b[39;49m\u001b[43mforce_all_finite\u001b[49m\u001b[43m,\u001b[49m\n\u001b[0;32m   1082\u001b[0m \u001b[43m    \u001b[49m\u001b[43mensure_2d\u001b[49m\u001b[38;5;241;43m=\u001b[39;49m\u001b[43mensure_2d\u001b[49m\u001b[43m,\u001b[49m\n\u001b[0;32m   1083\u001b[0m \u001b[43m    \u001b[49m\u001b[43mallow_nd\u001b[49m\u001b[38;5;241;43m=\u001b[39;49m\u001b[43mallow_nd\u001b[49m\u001b[43m,\u001b[49m\n\u001b[0;32m   1084\u001b[0m \u001b[43m    \u001b[49m\u001b[43mensure_min_samples\u001b[49m\u001b[38;5;241;43m=\u001b[39;49m\u001b[43mensure_min_samples\u001b[49m\u001b[43m,\u001b[49m\n\u001b[0;32m   1085\u001b[0m \u001b[43m    \u001b[49m\u001b[43mensure_min_features\u001b[49m\u001b[38;5;241;43m=\u001b[39;49m\u001b[43mensure_min_features\u001b[49m\u001b[43m,\u001b[49m\n\u001b[0;32m   1086\u001b[0m \u001b[43m    \u001b[49m\u001b[43mestimator\u001b[49m\u001b[38;5;241;43m=\u001b[39;49m\u001b[43mestimator\u001b[49m\u001b[43m,\u001b[49m\n\u001b[0;32m   1087\u001b[0m \u001b[43m    \u001b[49m\u001b[43minput_name\u001b[49m\u001b[38;5;241;43m=\u001b[39;49m\u001b[38;5;124;43m\"\u001b[39;49m\u001b[38;5;124;43mX\u001b[39;49m\u001b[38;5;124;43m\"\u001b[39;49m\u001b[43m,\u001b[49m\n\u001b[0;32m   1088\u001b[0m \u001b[43m\u001b[49m\u001b[43m)\u001b[49m\n\u001b[0;32m   1090\u001b[0m y \u001b[38;5;241m=\u001b[39m _check_y(y, multi_output\u001b[38;5;241m=\u001b[39mmulti_output, y_numeric\u001b[38;5;241m=\u001b[39my_numeric, estimator\u001b[38;5;241m=\u001b[39mestimator)\n\u001b[0;32m   1092\u001b[0m check_consistent_length(X, y)\n",
      "File \u001b[1;32mC:\\git\\lab_data_science\\venv\\lib\\site-packages\\sklearn\\utils\\validation.py:856\u001b[0m, in \u001b[0;36mcheck_array\u001b[1;34m(array, accept_sparse, accept_large_sparse, dtype, order, copy, force_all_finite, ensure_2d, allow_nd, ensure_min_samples, ensure_min_features, estimator, input_name)\u001b[0m\n\u001b[0;32m    854\u001b[0m         array \u001b[38;5;241m=\u001b[39m array\u001b[38;5;241m.\u001b[39mastype(dtype, casting\u001b[38;5;241m=\u001b[39m\u001b[38;5;124m\"\u001b[39m\u001b[38;5;124munsafe\u001b[39m\u001b[38;5;124m\"\u001b[39m, copy\u001b[38;5;241m=\u001b[39m\u001b[38;5;28;01mFalse\u001b[39;00m)\n\u001b[0;32m    855\u001b[0m     \u001b[38;5;28;01melse\u001b[39;00m:\n\u001b[1;32m--> 856\u001b[0m         array \u001b[38;5;241m=\u001b[39m \u001b[43mnp\u001b[49m\u001b[38;5;241;43m.\u001b[39;49m\u001b[43masarray\u001b[49m\u001b[43m(\u001b[49m\u001b[43marray\u001b[49m\u001b[43m,\u001b[49m\u001b[43m \u001b[49m\u001b[43morder\u001b[49m\u001b[38;5;241;43m=\u001b[39;49m\u001b[43morder\u001b[49m\u001b[43m,\u001b[49m\u001b[43m \u001b[49m\u001b[43mdtype\u001b[49m\u001b[38;5;241;43m=\u001b[39;49m\u001b[43mdtype\u001b[49m\u001b[43m)\u001b[49m\n\u001b[0;32m    857\u001b[0m \u001b[38;5;28;01mexcept\u001b[39;00m ComplexWarning \u001b[38;5;28;01mas\u001b[39;00m complex_warning:\n\u001b[0;32m    858\u001b[0m     \u001b[38;5;28;01mraise\u001b[39;00m \u001b[38;5;167;01mValueError\u001b[39;00m(\n\u001b[0;32m    859\u001b[0m         \u001b[38;5;124m\"\u001b[39m\u001b[38;5;124mComplex data not supported\u001b[39m\u001b[38;5;130;01m\\n\u001b[39;00m\u001b[38;5;132;01m{}\u001b[39;00m\u001b[38;5;130;01m\\n\u001b[39;00m\u001b[38;5;124m\"\u001b[39m\u001b[38;5;241m.\u001b[39mformat(array)\n\u001b[0;32m    860\u001b[0m     ) \u001b[38;5;28;01mfrom\u001b[39;00m \u001b[38;5;21;01mcomplex_warning\u001b[39;00m\n",
      "File \u001b[1;32mC:\\git\\lab_data_science\\venv\\lib\\site-packages\\pandas\\core\\generic.py:2069\u001b[0m, in \u001b[0;36mNDFrame.__array__\u001b[1;34m(self, dtype)\u001b[0m\n\u001b[0;32m   2068\u001b[0m \u001b[38;5;28;01mdef\u001b[39;00m \u001b[38;5;21m__array__\u001b[39m(\u001b[38;5;28mself\u001b[39m, dtype: npt\u001b[38;5;241m.\u001b[39mDTypeLike \u001b[38;5;241m|\u001b[39m \u001b[38;5;28;01mNone\u001b[39;00m \u001b[38;5;241m=\u001b[39m \u001b[38;5;28;01mNone\u001b[39;00m) \u001b[38;5;241m-\u001b[39m\u001b[38;5;241m>\u001b[39m np\u001b[38;5;241m.\u001b[39mndarray:\n\u001b[1;32m-> 2069\u001b[0m     \u001b[38;5;28;01mreturn\u001b[39;00m \u001b[43mnp\u001b[49m\u001b[38;5;241;43m.\u001b[39;49m\u001b[43masarray\u001b[49m\u001b[43m(\u001b[49m\u001b[38;5;28;43mself\u001b[39;49m\u001b[38;5;241;43m.\u001b[39;49m\u001b[43m_values\u001b[49m\u001b[43m,\u001b[49m\u001b[43m \u001b[49m\u001b[43mdtype\u001b[49m\u001b[38;5;241;43m=\u001b[39;49m\u001b[43mdtype\u001b[49m\u001b[43m)\u001b[49m\n",
      "\u001b[1;31mValueError\u001b[0m: could not convert string to float: 'Ж'"
     ]
    }
   ],
   "source": [
    "rfC = MultiOutputClassifier(RandomForestClassifier(max_depth = 1000))\n",
    "rfC.fit(x_train, y_train)"
   ]
  },
  {
   "cell_type": "code",
   "execution_count": null,
   "metadata": {},
   "outputs": [],
   "source": []
  },
  {
   "cell_type": "code",
   "execution_count": 144,
   "metadata": {},
   "outputs": [],
   "source": [
    "max_depth_values = [100, 500, 1000]\n",
    "\n",
    "best_score = 0\n",
    "best_model = None\n",
    "\n",
    "for i in max_depth_values:\n",
    "    rfC = MultiOutputClassifier(RandomForestClassifier(max_depth = i))\n",
    "\n",
    "    rfC.fit(te.fit_transform(x_train, y_train), y_train)\n",
    "    y_pred = rfC.predict(te.transform(fill.transform(x_val)))\n",
    "    score = recall_score(y_val, preds, average='micro')\n",
    "    if score > best_score:\n",
    "        best_score = score\n",
    "        best_model = rfC\n",
    "    "
   ]
  },
  {
   "cell_type": "code",
   "execution_count": 145,
   "metadata": {},
   "outputs": [
    {
     "data": {
      "text/plain": [
       "0.37681159420289856"
      ]
     },
     "execution_count": 145,
     "metadata": {},
     "output_type": "execute_result"
    }
   ],
   "source": [
    "best_score"
   ]
  },
  {
   "cell_type": "code",
   "execution_count": 43,
   "metadata": {},
   "outputs": [],
   "source": [
    "from src.features.utils import TargetEncoder, empty_column_filler"
   ]
  },
  {
   "cell_type": "code",
   "execution_count": 44,
   "metadata": {},
   "outputs": [
    {
     "name": "stderr",
     "output_type": "stream",
     "text": [
      "C:\\git\\lab_data_science\\venv\\lib\\site-packages\\category_encoders\\target_encoder.py:92: FutureWarning: Default parameter min_samples_leaf will change in version 2.6.See https://github.com/scikit-learn-contrib/category_encoders/issues/327\n",
      "  warnings.warn(\"Default parameter min_samples_leaf will change in version 2.6.\"\n",
      "C:\\git\\lab_data_science\\venv\\lib\\site-packages\\category_encoders\\target_encoder.py:97: FutureWarning: Default parameter smoothing will change in version 2.6.See https://github.com/scikit-learn-contrib/category_encoders/issues/327\n",
      "  warnings.warn(\"Default parameter smoothing will change in version 2.6.\"\n"
     ]
    },
    {
     "data": {
      "text/html": [
       "<style>#sk-container-id-3 {color: black;background-color: white;}#sk-container-id-3 pre{padding: 0;}#sk-container-id-3 div.sk-toggleable {background-color: white;}#sk-container-id-3 label.sk-toggleable__label {cursor: pointer;display: block;width: 100%;margin-bottom: 0;padding: 0.3em;box-sizing: border-box;text-align: center;}#sk-container-id-3 label.sk-toggleable__label-arrow:before {content: \"▸\";float: left;margin-right: 0.25em;color: #696969;}#sk-container-id-3 label.sk-toggleable__label-arrow:hover:before {color: black;}#sk-container-id-3 div.sk-estimator:hover label.sk-toggleable__label-arrow:before {color: black;}#sk-container-id-3 div.sk-toggleable__content {max-height: 0;max-width: 0;overflow: hidden;text-align: left;background-color: #f0f8ff;}#sk-container-id-3 div.sk-toggleable__content pre {margin: 0.2em;color: black;border-radius: 0.25em;background-color: #f0f8ff;}#sk-container-id-3 input.sk-toggleable__control:checked~div.sk-toggleable__content {max-height: 200px;max-width: 100%;overflow: auto;}#sk-container-id-3 input.sk-toggleable__control:checked~label.sk-toggleable__label-arrow:before {content: \"▾\";}#sk-container-id-3 div.sk-estimator input.sk-toggleable__control:checked~label.sk-toggleable__label {background-color: #d4ebff;}#sk-container-id-3 div.sk-label input.sk-toggleable__control:checked~label.sk-toggleable__label {background-color: #d4ebff;}#sk-container-id-3 input.sk-hidden--visually {border: 0;clip: rect(1px 1px 1px 1px);clip: rect(1px, 1px, 1px, 1px);height: 1px;margin: -1px;overflow: hidden;padding: 0;position: absolute;width: 1px;}#sk-container-id-3 div.sk-estimator {font-family: monospace;background-color: #f0f8ff;border: 1px dotted black;border-radius: 0.25em;box-sizing: border-box;margin-bottom: 0.5em;}#sk-container-id-3 div.sk-estimator:hover {background-color: #d4ebff;}#sk-container-id-3 div.sk-parallel-item::after {content: \"\";width: 100%;border-bottom: 1px solid gray;flex-grow: 1;}#sk-container-id-3 div.sk-label:hover label.sk-toggleable__label {background-color: #d4ebff;}#sk-container-id-3 div.sk-serial::before {content: \"\";position: absolute;border-left: 1px solid gray;box-sizing: border-box;top: 0;bottom: 0;left: 50%;z-index: 0;}#sk-container-id-3 div.sk-serial {display: flex;flex-direction: column;align-items: center;background-color: white;padding-right: 0.2em;padding-left: 0.2em;position: relative;}#sk-container-id-3 div.sk-item {position: relative;z-index: 1;}#sk-container-id-3 div.sk-parallel {display: flex;align-items: stretch;justify-content: center;background-color: white;position: relative;}#sk-container-id-3 div.sk-item::before, #sk-container-id-3 div.sk-parallel-item::before {content: \"\";position: absolute;border-left: 1px solid gray;box-sizing: border-box;top: 0;bottom: 0;left: 50%;z-index: -1;}#sk-container-id-3 div.sk-parallel-item {display: flex;flex-direction: column;z-index: 1;position: relative;background-color: white;}#sk-container-id-3 div.sk-parallel-item:first-child::after {align-self: flex-end;width: 50%;}#sk-container-id-3 div.sk-parallel-item:last-child::after {align-self: flex-start;width: 50%;}#sk-container-id-3 div.sk-parallel-item:only-child::after {width: 0;}#sk-container-id-3 div.sk-dashed-wrapped {border: 1px dashed gray;margin: 0 0.4em 0.5em 0.4em;box-sizing: border-box;padding-bottom: 0.4em;background-color: white;}#sk-container-id-3 div.sk-label label {font-family: monospace;font-weight: bold;display: inline-block;line-height: 1.2em;}#sk-container-id-3 div.sk-label-container {text-align: center;}#sk-container-id-3 div.sk-container {/* jupyter's `normalize.less` sets `[hidden] { display: none; }` but bootstrap.min.css set `[hidden] { display: none !important; }` so we also need the `!important` here to be able to override the default hidden behavior on the sphinx rendered scikit-learn.org. See: https://github.com/scikit-learn/scikit-learn/issues/21755 */display: inline-block !important;position: relative;}#sk-container-id-3 div.sk-text-repr-fallback {display: none;}</style><div id=\"sk-container-id-3\" class=\"sk-top-container\"><div class=\"sk-text-repr-fallback\"><pre>MultiOutputClassifier(estimator=RandomForestClassifier())</pre><b>In a Jupyter environment, please rerun this cell to show the HTML representation or trust the notebook. <br />On GitHub, the HTML representation is unable to render, please try loading this page with nbviewer.org.</b></div><div class=\"sk-container\" hidden><div class=\"sk-item sk-dashed-wrapped\"><div class=\"sk-label-container\"><div class=\"sk-label sk-toggleable\"><input class=\"sk-toggleable__control sk-hidden--visually\" id=\"sk-estimator-id-13\" type=\"checkbox\" ><label for=\"sk-estimator-id-13\" class=\"sk-toggleable__label sk-toggleable__label-arrow\">MultiOutputClassifier</label><div class=\"sk-toggleable__content\"><pre>MultiOutputClassifier(estimator=RandomForestClassifier())</pre></div></div></div><div class=\"sk-parallel\"><div class=\"sk-parallel-item\"><div class=\"sk-item\"><div class=\"sk-label-container\"><div class=\"sk-label sk-toggleable\"><input class=\"sk-toggleable__control sk-hidden--visually\" id=\"sk-estimator-id-14\" type=\"checkbox\" ><label for=\"sk-estimator-id-14\" class=\"sk-toggleable__label sk-toggleable__label-arrow\">estimator: RandomForestClassifier</label><div class=\"sk-toggleable__content\"><pre>RandomForestClassifier()</pre></div></div></div><div class=\"sk-serial\"><div class=\"sk-item\"><div class=\"sk-estimator sk-toggleable\"><input class=\"sk-toggleable__control sk-hidden--visually\" id=\"sk-estimator-id-15\" type=\"checkbox\" ><label for=\"sk-estimator-id-15\" class=\"sk-toggleable__label sk-toggleable__label-arrow\">RandomForestClassifier</label><div class=\"sk-toggleable__content\"><pre>RandomForestClassifier()</pre></div></div></div></div></div></div></div></div></div></div>"
      ],
      "text/plain": [
       "MultiOutputClassifier(estimator=RandomForestClassifier())"
      ]
     },
     "execution_count": 44,
     "metadata": {},
     "output_type": "execute_result"
    }
   ],
   "source": [
    "a = MultiOutputClassifier(RandomForestClassifier())\n",
    "\n",
    "te = TargetEncoder(cfg.CAT_COLS, 5)\n",
    "fill = empty_column_filler()\n",
    "x_train = fill.fit_transform(x_train)\n",
    "\n",
    "a.fit(te.fit_transform(x_train, y_train), y_train)"
   ]
  },
  {
   "cell_type": "code",
   "execution_count": 49,
   "metadata": {},
   "outputs": [
    {
     "data": {
      "text/html": [
       "<style>#sk-container-id-4 {color: black;background-color: white;}#sk-container-id-4 pre{padding: 0;}#sk-container-id-4 div.sk-toggleable {background-color: white;}#sk-container-id-4 label.sk-toggleable__label {cursor: pointer;display: block;width: 100%;margin-bottom: 0;padding: 0.3em;box-sizing: border-box;text-align: center;}#sk-container-id-4 label.sk-toggleable__label-arrow:before {content: \"▸\";float: left;margin-right: 0.25em;color: #696969;}#sk-container-id-4 label.sk-toggleable__label-arrow:hover:before {color: black;}#sk-container-id-4 div.sk-estimator:hover label.sk-toggleable__label-arrow:before {color: black;}#sk-container-id-4 div.sk-toggleable__content {max-height: 0;max-width: 0;overflow: hidden;text-align: left;background-color: #f0f8ff;}#sk-container-id-4 div.sk-toggleable__content pre {margin: 0.2em;color: black;border-radius: 0.25em;background-color: #f0f8ff;}#sk-container-id-4 input.sk-toggleable__control:checked~div.sk-toggleable__content {max-height: 200px;max-width: 100%;overflow: auto;}#sk-container-id-4 input.sk-toggleable__control:checked~label.sk-toggleable__label-arrow:before {content: \"▾\";}#sk-container-id-4 div.sk-estimator input.sk-toggleable__control:checked~label.sk-toggleable__label {background-color: #d4ebff;}#sk-container-id-4 div.sk-label input.sk-toggleable__control:checked~label.sk-toggleable__label {background-color: #d4ebff;}#sk-container-id-4 input.sk-hidden--visually {border: 0;clip: rect(1px 1px 1px 1px);clip: rect(1px, 1px, 1px, 1px);height: 1px;margin: -1px;overflow: hidden;padding: 0;position: absolute;width: 1px;}#sk-container-id-4 div.sk-estimator {font-family: monospace;background-color: #f0f8ff;border: 1px dotted black;border-radius: 0.25em;box-sizing: border-box;margin-bottom: 0.5em;}#sk-container-id-4 div.sk-estimator:hover {background-color: #d4ebff;}#sk-container-id-4 div.sk-parallel-item::after {content: \"\";width: 100%;border-bottom: 1px solid gray;flex-grow: 1;}#sk-container-id-4 div.sk-label:hover label.sk-toggleable__label {background-color: #d4ebff;}#sk-container-id-4 div.sk-serial::before {content: \"\";position: absolute;border-left: 1px solid gray;box-sizing: border-box;top: 0;bottom: 0;left: 50%;z-index: 0;}#sk-container-id-4 div.sk-serial {display: flex;flex-direction: column;align-items: center;background-color: white;padding-right: 0.2em;padding-left: 0.2em;position: relative;}#sk-container-id-4 div.sk-item {position: relative;z-index: 1;}#sk-container-id-4 div.sk-parallel {display: flex;align-items: stretch;justify-content: center;background-color: white;position: relative;}#sk-container-id-4 div.sk-item::before, #sk-container-id-4 div.sk-parallel-item::before {content: \"\";position: absolute;border-left: 1px solid gray;box-sizing: border-box;top: 0;bottom: 0;left: 50%;z-index: -1;}#sk-container-id-4 div.sk-parallel-item {display: flex;flex-direction: column;z-index: 1;position: relative;background-color: white;}#sk-container-id-4 div.sk-parallel-item:first-child::after {align-self: flex-end;width: 50%;}#sk-container-id-4 div.sk-parallel-item:last-child::after {align-self: flex-start;width: 50%;}#sk-container-id-4 div.sk-parallel-item:only-child::after {width: 0;}#sk-container-id-4 div.sk-dashed-wrapped {border: 1px dashed gray;margin: 0 0.4em 0.5em 0.4em;box-sizing: border-box;padding-bottom: 0.4em;background-color: white;}#sk-container-id-4 div.sk-label label {font-family: monospace;font-weight: bold;display: inline-block;line-height: 1.2em;}#sk-container-id-4 div.sk-label-container {text-align: center;}#sk-container-id-4 div.sk-container {/* jupyter's `normalize.less` sets `[hidden] { display: none; }` but bootstrap.min.css set `[hidden] { display: none !important; }` so we also need the `!important` here to be able to override the default hidden behavior on the sphinx rendered scikit-learn.org. See: https://github.com/scikit-learn/scikit-learn/issues/21755 */display: inline-block !important;position: relative;}#sk-container-id-4 div.sk-text-repr-fallback {display: none;}</style><div id=\"sk-container-id-4\" class=\"sk-top-container\"><div class=\"sk-text-repr-fallback\"><pre>MultiOutputClassifier(estimator=RandomForestClassifier())</pre><b>In a Jupyter environment, please rerun this cell to show the HTML representation or trust the notebook. <br />On GitHub, the HTML representation is unable to render, please try loading this page with nbviewer.org.</b></div><div class=\"sk-container\" hidden><div class=\"sk-item sk-dashed-wrapped\"><div class=\"sk-label-container\"><div class=\"sk-label sk-toggleable\"><input class=\"sk-toggleable__control sk-hidden--visually\" id=\"sk-estimator-id-16\" type=\"checkbox\" ><label for=\"sk-estimator-id-16\" class=\"sk-toggleable__label sk-toggleable__label-arrow\">MultiOutputClassifier</label><div class=\"sk-toggleable__content\"><pre>MultiOutputClassifier(estimator=RandomForestClassifier())</pre></div></div></div><div class=\"sk-parallel\"><div class=\"sk-parallel-item\"><div class=\"sk-item\"><div class=\"sk-label-container\"><div class=\"sk-label sk-toggleable\"><input class=\"sk-toggleable__control sk-hidden--visually\" id=\"sk-estimator-id-17\" type=\"checkbox\" ><label for=\"sk-estimator-id-17\" class=\"sk-toggleable__label sk-toggleable__label-arrow\">estimator: RandomForestClassifier</label><div class=\"sk-toggleable__content\"><pre>RandomForestClassifier()</pre></div></div></div><div class=\"sk-serial\"><div class=\"sk-item\"><div class=\"sk-estimator sk-toggleable\"><input class=\"sk-toggleable__control sk-hidden--visually\" id=\"sk-estimator-id-18\" type=\"checkbox\" ><label for=\"sk-estimator-id-18\" class=\"sk-toggleable__label sk-toggleable__label-arrow\">RandomForestClassifier</label><div class=\"sk-toggleable__content\"><pre>RandomForestClassifier()</pre></div></div></div></div></div></div></div></div></div></div>"
      ],
      "text/plain": [
       "MultiOutputClassifier(estimator=RandomForestClassifier())"
      ]
     },
     "execution_count": 49,
     "metadata": {},
     "output_type": "execute_result"
    }
   ],
   "source": [
    "a.fit(te.fit_transform(x_train, y_train), y_train)"
   ]
  },
  {
   "cell_type": "code",
   "execution_count": 45,
   "metadata": {},
   "outputs": [],
   "source": [
    "preds = a.predict(te.transform(fill.transform(x_val)))"
   ]
  },
  {
   "cell_type": "code",
   "execution_count": 52,
   "metadata": {},
   "outputs": [
    {
     "data": {
      "text/plain": [
       "array([0.01853008, 0.02157847, 0.00693141, 0.01709108, 0.00718598,\n",
       "       0.00578241, 0.00678756, 0.00628692, 0.00303272, 0.00020596,\n",
       "       0.06057083, 0.00498008, 0.01595014, 0.02325055, 0.01904295,\n",
       "       0.01293618, 0.        , 0.04661357, 0.01212465, 0.00834934,\n",
       "       0.00233907, 0.00495155, 0.01422034, 0.0006821 , 0.00469978,\n",
       "       0.00634493, 0.01210676, 0.02442504, 0.00843774, 0.00956835,\n",
       "       0.02620389, 0.02665562, 0.00639806, 0.01348091, 0.0008475 ,\n",
       "       0.0047669 , 0.00597276, 0.01134444, 0.02483728, 0.00762436,\n",
       "       0.01093402, 0.02684346, 0.02568942, 0.00498617, 0.01434467,\n",
       "       0.00079481, 0.00512016, 0.00534969, 0.01134583, 0.02515356,\n",
       "       0.00966359, 0.00874217, 0.02766255, 0.02717771, 0.00553591,\n",
       "       0.01373813, 0.00125981, 0.00451615, 0.00599432, 0.01193236,\n",
       "       0.02533779, 0.00939681, 0.00977809, 0.02805299, 0.02671783,\n",
       "       0.00681968, 0.0138934 , 0.0009449 , 0.00489978, 0.00541521,\n",
       "       0.01254731, 0.02460614, 0.00823285, 0.00988025, 0.02602242,\n",
       "       0.0275318 ])"
      ]
     },
     "execution_count": 52,
     "metadata": {},
     "output_type": "execute_result"
    }
   ],
   "source": [
    "a.estimator.fit(te.fit_transform(x_train, y_train), y_train)\n",
    "a.estimator.feature_importances_"
   ]
  },
  {
   "cell_type": "code",
   "execution_count": null,
   "metadata": {},
   "outputs": [],
   "source": []
  },
  {
   "cell_type": "code",
   "execution_count": 128,
   "metadata": {},
   "outputs": [
    {
     "name": "stdout",
     "output_type": "stream",
     "text": [
      "0.6554621848739496\n",
      "0.37681159420289856\n",
      "0.4785276073619632\n",
      "0.6676568092471982\n"
     ]
    }
   ],
   "source": [
    "count_metrics(y_val, preds)"
   ]
  },
  {
   "cell_type": "code",
   "execution_count": 94,
   "metadata": {
    "scrolled": true
   },
   "outputs": [
    {
     "name": "stdout",
     "output_type": "stream",
     "text": [
      "Learning rate set to 0.073787\n",
      "0:\tlearn: 0.6352459\ttotal: 397ms\tremaining: 39.3s\n",
      "1:\tlearn: 0.5882564\ttotal: 460ms\tremaining: 22.5s\n",
      "2:\tlearn: 0.5508143\ttotal: 480ms\tremaining: 15.5s\n",
      "3:\tlearn: 0.5186669\ttotal: 502ms\tremaining: 12s\n",
      "4:\tlearn: 0.4935667\ttotal: 549ms\tremaining: 10.4s\n",
      "5:\tlearn: 0.4632556\ttotal: 606ms\tremaining: 9.49s\n",
      "6:\tlearn: 0.4461408\ttotal: 632ms\tremaining: 8.39s\n",
      "7:\tlearn: 0.4323914\ttotal: 644ms\tremaining: 7.41s\n",
      "8:\tlearn: 0.4207278\ttotal: 664ms\tremaining: 6.71s\n",
      "9:\tlearn: 0.4046415\ttotal: 695ms\tremaining: 6.26s\n",
      "10:\tlearn: 0.3969424\ttotal: 717ms\tremaining: 5.8s\n",
      "11:\tlearn: 0.3855813\ttotal: 733ms\tremaining: 5.38s\n",
      "12:\tlearn: 0.3745002\ttotal: 789ms\tremaining: 5.28s\n",
      "13:\tlearn: 0.3677874\ttotal: 842ms\tremaining: 5.17s\n",
      "14:\tlearn: 0.3632742\ttotal: 902ms\tremaining: 5.11s\n",
      "15:\tlearn: 0.3543569\ttotal: 954ms\tremaining: 5.01s\n",
      "16:\tlearn: 0.3492747\ttotal: 994ms\tremaining: 4.85s\n",
      "17:\tlearn: 0.3472954\ttotal: 1.01s\tremaining: 4.61s\n",
      "18:\tlearn: 0.3427385\ttotal: 1.06s\tremaining: 4.54s\n",
      "19:\tlearn: 0.3372349\ttotal: 1.11s\tremaining: 4.46s\n",
      "20:\tlearn: 0.3337644\ttotal: 1.17s\tremaining: 4.41s\n",
      "21:\tlearn: 0.3307933\ttotal: 1.22s\tremaining: 4.33s\n",
      "22:\tlearn: 0.3269258\ttotal: 1.27s\tremaining: 4.26s\n",
      "23:\tlearn: 0.3231525\ttotal: 1.32s\tremaining: 4.18s\n",
      "24:\tlearn: 0.3215390\ttotal: 1.4s\tremaining: 4.19s\n",
      "25:\tlearn: 0.3211450\ttotal: 1.41s\tremaining: 4.02s\n",
      "26:\tlearn: 0.3191514\ttotal: 1.46s\tremaining: 3.94s\n",
      "27:\tlearn: 0.3146367\ttotal: 1.51s\tremaining: 3.88s\n",
      "28:\tlearn: 0.3120527\ttotal: 1.56s\tremaining: 3.83s\n",
      "29:\tlearn: 0.3107873\ttotal: 1.58s\tremaining: 3.7s\n",
      "30:\tlearn: 0.3080808\ttotal: 1.63s\tremaining: 3.63s\n",
      "31:\tlearn: 0.3041272\ttotal: 1.68s\tremaining: 3.58s\n",
      "32:\tlearn: 0.3013779\ttotal: 1.73s\tremaining: 3.52s\n",
      "33:\tlearn: 0.3013092\ttotal: 1.75s\tremaining: 3.39s\n",
      "34:\tlearn: 0.2991371\ttotal: 1.8s\tremaining: 3.34s\n",
      "35:\tlearn: 0.2982440\ttotal: 1.86s\tremaining: 3.31s\n",
      "36:\tlearn: 0.2969229\ttotal: 1.92s\tremaining: 3.26s\n",
      "37:\tlearn: 0.2951668\ttotal: 1.97s\tremaining: 3.21s\n",
      "38:\tlearn: 0.2927986\ttotal: 2.02s\tremaining: 3.16s\n",
      "39:\tlearn: 0.2926473\ttotal: 2.05s\tremaining: 3.08s\n",
      "40:\tlearn: 0.2901791\ttotal: 2.1s\tremaining: 3.02s\n",
      "41:\tlearn: 0.2881536\ttotal: 2.15s\tremaining: 2.97s\n",
      "42:\tlearn: 0.2846619\ttotal: 2.2s\tremaining: 2.92s\n",
      "43:\tlearn: 0.2846226\ttotal: 2.22s\tremaining: 2.83s\n",
      "44:\tlearn: 0.2821894\ttotal: 2.27s\tremaining: 2.78s\n",
      "45:\tlearn: 0.2803750\ttotal: 2.32s\tremaining: 2.73s\n",
      "46:\tlearn: 0.2785505\ttotal: 2.38s\tremaining: 2.69s\n",
      "47:\tlearn: 0.2766075\ttotal: 2.43s\tremaining: 2.64s\n",
      "48:\tlearn: 0.2746020\ttotal: 2.48s\tremaining: 2.59s\n",
      "49:\tlearn: 0.2722709\ttotal: 2.54s\tremaining: 2.54s\n",
      "50:\tlearn: 0.2701850\ttotal: 2.59s\tremaining: 2.49s\n",
      "51:\tlearn: 0.2692000\ttotal: 2.64s\tremaining: 2.44s\n",
      "52:\tlearn: 0.2684316\ttotal: 2.69s\tremaining: 2.38s\n",
      "53:\tlearn: 0.2663929\ttotal: 2.74s\tremaining: 2.33s\n",
      "54:\tlearn: 0.2646089\ttotal: 2.79s\tremaining: 2.28s\n",
      "55:\tlearn: 0.2635235\ttotal: 2.83s\tremaining: 2.23s\n",
      "56:\tlearn: 0.2626661\ttotal: 2.88s\tremaining: 2.18s\n",
      "57:\tlearn: 0.2622947\ttotal: 2.91s\tremaining: 2.11s\n",
      "58:\tlearn: 0.2605058\ttotal: 2.96s\tremaining: 2.06s\n",
      "59:\tlearn: 0.2591004\ttotal: 3.02s\tremaining: 2.02s\n",
      "60:\tlearn: 0.2581689\ttotal: 3.11s\tremaining: 1.99s\n",
      "61:\tlearn: 0.2573304\ttotal: 3.15s\tremaining: 1.93s\n",
      "62:\tlearn: 0.2567693\ttotal: 3.21s\tremaining: 1.88s\n",
      "63:\tlearn: 0.2566273\ttotal: 3.24s\tremaining: 1.82s\n",
      "64:\tlearn: 0.2560648\ttotal: 3.29s\tremaining: 1.77s\n",
      "65:\tlearn: 0.2538326\ttotal: 3.34s\tremaining: 1.72s\n",
      "66:\tlearn: 0.2529503\ttotal: 3.39s\tremaining: 1.67s\n",
      "67:\tlearn: 0.2524111\ttotal: 3.45s\tremaining: 1.62s\n",
      "68:\tlearn: 0.2512156\ttotal: 3.55s\tremaining: 1.6s\n",
      "69:\tlearn: 0.2506567\ttotal: 3.62s\tremaining: 1.55s\n",
      "70:\tlearn: 0.2492127\ttotal: 3.67s\tremaining: 1.5s\n",
      "71:\tlearn: 0.2470285\ttotal: 3.74s\tremaining: 1.45s\n",
      "72:\tlearn: 0.2464434\ttotal: 3.79s\tremaining: 1.4s\n",
      "73:\tlearn: 0.2449684\ttotal: 3.84s\tremaining: 1.35s\n",
      "74:\tlearn: 0.2435426\ttotal: 3.89s\tremaining: 1.3s\n",
      "75:\tlearn: 0.2430495\ttotal: 3.94s\tremaining: 1.25s\n",
      "76:\tlearn: 0.2413208\ttotal: 4s\tremaining: 1.19s\n",
      "77:\tlearn: 0.2412594\ttotal: 4.02s\tremaining: 1.13s\n",
      "78:\tlearn: 0.2391839\ttotal: 4.07s\tremaining: 1.08s\n",
      "79:\tlearn: 0.2362087\ttotal: 4.12s\tremaining: 1.03s\n",
      "80:\tlearn: 0.2362032\ttotal: 4.14s\tremaining: 970ms\n",
      "81:\tlearn: 0.2356422\ttotal: 4.18s\tremaining: 918ms\n",
      "82:\tlearn: 0.2349690\ttotal: 4.25s\tremaining: 871ms\n",
      "83:\tlearn: 0.2336606\ttotal: 4.3s\tremaining: 819ms\n",
      "84:\tlearn: 0.2326922\ttotal: 4.35s\tremaining: 768ms\n",
      "85:\tlearn: 0.2307100\ttotal: 4.41s\tremaining: 718ms\n",
      "86:\tlearn: 0.2299122\ttotal: 4.46s\tremaining: 667ms\n",
      "87:\tlearn: 0.2292871\ttotal: 4.52s\tremaining: 616ms\n",
      "88:\tlearn: 0.2273421\ttotal: 4.58s\tremaining: 566ms\n",
      "89:\tlearn: 0.2265421\ttotal: 4.66s\tremaining: 517ms\n",
      "90:\tlearn: 0.2257521\ttotal: 4.72s\tremaining: 467ms\n",
      "91:\tlearn: 0.2236855\ttotal: 4.76s\tremaining: 414ms\n",
      "92:\tlearn: 0.2229733\ttotal: 4.81s\tremaining: 362ms\n",
      "93:\tlearn: 0.2206846\ttotal: 4.86s\tremaining: 310ms\n",
      "94:\tlearn: 0.2200448\ttotal: 4.91s\tremaining: 259ms\n",
      "95:\tlearn: 0.2190233\ttotal: 5.02s\tremaining: 209ms\n",
      "96:\tlearn: 0.2184451\ttotal: 5.12s\tremaining: 158ms\n",
      "97:\tlearn: 0.2181901\ttotal: 5.21s\tremaining: 106ms\n",
      "98:\tlearn: 0.2180827\ttotal: 5.27s\tremaining: 53.3ms\n",
      "99:\tlearn: 0.2166649\ttotal: 5.32s\tremaining: 0us\n",
      "Learning rate set to 0.039078\n",
      "0:\tlearn: 0.6612481\ttotal: 89.2ms\tremaining: 17.7s\n",
      "1:\tlearn: 0.6339052\ttotal: 113ms\tremaining: 11.2s\n",
      "2:\tlearn: 0.6091786\ttotal: 124ms\tremaining: 8.12s\n",
      "3:\tlearn: 0.5868316\ttotal: 137ms\tremaining: 6.71s\n",
      "4:\tlearn: 0.5652372\ttotal: 267ms\tremaining: 10.4s\n",
      "5:\tlearn: 0.5470273\ttotal: 292ms\tremaining: 9.43s\n",
      "6:\tlearn: 0.5250670\ttotal: 394ms\tremaining: 10.9s\n",
      "7:\tlearn: 0.5101128\ttotal: 522ms\tremaining: 12.5s\n",
      "8:\tlearn: 0.4923847\ttotal: 682ms\tremaining: 14.5s\n",
      "9:\tlearn: 0.4790645\ttotal: 790ms\tremaining: 15s\n",
      "10:\tlearn: 0.4683542\ttotal: 816ms\tremaining: 14s\n",
      "11:\tlearn: 0.4586737\ttotal: 826ms\tremaining: 12.9s\n",
      "12:\tlearn: 0.4495546\ttotal: 863ms\tremaining: 12.4s\n",
      "13:\tlearn: 0.4368142\ttotal: 957ms\tremaining: 12.7s\n",
      "14:\tlearn: 0.4296555\ttotal: 998ms\tremaining: 12.3s\n",
      "15:\tlearn: 0.4231218\ttotal: 1.03s\tremaining: 11.8s\n",
      "16:\tlearn: 0.4173675\ttotal: 1.04s\tremaining: 11.2s\n",
      "17:\tlearn: 0.4121507\ttotal: 1.05s\tremaining: 10.6s\n",
      "18:\tlearn: 0.4074186\ttotal: 1.06s\tremaining: 10.1s\n",
      "19:\tlearn: 0.4029066\ttotal: 1.08s\tremaining: 9.7s\n",
      "20:\tlearn: 0.3958153\ttotal: 1.13s\tremaining: 9.59s\n",
      "21:\tlearn: 0.3884017\ttotal: 1.22s\tremaining: 9.87s\n",
      "22:\tlearn: 0.3849880\ttotal: 1.31s\tremaining: 10.1s\n",
      "23:\tlearn: 0.3821572\ttotal: 1.33s\tremaining: 9.8s\n",
      "24:\tlearn: 0.3787341\ttotal: 1.37s\tremaining: 9.61s\n",
      "25:\tlearn: 0.3731056\ttotal: 1.51s\tremaining: 10.1s\n",
      "26:\tlearn: 0.3684727\ttotal: 1.55s\tremaining: 9.96s\n",
      "27:\tlearn: 0.3646583\ttotal: 1.58s\tremaining: 9.71s\n",
      "28:\tlearn: 0.3618493\ttotal: 1.67s\tremaining: 9.87s\n",
      "29:\tlearn: 0.3595315\ttotal: 1.71s\tremaining: 9.7s\n",
      "30:\tlearn: 0.3562995\ttotal: 1.8s\tremaining: 9.83s\n",
      "31:\tlearn: 0.3526457\ttotal: 1.91s\tremaining: 10s\n",
      "32:\tlearn: 0.3497232\ttotal: 2.02s\tremaining: 10.2s\n",
      "33:\tlearn: 0.3470859\ttotal: 2.12s\tremaining: 10.4s\n",
      "34:\tlearn: 0.3461881\ttotal: 2.15s\tremaining: 10.1s\n",
      "35:\tlearn: 0.3435122\ttotal: 2.25s\tremaining: 10.3s\n",
      "36:\tlearn: 0.3407844\ttotal: 2.45s\tremaining: 10.8s\n",
      "37:\tlearn: 0.3394527\ttotal: 2.5s\tremaining: 10.7s\n",
      "38:\tlearn: 0.3372386\ttotal: 2.59s\tremaining: 10.7s\n",
      "39:\tlearn: 0.3366550\ttotal: 2.63s\tremaining: 10.5s\n",
      "40:\tlearn: 0.3341879\ttotal: 2.77s\tremaining: 10.7s\n",
      "41:\tlearn: 0.3337339\ttotal: 2.8s\tremaining: 10.5s\n",
      "42:\tlearn: 0.3331787\ttotal: 2.82s\tremaining: 10.3s\n",
      "43:\tlearn: 0.3314380\ttotal: 2.92s\tremaining: 10.3s\n",
      "44:\tlearn: 0.3291972\ttotal: 3.1s\tremaining: 10.7s\n",
      "45:\tlearn: 0.3288902\ttotal: 3.13s\tremaining: 10.5s\n",
      "46:\tlearn: 0.3285117\ttotal: 3.16s\tremaining: 10.3s\n",
      "47:\tlearn: 0.3273228\ttotal: 3.19s\tremaining: 10.1s\n",
      "48:\tlearn: 0.3254704\ttotal: 3.29s\tremaining: 10.1s\n",
      "49:\tlearn: 0.3223849\ttotal: 3.4s\tremaining: 10.2s\n",
      "50:\tlearn: 0.3202877\ttotal: 3.51s\tremaining: 10.3s\n",
      "51:\tlearn: 0.3188747\ttotal: 3.61s\tremaining: 10.3s\n",
      "52:\tlearn: 0.3178041\ttotal: 3.74s\tremaining: 10.4s\n",
      "53:\tlearn: 0.3157097\ttotal: 3.85s\tremaining: 10.4s\n",
      "54:\tlearn: 0.3149907\ttotal: 3.98s\tremaining: 10.5s\n",
      "55:\tlearn: 0.3141757\ttotal: 4.13s\tremaining: 10.6s\n",
      "56:\tlearn: 0.3125505\ttotal: 4.25s\tremaining: 10.7s\n",
      "57:\tlearn: 0.3106504\ttotal: 4.36s\tremaining: 10.7s\n",
      "58:\tlearn: 0.3094007\ttotal: 4.47s\tremaining: 10.7s\n",
      "59:\tlearn: 0.3081442\ttotal: 4.61s\tremaining: 10.8s\n",
      "60:\tlearn: 0.3072968\ttotal: 4.72s\tremaining: 10.8s\n"
     ]
    },
    {
     "name": "stdout",
     "output_type": "stream",
     "text": [
      "61:\tlearn: 0.3054811\ttotal: 4.83s\tremaining: 10.8s\n",
      "62:\tlearn: 0.3045518\ttotal: 4.95s\tremaining: 10.8s\n",
      "63:\tlearn: 0.3037400\ttotal: 5.06s\tremaining: 10.7s\n",
      "64:\tlearn: 0.3027030\ttotal: 5.16s\tremaining: 10.7s\n",
      "65:\tlearn: 0.3016972\ttotal: 5.26s\tremaining: 10.7s\n",
      "66:\tlearn: 0.3010255\ttotal: 5.32s\tremaining: 10.6s\n",
      "67:\tlearn: 0.2995617\ttotal: 5.42s\tremaining: 10.5s\n",
      "68:\tlearn: 0.2986010\ttotal: 5.53s\tremaining: 10.5s\n",
      "69:\tlearn: 0.2972961\ttotal: 5.65s\tremaining: 10.5s\n",
      "70:\tlearn: 0.2956588\ttotal: 5.79s\tremaining: 10.5s\n",
      "71:\tlearn: 0.2946536\ttotal: 5.9s\tremaining: 10.5s\n",
      "72:\tlearn: 0.2936862\ttotal: 6.03s\tremaining: 10.5s\n",
      "73:\tlearn: 0.2922703\ttotal: 6.2s\tremaining: 10.6s\n",
      "74:\tlearn: 0.2912202\ttotal: 6.34s\tremaining: 10.6s\n",
      "75:\tlearn: 0.2904992\ttotal: 6.48s\tremaining: 10.6s\n",
      "76:\tlearn: 0.2897221\ttotal: 6.63s\tremaining: 10.6s\n",
      "77:\tlearn: 0.2885939\ttotal: 6.78s\tremaining: 10.6s\n",
      "78:\tlearn: 0.2873492\ttotal: 6.91s\tremaining: 10.6s\n",
      "79:\tlearn: 0.2857658\ttotal: 7.03s\tremaining: 10.6s\n",
      "80:\tlearn: 0.2847329\ttotal: 7.17s\tremaining: 10.5s\n",
      "81:\tlearn: 0.2841571\ttotal: 7.29s\tremaining: 10.5s\n",
      "82:\tlearn: 0.2841063\ttotal: 7.33s\tremaining: 10.3s\n",
      "83:\tlearn: 0.2829370\ttotal: 7.5s\tremaining: 10.4s\n",
      "84:\tlearn: 0.2818243\ttotal: 7.67s\tremaining: 10.4s\n",
      "85:\tlearn: 0.2811946\ttotal: 7.8s\tremaining: 10.3s\n",
      "86:\tlearn: 0.2811705\ttotal: 7.83s\tremaining: 10.2s\n",
      "87:\tlearn: 0.2806622\ttotal: 7.95s\tremaining: 10.1s\n",
      "88:\tlearn: 0.2801490\ttotal: 8.06s\tremaining: 10s\n",
      "89:\tlearn: 0.2791599\ttotal: 8.16s\tremaining: 9.98s\n",
      "90:\tlearn: 0.2783229\ttotal: 8.26s\tremaining: 9.9s\n",
      "91:\tlearn: 0.2775204\ttotal: 8.37s\tremaining: 9.82s\n",
      "92:\tlearn: 0.2767649\ttotal: 8.48s\tremaining: 9.76s\n",
      "93:\tlearn: 0.2760844\ttotal: 8.67s\tremaining: 9.78s\n",
      "94:\tlearn: 0.2746688\ttotal: 8.76s\tremaining: 9.68s\n",
      "95:\tlearn: 0.2736135\ttotal: 8.85s\tremaining: 9.59s\n",
      "96:\tlearn: 0.2736132\ttotal: 8.88s\tremaining: 9.43s\n",
      "97:\tlearn: 0.2730506\ttotal: 8.96s\tremaining: 9.33s\n",
      "98:\tlearn: 0.2730015\ttotal: 9s\tremaining: 9.18s\n",
      "99:\tlearn: 0.2723720\ttotal: 9.08s\tremaining: 9.08s\n",
      "100:\tlearn: 0.2715937\ttotal: 9.19s\tremaining: 9s\n",
      "101:\tlearn: 0.2713753\ttotal: 9.28s\tremaining: 8.91s\n",
      "102:\tlearn: 0.2706123\ttotal: 9.37s\tremaining: 8.82s\n",
      "103:\tlearn: 0.2698090\ttotal: 9.46s\tremaining: 8.74s\n",
      "104:\tlearn: 0.2691031\ttotal: 9.58s\tremaining: 8.67s\n",
      "105:\tlearn: 0.2683627\ttotal: 9.76s\tremaining: 8.65s\n",
      "106:\tlearn: 0.2669842\ttotal: 9.91s\tremaining: 8.62s\n",
      "107:\tlearn: 0.2660620\ttotal: 10.1s\tremaining: 8.58s\n",
      "108:\tlearn: 0.2654388\ttotal: 10.2s\tremaining: 8.55s\n",
      "109:\tlearn: 0.2641183\ttotal: 10.4s\tremaining: 8.51s\n",
      "110:\tlearn: 0.2633035\ttotal: 10.6s\tremaining: 8.48s\n",
      "111:\tlearn: 0.2623915\ttotal: 10.7s\tremaining: 8.44s\n",
      "112:\tlearn: 0.2619291\ttotal: 10.8s\tremaining: 8.34s\n",
      "113:\tlearn: 0.2607336\ttotal: 10.9s\tremaining: 8.24s\n",
      "114:\tlearn: 0.2598669\ttotal: 11s\tremaining: 8.16s\n",
      "115:\tlearn: 0.2596473\ttotal: 11.1s\tremaining: 8.02s\n",
      "116:\tlearn: 0.2582869\ttotal: 11.1s\tremaining: 7.91s\n",
      "117:\tlearn: 0.2576735\ttotal: 11.2s\tremaining: 7.81s\n",
      "118:\tlearn: 0.2570161\ttotal: 11.3s\tremaining: 7.72s\n",
      "119:\tlearn: 0.2567084\ttotal: 11.5s\tremaining: 7.63s\n",
      "120:\tlearn: 0.2557713\ttotal: 11.6s\tremaining: 7.55s\n",
      "121:\tlearn: 0.2551027\ttotal: 11.6s\tremaining: 7.45s\n",
      "122:\tlearn: 0.2543836\ttotal: 11.7s\tremaining: 7.35s\n",
      "123:\tlearn: 0.2537877\ttotal: 11.8s\tremaining: 7.25s\n",
      "124:\tlearn: 0.2528526\ttotal: 11.9s\tremaining: 7.16s\n",
      "125:\tlearn: 0.2524055\ttotal: 12s\tremaining: 7.08s\n",
      "126:\tlearn: 0.2517296\ttotal: 12.1s\tremaining: 6.98s\n",
      "127:\tlearn: 0.2516540\ttotal: 12.2s\tremaining: 6.84s\n",
      "128:\tlearn: 0.2505286\ttotal: 12.2s\tremaining: 6.74s\n",
      "129:\tlearn: 0.2499341\ttotal: 12.4s\tremaining: 6.65s\n",
      "130:\tlearn: 0.2484755\ttotal: 12.5s\tremaining: 6.56s\n",
      "131:\tlearn: 0.2480601\ttotal: 12.6s\tremaining: 6.47s\n",
      "132:\tlearn: 0.2470665\ttotal: 12.7s\tremaining: 6.38s\n",
      "133:\tlearn: 0.2470632\ttotal: 12.7s\tremaining: 6.25s\n",
      "134:\tlearn: 0.2462345\ttotal: 12.8s\tremaining: 6.17s\n",
      "135:\tlearn: 0.2450498\ttotal: 12.9s\tremaining: 6.07s\n",
      "136:\tlearn: 0.2442126\ttotal: 13s\tremaining: 5.97s\n",
      "137:\tlearn: 0.2441426\ttotal: 13.1s\tremaining: 5.89s\n",
      "138:\tlearn: 0.2434722\ttotal: 13.2s\tremaining: 5.79s\n",
      "139:\tlearn: 0.2427386\ttotal: 13.3s\tremaining: 5.69s\n",
      "140:\tlearn: 0.2419646\ttotal: 13.4s\tremaining: 5.59s\n",
      "141:\tlearn: 0.2409667\ttotal: 13.5s\tremaining: 5.5s\n",
      "142:\tlearn: 0.2402890\ttotal: 13.6s\tremaining: 5.41s\n",
      "143:\tlearn: 0.2396925\ttotal: 13.7s\tremaining: 5.31s\n",
      "144:\tlearn: 0.2393522\ttotal: 13.8s\tremaining: 5.24s\n",
      "145:\tlearn: 0.2374330\ttotal: 14s\tremaining: 5.16s\n",
      "146:\tlearn: 0.2363281\ttotal: 14.1s\tremaining: 5.08s\n",
      "147:\tlearn: 0.2348055\ttotal: 14.3s\tremaining: 5.01s\n",
      "148:\tlearn: 0.2345835\ttotal: 14.5s\tremaining: 4.96s\n",
      "149:\tlearn: 0.2333400\ttotal: 14.7s\tremaining: 4.9s\n",
      "150:\tlearn: 0.2325130\ttotal: 14.9s\tremaining: 4.83s\n",
      "151:\tlearn: 0.2324370\ttotal: 15s\tremaining: 4.73s\n",
      "152:\tlearn: 0.2322740\ttotal: 15.1s\tremaining: 4.62s\n",
      "153:\tlearn: 0.2316861\ttotal: 15.3s\tremaining: 4.57s\n",
      "154:\tlearn: 0.2308385\ttotal: 15.6s\tremaining: 4.53s\n",
      "155:\tlearn: 0.2307320\ttotal: 15.8s\tremaining: 4.46s\n",
      "156:\tlearn: 0.2297890\ttotal: 16s\tremaining: 4.38s\n",
      "157:\tlearn: 0.2292580\ttotal: 16.2s\tremaining: 4.31s\n",
      "158:\tlearn: 0.2289615\ttotal: 16.4s\tremaining: 4.23s\n",
      "159:\tlearn: 0.2286763\ttotal: 16.6s\tremaining: 4.14s\n",
      "160:\tlearn: 0.2281278\ttotal: 16.7s\tremaining: 4.04s\n",
      "161:\tlearn: 0.2276666\ttotal: 16.8s\tremaining: 3.95s\n",
      "162:\tlearn: 0.2271787\ttotal: 17s\tremaining: 3.86s\n",
      "163:\tlearn: 0.2269764\ttotal: 17.1s\tremaining: 3.76s\n",
      "164:\tlearn: 0.2266593\ttotal: 17.2s\tremaining: 3.66s\n",
      "165:\tlearn: 0.2255985\ttotal: 17.4s\tremaining: 3.56s\n",
      "166:\tlearn: 0.2250218\ttotal: 17.5s\tremaining: 3.46s\n",
      "167:\tlearn: 0.2250197\ttotal: 17.5s\tremaining: 3.34s\n",
      "168:\tlearn: 0.2246584\ttotal: 17.6s\tremaining: 3.23s\n",
      "169:\tlearn: 0.2237964\ttotal: 17.8s\tremaining: 3.13s\n",
      "170:\tlearn: 0.2227171\ttotal: 17.9s\tremaining: 3.03s\n",
      "171:\tlearn: 0.2212597\ttotal: 18s\tremaining: 2.93s\n",
      "172:\tlearn: 0.2200785\ttotal: 18.1s\tremaining: 2.82s\n",
      "173:\tlearn: 0.2195089\ttotal: 18.2s\tremaining: 2.72s\n",
      "174:\tlearn: 0.2187493\ttotal: 18.4s\tremaining: 2.62s\n",
      "175:\tlearn: 0.2178212\ttotal: 18.5s\tremaining: 2.52s\n",
      "176:\tlearn: 0.2175837\ttotal: 18.6s\tremaining: 2.42s\n",
      "177:\tlearn: 0.2174341\ttotal: 18.7s\tremaining: 2.32s\n",
      "178:\tlearn: 0.2171035\ttotal: 18.9s\tremaining: 2.21s\n",
      "179:\tlearn: 0.2158428\ttotal: 19.1s\tremaining: 2.12s\n",
      "180:\tlearn: 0.2155237\ttotal: 19.2s\tremaining: 2.01s\n",
      "181:\tlearn: 0.2151321\ttotal: 19.3s\tremaining: 1.91s\n",
      "182:\tlearn: 0.2138532\ttotal: 19.4s\tremaining: 1.81s\n",
      "183:\tlearn: 0.2129333\ttotal: 19.6s\tremaining: 1.7s\n",
      "184:\tlearn: 0.2119105\ttotal: 19.7s\tremaining: 1.6s\n",
      "185:\tlearn: 0.2115443\ttotal: 19.9s\tremaining: 1.5s\n",
      "186:\tlearn: 0.2107567\ttotal: 20.1s\tremaining: 1.4s\n",
      "187:\tlearn: 0.2099168\ttotal: 20.3s\tremaining: 1.3s\n",
      "188:\tlearn: 0.2094728\ttotal: 20.6s\tremaining: 1.2s\n",
      "189:\tlearn: 0.2083782\ttotal: 20.9s\tremaining: 1.1s\n",
      "190:\tlearn: 0.2076276\ttotal: 21.2s\tremaining: 997ms\n",
      "191:\tlearn: 0.2064098\ttotal: 21.4s\tremaining: 890ms\n",
      "192:\tlearn: 0.2063056\ttotal: 21.6s\tremaining: 784ms\n",
      "193:\tlearn: 0.2060800\ttotal: 21.8s\tremaining: 675ms\n",
      "194:\tlearn: 0.2053938\ttotal: 22.1s\tremaining: 566ms\n",
      "195:\tlearn: 0.2043734\ttotal: 22.2s\tremaining: 454ms\n",
      "196:\tlearn: 0.2040998\ttotal: 22.3s\tremaining: 340ms\n",
      "197:\tlearn: 0.2037644\ttotal: 22.5s\tremaining: 227ms\n",
      "198:\tlearn: 0.2034747\ttotal: 22.7s\tremaining: 114ms\n",
      "199:\tlearn: 0.2027711\ttotal: 22.8s\tremaining: 0us\n",
      "Learning rate set to 0.026944\n",
      "0:\tlearn: 0.6709416\ttotal: 180ms\tremaining: 53.7s\n",
      "1:\tlearn: 0.6513006\ttotal: 215ms\tremaining: 32s\n",
      "2:\tlearn: 0.6329616\ttotal: 227ms\tremaining: 22.5s\n",
      "3:\tlearn: 0.6158444\ttotal: 238ms\tremaining: 17.6s\n",
      "4:\tlearn: 0.5988850\ttotal: 328ms\tremaining: 19.3s\n",
      "5:\tlearn: 0.5839963\ttotal: 351ms\tremaining: 17.2s\n",
      "6:\tlearn: 0.5661173\ttotal: 456ms\tremaining: 19.1s\n",
      "7:\tlearn: 0.5530910\ttotal: 549ms\tremaining: 20s\n",
      "8:\tlearn: 0.5377320\ttotal: 655ms\tremaining: 21.2s\n",
      "9:\tlearn: 0.5266161\ttotal: 680ms\tremaining: 19.7s\n",
      "10:\tlearn: 0.5159608\ttotal: 697ms\tremaining: 18.3s\n",
      "11:\tlearn: 0.5030850\ttotal: 765ms\tremaining: 18.4s\n",
      "12:\tlearn: 0.4940197\ttotal: 807ms\tremaining: 17.8s\n",
      "13:\tlearn: 0.4828387\ttotal: 865ms\tremaining: 17.7s\n",
      "14:\tlearn: 0.4751030\ttotal: 893ms\tremaining: 17s\n",
      "15:\tlearn: 0.4651998\ttotal: 1.04s\tremaining: 18.5s\n",
      "16:\tlearn: 0.4582010\ttotal: 1.14s\tremaining: 18.9s\n",
      "17:\tlearn: 0.4518573\ttotal: 1.18s\tremaining: 18.5s\n",
      "18:\tlearn: 0.4433936\ttotal: 1.29s\tremaining: 19.1s\n",
      "19:\tlearn: 0.4379377\ttotal: 1.37s\tremaining: 19.1s\n",
      "20:\tlearn: 0.4306799\ttotal: 1.48s\tremaining: 19.6s\n",
      "21:\tlearn: 0.4259812\ttotal: 1.52s\tremaining: 19.2s\n",
      "22:\tlearn: 0.4216219\ttotal: 1.54s\tremaining: 18.6s\n",
      "23:\tlearn: 0.4174870\ttotal: 1.56s\tremaining: 18s\n"
     ]
    },
    {
     "name": "stdout",
     "output_type": "stream",
     "text": [
      "24:\tlearn: 0.4137033\ttotal: 1.57s\tremaining: 17.3s\n",
      "25:\tlearn: 0.4097519\ttotal: 1.68s\tremaining: 17.7s\n",
      "26:\tlearn: 0.4054525\ttotal: 1.84s\tremaining: 18.6s\n",
      "27:\tlearn: 0.4019708\ttotal: 1.91s\tremaining: 18.5s\n",
      "28:\tlearn: 0.3986980\ttotal: 1.93s\tremaining: 18.1s\n",
      "29:\tlearn: 0.3933304\ttotal: 2.06s\tremaining: 18.5s\n",
      "30:\tlearn: 0.3908412\ttotal: 2.08s\tremaining: 18.1s\n",
      "31:\tlearn: 0.3872544\ttotal: 2.14s\tremaining: 17.9s\n",
      "32:\tlearn: 0.3834125\ttotal: 2.16s\tremaining: 17.5s\n",
      "33:\tlearn: 0.3792367\ttotal: 2.25s\tremaining: 17.6s\n",
      "34:\tlearn: 0.3773804\ttotal: 2.28s\tremaining: 17.3s\n",
      "35:\tlearn: 0.3751354\ttotal: 2.37s\tremaining: 17.4s\n",
      "36:\tlearn: 0.3734991\ttotal: 2.39s\tremaining: 17s\n",
      "37:\tlearn: 0.3707336\ttotal: 2.51s\tremaining: 17.3s\n",
      "38:\tlearn: 0.3679052\ttotal: 2.57s\tremaining: 17.2s\n",
      "39:\tlearn: 0.3646367\ttotal: 2.72s\tremaining: 17.7s\n",
      "40:\tlearn: 0.3618058\ttotal: 2.89s\tremaining: 18.3s\n",
      "41:\tlearn: 0.3594378\ttotal: 3.06s\tremaining: 18.8s\n",
      "42:\tlearn: 0.3575622\ttotal: 3.21s\tremaining: 19.2s\n",
      "43:\tlearn: 0.3552448\ttotal: 3.3s\tremaining: 19.2s\n",
      "44:\tlearn: 0.3536841\ttotal: 3.44s\tremaining: 19.5s\n",
      "45:\tlearn: 0.3527467\ttotal: 3.5s\tremaining: 19.3s\n",
      "46:\tlearn: 0.3503128\ttotal: 3.65s\tremaining: 19.6s\n",
      "47:\tlearn: 0.3484799\ttotal: 3.81s\tremaining: 20s\n",
      "48:\tlearn: 0.3460575\ttotal: 3.98s\tremaining: 20.4s\n",
      "49:\tlearn: 0.3454016\ttotal: 4.03s\tremaining: 20.1s\n",
      "50:\tlearn: 0.3437563\ttotal: 4.18s\tremaining: 20.4s\n",
      "51:\tlearn: 0.3417208\ttotal: 4.34s\tremaining: 20.7s\n",
      "52:\tlearn: 0.3407708\ttotal: 4.51s\tremaining: 21s\n",
      "53:\tlearn: 0.3388127\ttotal: 4.68s\tremaining: 21.3s\n",
      "54:\tlearn: 0.3368417\ttotal: 4.82s\tremaining: 21.5s\n",
      "55:\tlearn: 0.3363930\ttotal: 4.85s\tremaining: 21.1s\n",
      "56:\tlearn: 0.3359870\ttotal: 4.86s\tremaining: 20.7s\n",
      "57:\tlearn: 0.3339367\ttotal: 4.95s\tremaining: 20.7s\n",
      "58:\tlearn: 0.3323393\ttotal: 5.06s\tremaining: 20.7s\n",
      "59:\tlearn: 0.3314571\ttotal: 5.15s\tremaining: 20.6s\n",
      "60:\tlearn: 0.3300966\ttotal: 5.25s\tremaining: 20.6s\n",
      "61:\tlearn: 0.3290136\ttotal: 5.34s\tremaining: 20.5s\n",
      "62:\tlearn: 0.3278612\ttotal: 5.43s\tremaining: 20.4s\n",
      "63:\tlearn: 0.3276024\ttotal: 5.46s\tremaining: 20.1s\n",
      "64:\tlearn: 0.3262306\ttotal: 5.55s\tremaining: 20.1s\n",
      "65:\tlearn: 0.3254007\ttotal: 5.64s\tremaining: 20s\n",
      "66:\tlearn: 0.3240894\ttotal: 5.74s\tremaining: 20s\n",
      "67:\tlearn: 0.3235864\ttotal: 5.77s\tremaining: 19.7s\n",
      "68:\tlearn: 0.3234094\ttotal: 5.78s\tremaining: 19.4s\n",
      "69:\tlearn: 0.3225817\ttotal: 5.81s\tremaining: 19.1s\n",
      "70:\tlearn: 0.3218562\ttotal: 5.91s\tremaining: 19s\n",
      "71:\tlearn: 0.3211245\ttotal: 6.01s\tremaining: 19s\n",
      "72:\tlearn: 0.3201674\ttotal: 6.06s\tremaining: 18.8s\n",
      "73:\tlearn: 0.3196164\ttotal: 6.14s\tremaining: 18.8s\n",
      "74:\tlearn: 0.3189380\ttotal: 6.17s\tremaining: 18.5s\n",
      "75:\tlearn: 0.3177677\ttotal: 6.26s\tremaining: 18.5s\n",
      "76:\tlearn: 0.3170181\ttotal: 6.36s\tremaining: 18.4s\n",
      "77:\tlearn: 0.3149652\ttotal: 6.49s\tremaining: 18.5s\n",
      "78:\tlearn: 0.3133237\ttotal: 6.7s\tremaining: 18.7s\n",
      "79:\tlearn: 0.3125468\ttotal: 6.87s\tremaining: 18.9s\n",
      "80:\tlearn: 0.3114976\ttotal: 6.98s\tremaining: 18.9s\n",
      "81:\tlearn: 0.3107608\ttotal: 7.17s\tremaining: 19.1s\n",
      "82:\tlearn: 0.3101566\ttotal: 7.31s\tremaining: 19.1s\n",
      "83:\tlearn: 0.3097161\ttotal: 7.44s\tremaining: 19.1s\n",
      "84:\tlearn: 0.3092948\ttotal: 7.6s\tremaining: 19.2s\n",
      "85:\tlearn: 0.3091916\ttotal: 7.69s\tremaining: 19.1s\n",
      "86:\tlearn: 0.3086935\ttotal: 7.79s\tremaining: 19.1s\n",
      "87:\tlearn: 0.3068216\ttotal: 7.93s\tremaining: 19.1s\n",
      "88:\tlearn: 0.3058318\ttotal: 8.14s\tremaining: 19.3s\n",
      "89:\tlearn: 0.3051196\ttotal: 8.27s\tremaining: 19.3s\n",
      "90:\tlearn: 0.3047334\ttotal: 8.33s\tremaining: 19.1s\n",
      "91:\tlearn: 0.3043836\ttotal: 8.46s\tremaining: 19.1s\n",
      "92:\tlearn: 0.3040244\ttotal: 8.52s\tremaining: 19s\n",
      "93:\tlearn: 0.3034099\ttotal: 8.67s\tremaining: 19s\n",
      "94:\tlearn: 0.3026645\ttotal: 8.83s\tremaining: 19s\n",
      "95:\tlearn: 0.3021427\ttotal: 8.98s\tremaining: 19.1s\n",
      "96:\tlearn: 0.3010688\ttotal: 9.14s\tremaining: 19.1s\n",
      "97:\tlearn: 0.3005932\ttotal: 9.29s\tremaining: 19.2s\n",
      "98:\tlearn: 0.2996843\ttotal: 9.45s\tremaining: 19.2s\n",
      "99:\tlearn: 0.2994726\ttotal: 9.61s\tremaining: 19.2s\n",
      "100:\tlearn: 0.2984755\ttotal: 9.78s\tremaining: 19.3s\n",
      "101:\tlearn: 0.2978135\ttotal: 9.95s\tremaining: 19.3s\n",
      "102:\tlearn: 0.2969773\ttotal: 10.1s\tremaining: 19.4s\n",
      "103:\tlearn: 0.2962353\ttotal: 10.3s\tremaining: 19.4s\n",
      "104:\tlearn: 0.2959144\ttotal: 10.4s\tremaining: 19.4s\n",
      "105:\tlearn: 0.2948375\ttotal: 10.6s\tremaining: 19.3s\n",
      "106:\tlearn: 0.2946415\ttotal: 10.7s\tremaining: 19.2s\n",
      "107:\tlearn: 0.2938730\ttotal: 10.8s\tremaining: 19.1s\n",
      "108:\tlearn: 0.2931845\ttotal: 10.8s\tremaining: 19s\n",
      "109:\tlearn: 0.2925155\ttotal: 10.9s\tremaining: 18.9s\n",
      "110:\tlearn: 0.2912834\ttotal: 11s\tremaining: 18.8s\n",
      "111:\tlearn: 0.2912384\ttotal: 11.1s\tremaining: 18.6s\n",
      "112:\tlearn: 0.2909290\ttotal: 11.1s\tremaining: 18.4s\n",
      "113:\tlearn: 0.2902181\ttotal: 11.2s\tremaining: 18.3s\n",
      "114:\tlearn: 0.2901931\ttotal: 11.3s\tremaining: 18.1s\n",
      "115:\tlearn: 0.2894068\ttotal: 11.3s\tremaining: 18s\n",
      "116:\tlearn: 0.2887174\ttotal: 11.4s\tremaining: 17.9s\n",
      "117:\tlearn: 0.2876841\ttotal: 11.6s\tremaining: 17.8s\n",
      "118:\tlearn: 0.2872119\ttotal: 11.7s\tremaining: 17.8s\n",
      "119:\tlearn: 0.2862289\ttotal: 11.8s\tremaining: 17.7s\n",
      "120:\tlearn: 0.2861526\ttotal: 11.8s\tremaining: 17.5s\n",
      "121:\tlearn: 0.2861167\ttotal: 11.8s\tremaining: 17.3s\n",
      "122:\tlearn: 0.2848543\ttotal: 11.9s\tremaining: 17.1s\n",
      "123:\tlearn: 0.2846569\ttotal: 12.1s\tremaining: 17.1s\n",
      "124:\tlearn: 0.2839704\ttotal: 12.1s\tremaining: 17s\n",
      "125:\tlearn: 0.2837439\ttotal: 12.2s\tremaining: 16.8s\n",
      "126:\tlearn: 0.2832378\ttotal: 12.2s\tremaining: 16.7s\n",
      "127:\tlearn: 0.2823233\ttotal: 12.3s\tremaining: 16.6s\n",
      "128:\tlearn: 0.2817619\ttotal: 12.4s\tremaining: 16.5s\n",
      "129:\tlearn: 0.2813626\ttotal: 12.5s\tremaining: 16.4s\n",
      "130:\tlearn: 0.2811015\ttotal: 12.6s\tremaining: 16.3s\n",
      "131:\tlearn: 0.2810613\ttotal: 12.7s\tremaining: 16.1s\n",
      "132:\tlearn: 0.2808187\ttotal: 12.7s\tremaining: 16s\n",
      "133:\tlearn: 0.2802855\ttotal: 12.8s\tremaining: 15.8s\n",
      "134:\tlearn: 0.2802614\ttotal: 12.8s\tremaining: 15.7s\n",
      "135:\tlearn: 0.2798813\ttotal: 12.9s\tremaining: 15.6s\n",
      "136:\tlearn: 0.2793296\ttotal: 13s\tremaining: 15.5s\n",
      "137:\tlearn: 0.2788100\ttotal: 13.1s\tremaining: 15.4s\n",
      "138:\tlearn: 0.2779315\ttotal: 13.2s\tremaining: 15.3s\n",
      "139:\tlearn: 0.2771933\ttotal: 13.3s\tremaining: 15.2s\n",
      "140:\tlearn: 0.2762489\ttotal: 13.4s\tremaining: 15.1s\n",
      "141:\tlearn: 0.2758834\ttotal: 13.5s\tremaining: 15s\n",
      "142:\tlearn: 0.2758831\ttotal: 13.5s\tremaining: 14.8s\n",
      "143:\tlearn: 0.2752413\ttotal: 13.6s\tremaining: 14.7s\n",
      "144:\tlearn: 0.2747779\ttotal: 13.7s\tremaining: 14.7s\n",
      "145:\tlearn: 0.2740807\ttotal: 13.8s\tremaining: 14.6s\n",
      "146:\tlearn: 0.2736531\ttotal: 13.9s\tremaining: 14.5s\n",
      "147:\tlearn: 0.2731919\ttotal: 14.1s\tremaining: 14.5s\n",
      "148:\tlearn: 0.2725451\ttotal: 14.3s\tremaining: 14.5s\n",
      "149:\tlearn: 0.2723817\ttotal: 14.4s\tremaining: 14.4s\n",
      "150:\tlearn: 0.2717038\ttotal: 14.6s\tremaining: 14.4s\n",
      "151:\tlearn: 0.2707699\ttotal: 14.8s\tremaining: 14.4s\n",
      "152:\tlearn: 0.2703891\ttotal: 15s\tremaining: 14.4s\n",
      "153:\tlearn: 0.2699690\ttotal: 15.1s\tremaining: 14.3s\n",
      "154:\tlearn: 0.2698686\ttotal: 15.2s\tremaining: 14.2s\n",
      "155:\tlearn: 0.2693396\ttotal: 15.4s\tremaining: 14.2s\n",
      "156:\tlearn: 0.2689237\ttotal: 15.5s\tremaining: 14.1s\n",
      "157:\tlearn: 0.2683450\ttotal: 15.7s\tremaining: 14.1s\n",
      "158:\tlearn: 0.2678845\ttotal: 15.8s\tremaining: 14s\n",
      "159:\tlearn: 0.2677546\ttotal: 16s\tremaining: 14s\n",
      "160:\tlearn: 0.2670084\ttotal: 16.2s\tremaining: 13.9s\n",
      "161:\tlearn: 0.2662251\ttotal: 16.3s\tremaining: 13.9s\n",
      "162:\tlearn: 0.2656427\ttotal: 16.4s\tremaining: 13.8s\n",
      "163:\tlearn: 0.2646079\ttotal: 16.5s\tremaining: 13.7s\n",
      "164:\tlearn: 0.2643679\ttotal: 16.7s\tremaining: 13.7s\n",
      "165:\tlearn: 0.2637234\ttotal: 16.8s\tremaining: 13.6s\n",
      "166:\tlearn: 0.2628702\ttotal: 17s\tremaining: 13.6s\n",
      "167:\tlearn: 0.2625227\ttotal: 17.2s\tremaining: 13.5s\n",
      "168:\tlearn: 0.2624644\ttotal: 17.3s\tremaining: 13.4s\n",
      "169:\tlearn: 0.2624199\ttotal: 17.4s\tremaining: 13.3s\n",
      "170:\tlearn: 0.2617391\ttotal: 17.5s\tremaining: 13.2s\n",
      "171:\tlearn: 0.2609524\ttotal: 17.7s\tremaining: 13.2s\n",
      "172:\tlearn: 0.2604417\ttotal: 17.9s\tremaining: 13.1s\n",
      "173:\tlearn: 0.2599524\ttotal: 18.1s\tremaining: 13.1s\n",
      "174:\tlearn: 0.2598548\ttotal: 18.2s\tremaining: 13s\n",
      "175:\tlearn: 0.2594131\ttotal: 18.3s\tremaining: 12.9s\n",
      "176:\tlearn: 0.2587496\ttotal: 18.4s\tremaining: 12.8s\n",
      "177:\tlearn: 0.2587478\ttotal: 18.5s\tremaining: 12.7s\n",
      "178:\tlearn: 0.2584079\ttotal: 18.6s\tremaining: 12.6s\n",
      "179:\tlearn: 0.2582731\ttotal: 18.8s\tremaining: 12.5s\n",
      "180:\tlearn: 0.2578886\ttotal: 18.9s\tremaining: 12.5s\n",
      "181:\tlearn: 0.2575293\ttotal: 19.1s\tremaining: 12.4s\n",
      "182:\tlearn: 0.2571766\ttotal: 19.2s\tremaining: 12.3s\n",
      "183:\tlearn: 0.2564540\ttotal: 19.4s\tremaining: 12.2s\n",
      "184:\tlearn: 0.2560464\ttotal: 19.5s\tremaining: 12.1s\n",
      "185:\tlearn: 0.2559108\ttotal: 19.6s\tremaining: 12s\n"
     ]
    },
    {
     "name": "stdout",
     "output_type": "stream",
     "text": [
      "186:\tlearn: 0.2553568\ttotal: 19.7s\tremaining: 11.9s\n",
      "187:\tlearn: 0.2551196\ttotal: 19.9s\tremaining: 11.8s\n",
      "188:\tlearn: 0.2550395\ttotal: 20.1s\tremaining: 11.8s\n",
      "189:\tlearn: 0.2547528\ttotal: 20.3s\tremaining: 11.7s\n",
      "190:\tlearn: 0.2547441\ttotal: 20.3s\tremaining: 11.6s\n",
      "191:\tlearn: 0.2543618\ttotal: 20.5s\tremaining: 11.5s\n",
      "192:\tlearn: 0.2536573\ttotal: 20.7s\tremaining: 11.5s\n",
      "193:\tlearn: 0.2530790\ttotal: 20.9s\tremaining: 11.4s\n",
      "194:\tlearn: 0.2523821\ttotal: 21s\tremaining: 11.3s\n",
      "195:\tlearn: 0.2515422\ttotal: 21.2s\tremaining: 11.3s\n",
      "196:\tlearn: 0.2508466\ttotal: 21.4s\tremaining: 11.2s\n",
      "197:\tlearn: 0.2502425\ttotal: 21.5s\tremaining: 11.1s\n",
      "198:\tlearn: 0.2497470\ttotal: 21.7s\tremaining: 11s\n",
      "199:\tlearn: 0.2490990\ttotal: 21.8s\tremaining: 10.9s\n",
      "200:\tlearn: 0.2485704\ttotal: 21.9s\tremaining: 10.8s\n",
      "201:\tlearn: 0.2481854\ttotal: 22s\tremaining: 10.7s\n",
      "202:\tlearn: 0.2478119\ttotal: 22.2s\tremaining: 10.6s\n",
      "203:\tlearn: 0.2471754\ttotal: 22.3s\tremaining: 10.5s\n",
      "204:\tlearn: 0.2467863\ttotal: 22.4s\tremaining: 10.4s\n",
      "205:\tlearn: 0.2467789\ttotal: 22.4s\tremaining: 10.2s\n",
      "206:\tlearn: 0.2467722\ttotal: 22.4s\tremaining: 10.1s\n",
      "207:\tlearn: 0.2460820\ttotal: 22.6s\tremaining: 9.98s\n",
      "208:\tlearn: 0.2451238\ttotal: 22.7s\tremaining: 9.89s\n",
      "209:\tlearn: 0.2446530\ttotal: 22.9s\tremaining: 9.8s\n",
      "210:\tlearn: 0.2439918\ttotal: 23s\tremaining: 9.72s\n",
      "211:\tlearn: 0.2435699\ttotal: 23.2s\tremaining: 9.62s\n",
      "212:\tlearn: 0.2435507\ttotal: 23.2s\tremaining: 9.48s\n",
      "213:\tlearn: 0.2429517\ttotal: 23.3s\tremaining: 9.37s\n",
      "214:\tlearn: 0.2421926\ttotal: 23.5s\tremaining: 9.27s\n",
      "215:\tlearn: 0.2421490\ttotal: 23.5s\tremaining: 9.15s\n",
      "216:\tlearn: 0.2417693\ttotal: 23.6s\tremaining: 9.04s\n",
      "217:\tlearn: 0.2414022\ttotal: 23.7s\tremaining: 8.93s\n",
      "218:\tlearn: 0.2411102\ttotal: 23.8s\tremaining: 8.82s\n",
      "219:\tlearn: 0.2403177\ttotal: 24s\tremaining: 8.72s\n",
      "220:\tlearn: 0.2400620\ttotal: 24.1s\tremaining: 8.61s\n",
      "221:\tlearn: 0.2396458\ttotal: 24.2s\tremaining: 8.51s\n",
      "222:\tlearn: 0.2392104\ttotal: 24.3s\tremaining: 8.4s\n",
      "223:\tlearn: 0.2390047\ttotal: 24.5s\tremaining: 8.3s\n",
      "224:\tlearn: 0.2383309\ttotal: 24.6s\tremaining: 8.21s\n",
      "225:\tlearn: 0.2376237\ttotal: 24.7s\tremaining: 8.1s\n",
      "226:\tlearn: 0.2373228\ttotal: 24.9s\tremaining: 8s\n",
      "227:\tlearn: 0.2367751\ttotal: 25s\tremaining: 7.89s\n",
      "228:\tlearn: 0.2366588\ttotal: 25.1s\tremaining: 7.78s\n",
      "229:\tlearn: 0.2361876\ttotal: 25.2s\tremaining: 7.68s\n",
      "230:\tlearn: 0.2360807\ttotal: 25.3s\tremaining: 7.56s\n",
      "231:\tlearn: 0.2357603\ttotal: 25.5s\tremaining: 7.47s\n",
      "232:\tlearn: 0.2349920\ttotal: 25.7s\tremaining: 7.38s\n"
     ]
    },
    {
     "ename": "KeyboardInterrupt",
     "evalue": "",
     "output_type": "error",
     "traceback": [
      "\u001b[1;31m---------------------------------------------------------------------------\u001b[0m",
      "\u001b[1;31mKeyboardInterrupt\u001b[0m                         Traceback (most recent call last)",
      "Cell \u001b[1;32mIn [94], line 8\u001b[0m\n\u001b[0;32m      1\u001b[0m \u001b[38;5;28;01mfor\u001b[39;00m i \u001b[38;5;129;01min\u001b[39;00m \u001b[38;5;28mrange\u001b[39m(\u001b[38;5;241m100\u001b[39m, \u001b[38;5;241m500\u001b[39m, \u001b[38;5;241m100\u001b[39m):\n\u001b[0;32m      2\u001b[0m     boosting_model \u001b[38;5;241m=\u001b[39m catboost\u001b[38;5;241m.\u001b[39mCatBoostClassifier(\n\u001b[0;32m      3\u001b[0m         loss_function\u001b[38;5;241m=\u001b[39m\u001b[38;5;124m'\u001b[39m\u001b[38;5;124mMultiLogloss\u001b[39m\u001b[38;5;124m'\u001b[39m,\n\u001b[0;32m      4\u001b[0m         cat_features\u001b[38;5;241m=\u001b[39mcat_idx,\n\u001b[0;32m      5\u001b[0m         model_size_reg\u001b[38;5;241m=\u001b[39m\u001b[38;5;241m0\u001b[39m,\n\u001b[0;32m      6\u001b[0m         n_estimators \u001b[38;5;241m=\u001b[39m i\n\u001b[0;32m      7\u001b[0m     )\n\u001b[1;32m----> 8\u001b[0m     boosting_model\u001b[38;5;241m.\u001b[39mfit(x_train, y_train)\n",
      "File \u001b[1;32mC:\\git\\lab_data_science\\venv\\lib\\site-packages\\catboost\\core.py:5128\u001b[0m, in \u001b[0;36mCatBoostClassifier.fit\u001b[1;34m(self, X, y, cat_features, text_features, embedding_features, sample_weight, baseline, use_best_model, eval_set, verbose, logging_level, plot, plot_file, column_description, verbose_eval, metric_period, silent, early_stopping_rounds, save_snapshot, snapshot_file, snapshot_interval, init_model, callbacks, log_cout, log_cerr)\u001b[0m\n\u001b[0;32m   5125\u001b[0m \u001b[38;5;28;01mif\u001b[39;00m \u001b[38;5;124m'\u001b[39m\u001b[38;5;124mloss_function\u001b[39m\u001b[38;5;124m'\u001b[39m \u001b[38;5;129;01min\u001b[39;00m params:\n\u001b[0;32m   5126\u001b[0m     CatBoostClassifier\u001b[38;5;241m.\u001b[39m_check_is_compatible_loss(params[\u001b[38;5;124m'\u001b[39m\u001b[38;5;124mloss_function\u001b[39m\u001b[38;5;124m'\u001b[39m])\n\u001b[1;32m-> 5128\u001b[0m \u001b[38;5;28;43mself\u001b[39;49m\u001b[38;5;241;43m.\u001b[39;49m\u001b[43m_fit\u001b[49m\u001b[43m(\u001b[49m\u001b[43mX\u001b[49m\u001b[43m,\u001b[49m\u001b[43m \u001b[49m\u001b[43my\u001b[49m\u001b[43m,\u001b[49m\u001b[43m \u001b[49m\u001b[43mcat_features\u001b[49m\u001b[43m,\u001b[49m\u001b[43m \u001b[49m\u001b[43mtext_features\u001b[49m\u001b[43m,\u001b[49m\u001b[43m \u001b[49m\u001b[43membedding_features\u001b[49m\u001b[43m,\u001b[49m\u001b[43m \u001b[49m\u001b[38;5;28;43;01mNone\u001b[39;49;00m\u001b[43m,\u001b[49m\u001b[43m \u001b[49m\u001b[43msample_weight\u001b[49m\u001b[43m,\u001b[49m\u001b[43m \u001b[49m\u001b[38;5;28;43;01mNone\u001b[39;49;00m\u001b[43m,\u001b[49m\u001b[43m \u001b[49m\u001b[38;5;28;43;01mNone\u001b[39;49;00m\u001b[43m,\u001b[49m\u001b[43m \u001b[49m\u001b[38;5;28;43;01mNone\u001b[39;49;00m\u001b[43m,\u001b[49m\u001b[43m \u001b[49m\u001b[38;5;28;43;01mNone\u001b[39;49;00m\u001b[43m,\u001b[49m\u001b[43m \u001b[49m\u001b[43mbaseline\u001b[49m\u001b[43m,\u001b[49m\u001b[43m \u001b[49m\u001b[43muse_best_model\u001b[49m\u001b[43m,\u001b[49m\n\u001b[0;32m   5129\u001b[0m \u001b[43m          \u001b[49m\u001b[43meval_set\u001b[49m\u001b[43m,\u001b[49m\u001b[43m \u001b[49m\u001b[43mverbose\u001b[49m\u001b[43m,\u001b[49m\u001b[43m \u001b[49m\u001b[43mlogging_level\u001b[49m\u001b[43m,\u001b[49m\u001b[43m \u001b[49m\u001b[43mplot\u001b[49m\u001b[43m,\u001b[49m\u001b[43m \u001b[49m\u001b[43mplot_file\u001b[49m\u001b[43m,\u001b[49m\u001b[43m \u001b[49m\u001b[43mcolumn_description\u001b[49m\u001b[43m,\u001b[49m\u001b[43m \u001b[49m\u001b[43mverbose_eval\u001b[49m\u001b[43m,\u001b[49m\u001b[43m \u001b[49m\u001b[43mmetric_period\u001b[49m\u001b[43m,\u001b[49m\n\u001b[0;32m   5130\u001b[0m \u001b[43m          \u001b[49m\u001b[43msilent\u001b[49m\u001b[43m,\u001b[49m\u001b[43m \u001b[49m\u001b[43mearly_stopping_rounds\u001b[49m\u001b[43m,\u001b[49m\u001b[43m \u001b[49m\u001b[43msave_snapshot\u001b[49m\u001b[43m,\u001b[49m\u001b[43m \u001b[49m\u001b[43msnapshot_file\u001b[49m\u001b[43m,\u001b[49m\u001b[43m \u001b[49m\u001b[43msnapshot_interval\u001b[49m\u001b[43m,\u001b[49m\u001b[43m \u001b[49m\u001b[43minit_model\u001b[49m\u001b[43m,\u001b[49m\u001b[43m \u001b[49m\u001b[43mcallbacks\u001b[49m\u001b[43m,\u001b[49m\u001b[43m \u001b[49m\u001b[43mlog_cout\u001b[49m\u001b[43m,\u001b[49m\u001b[43m \u001b[49m\u001b[43mlog_cerr\u001b[49m\u001b[43m)\u001b[49m\n\u001b[0;32m   5131\u001b[0m \u001b[38;5;28;01mreturn\u001b[39;00m \u001b[38;5;28mself\u001b[39m\n",
      "File \u001b[1;32mC:\\git\\lab_data_science\\venv\\lib\\site-packages\\catboost\\core.py:2355\u001b[0m, in \u001b[0;36mCatBoost._fit\u001b[1;34m(self, X, y, cat_features, text_features, embedding_features, pairs, sample_weight, group_id, group_weight, subgroup_id, pairs_weight, baseline, use_best_model, eval_set, verbose, logging_level, plot, plot_file, column_description, verbose_eval, metric_period, silent, early_stopping_rounds, save_snapshot, snapshot_file, snapshot_interval, init_model, callbacks, log_cout, log_cerr)\u001b[0m\n\u001b[0;32m   2351\u001b[0m allow_clear_pool \u001b[38;5;241m=\u001b[39m train_params[\u001b[38;5;124m\"\u001b[39m\u001b[38;5;124mallow_clear_pool\u001b[39m\u001b[38;5;124m\"\u001b[39m]\n\u001b[0;32m   2353\u001b[0m \u001b[38;5;28;01mwith\u001b[39;00m log_fixup(log_cout, log_cerr), \\\n\u001b[0;32m   2354\u001b[0m     plot_wrapper(plot, plot_file, \u001b[38;5;124m'\u001b[39m\u001b[38;5;124mTraining plots\u001b[39m\u001b[38;5;124m'\u001b[39m, [_get_train_dir(\u001b[38;5;28mself\u001b[39m\u001b[38;5;241m.\u001b[39mget_params())]):\n\u001b[1;32m-> 2355\u001b[0m     \u001b[38;5;28;43mself\u001b[39;49m\u001b[38;5;241;43m.\u001b[39;49m\u001b[43m_train\u001b[49m\u001b[43m(\u001b[49m\n\u001b[0;32m   2356\u001b[0m \u001b[43m        \u001b[49m\u001b[43mtrain_pool\u001b[49m\u001b[43m,\u001b[49m\n\u001b[0;32m   2357\u001b[0m \u001b[43m        \u001b[49m\u001b[43mtrain_params\u001b[49m\u001b[43m[\u001b[49m\u001b[38;5;124;43m\"\u001b[39;49m\u001b[38;5;124;43meval_sets\u001b[39;49m\u001b[38;5;124;43m\"\u001b[39;49m\u001b[43m]\u001b[49m\u001b[43m,\u001b[49m\n\u001b[0;32m   2358\u001b[0m \u001b[43m        \u001b[49m\u001b[43mparams\u001b[49m\u001b[43m,\u001b[49m\n\u001b[0;32m   2359\u001b[0m \u001b[43m        \u001b[49m\u001b[43mallow_clear_pool\u001b[49m\u001b[43m,\u001b[49m\n\u001b[0;32m   2360\u001b[0m \u001b[43m        \u001b[49m\u001b[43mtrain_params\u001b[49m\u001b[43m[\u001b[49m\u001b[38;5;124;43m\"\u001b[39;49m\u001b[38;5;124;43minit_model\u001b[39;49m\u001b[38;5;124;43m\"\u001b[39;49m\u001b[43m]\u001b[49m\n\u001b[0;32m   2361\u001b[0m \u001b[43m    \u001b[49m\u001b[43m)\u001b[49m\n\u001b[0;32m   2363\u001b[0m \u001b[38;5;66;03m# Have property feature_importance possibly set\u001b[39;00m\n\u001b[0;32m   2364\u001b[0m loss \u001b[38;5;241m=\u001b[39m \u001b[38;5;28mself\u001b[39m\u001b[38;5;241m.\u001b[39m_object\u001b[38;5;241m.\u001b[39m_get_loss_function_name()\n",
      "File \u001b[1;32mC:\\git\\lab_data_science\\venv\\lib\\site-packages\\catboost\\core.py:1759\u001b[0m, in \u001b[0;36m_CatBoostBase._train\u001b[1;34m(self, train_pool, test_pool, params, allow_clear_pool, init_model)\u001b[0m\n\u001b[0;32m   1758\u001b[0m \u001b[38;5;28;01mdef\u001b[39;00m \u001b[38;5;21m_train\u001b[39m(\u001b[38;5;28mself\u001b[39m, train_pool, test_pool, params, allow_clear_pool, init_model):\n\u001b[1;32m-> 1759\u001b[0m     \u001b[38;5;28;43mself\u001b[39;49m\u001b[38;5;241;43m.\u001b[39;49m\u001b[43m_object\u001b[49m\u001b[38;5;241;43m.\u001b[39;49m\u001b[43m_train\u001b[49m\u001b[43m(\u001b[49m\u001b[43mtrain_pool\u001b[49m\u001b[43m,\u001b[49m\u001b[43m \u001b[49m\u001b[43mtest_pool\u001b[49m\u001b[43m,\u001b[49m\u001b[43m \u001b[49m\u001b[43mparams\u001b[49m\u001b[43m,\u001b[49m\u001b[43m \u001b[49m\u001b[43mallow_clear_pool\u001b[49m\u001b[43m,\u001b[49m\u001b[43m \u001b[49m\u001b[43minit_model\u001b[49m\u001b[38;5;241;43m.\u001b[39;49m\u001b[43m_object\u001b[49m\u001b[43m \u001b[49m\u001b[38;5;28;43;01mif\u001b[39;49;00m\u001b[43m \u001b[49m\u001b[43minit_model\u001b[49m\u001b[43m \u001b[49m\u001b[38;5;28;43;01melse\u001b[39;49;00m\u001b[43m \u001b[49m\u001b[38;5;28;43;01mNone\u001b[39;49;00m\u001b[43m)\u001b[49m\n\u001b[0;32m   1760\u001b[0m     \u001b[38;5;28mself\u001b[39m\u001b[38;5;241m.\u001b[39m_set_trained_model_attributes()\n",
      "File \u001b[1;32m_catboost.pyx:4622\u001b[0m, in \u001b[0;36m_catboost._CatBoost._train\u001b[1;34m()\u001b[0m\n",
      "File \u001b[1;32m_catboost.pyx:4671\u001b[0m, in \u001b[0;36m_catboost._CatBoost._train\u001b[1;34m()\u001b[0m\n",
      "\u001b[1;31mKeyboardInterrupt\u001b[0m: "
     ]
    }
   ],
   "source": [
    "for i in range(100, 500, 100):\n",
    "    boosting_model = catboost.CatBoostClassifier(\n",
    "        loss_function='MultiLogloss',\n",
    "        cat_features=cat_idx,\n",
    "        model_size_reg=0,\n",
    "        n_estimators = i\n",
    "    )\n",
    "    boosting_model.fit(x_train, y_train)\n",
    "    "
   ]
  },
  {
   "cell_type": "code",
   "execution_count": 64,
   "metadata": {},
   "outputs": [],
   "source": [
    "from sklearn.model_selection import KFold\n",
    "from catboost import Pool"
   ]
  },
  {
   "cell_type": "code",
   "execution_count": null,
   "metadata": {},
   "outputs": [],
   "source": [
    "#Так как крайне важно правильно предсказать наличие смертельной болезни, для нашей задачи хорошо подойдет метрика recall, показывающая долю верно предсказанных болезней. Также, чтобы выявить количество ложно положительных результатов(то есть случаев, когда модель выявила болезнь у здорового человека), можно использовать метрику presicion. В ккачестве метрики, объединяющей две предыдущие, возьмем roc_auc. "
   ]
  },
  {
   "cell_type": "code",
   "execution_count": null,
   "metadata": {
    "scrolled": true
   },
   "outputs": [],
   "source": [
    "catboost_pipeline = Pipeline([('column_filler', empty_column_filler()),\n",
    "                              ('model', catboost.CatBoostClassifier(\n",
    "                                            loss_function='MultiLogloss',\n",
    "                                            cat_features=cat_idx,\n",
    "                                            verbose=25\n",
    "                                            )\n",
    "                              )\n",
    "                             ])\n",
    "\n",
    "catboost_pipeline.fit(x_train, y_train)"
   ]
  },
  {
   "cell_type": "code",
   "execution_count": null,
   "metadata": {},
   "outputs": [],
   "source": [
    "preds = catboost_pipeline.predict(x_val)"
   ]
  },
  {
   "cell_type": "code",
   "execution_count": 126,
   "metadata": {},
   "outputs": [],
   "source": [
    "def count_metrics(y_test, preds):\n",
    "    print(precision_score(y_test, preds, average='micro'))\n",
    "    print(recall_score(y_test, preds, average='micro'))\n",
    "    print(f1_score(y_test, preds, average='micro'))\n",
    "    print(roc_auc_score(y_test, preds, average='micro'))"
   ]
  },
  {
   "cell_type": "code",
   "execution_count": null,
   "metadata": {},
   "outputs": [],
   "source": [
    "count_metrics(y_val, preds)"
   ]
  },
  {
   "cell_type": "code",
   "execution_count": 39,
   "metadata": {},
   "outputs": [],
   "source": [
    "from sklearn.linear_model import LogisticRegression\n",
    "from sklearn.ensemble import RandomForestClassifier\n",
    "from sklearn.multioutput import MultiOutputClassifier"
   ]
  },
  {
   "cell_type": "code",
   "execution_count": null,
   "metadata": {},
   "outputs": [],
   "source": [
    "fCl_target_encode = MultiOutputClassifier(LogisticRegression()).fit(target_encoded_x_train, y_train)\n",
    "# fCl = MultiOutputClassifier(RandomForestClassifier()).fit(x_train, y_train)"
   ]
  },
  {
   "cell_type": "code",
   "execution_count": null,
   "metadata": {},
   "outputs": [],
   "source": [
    "target_encoded_test = target_encoding(cfg.CAT_COLS, x_test, test=True)\n",
    "target_encoded_test = fill_real_cols(target_encoded_test)\n",
    "preds = fCl_target_encode.predict(target_encoded_test)"
   ]
  },
  {
   "cell_type": "code",
   "execution_count": null,
   "metadata": {},
   "outputs": [],
   "source": [
    "count_metrics(y_test, preds)"
   ]
  },
  {
   "cell_type": "markdown",
   "metadata": {},
   "source": []
  }
 ],
 "metadata": {
  "kernelspec": {
   "display_name": "venv",
   "language": "python",
   "name": "venv"
  },
  "language_info": {
   "codemirror_mode": {
    "name": "ipython",
    "version": 3
   },
   "file_extension": ".py",
   "mimetype": "text/x-python",
   "name": "python",
   "nbconvert_exporter": "python",
   "pygments_lexer": "ipython3",
   "version": "3.9.6"
  }
 },
 "nbformat": 4,
 "nbformat_minor": 2
}
